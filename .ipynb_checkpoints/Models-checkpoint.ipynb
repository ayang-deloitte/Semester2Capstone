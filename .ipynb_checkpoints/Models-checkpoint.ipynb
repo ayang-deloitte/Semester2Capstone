{
 "cells": [
  {
   "cell_type": "code",
   "execution_count": 146,
   "metadata": {
    "ExecuteTime": {
     "end_time": "2023-01-03T18:25:13.534234Z",
     "start_time": "2023-01-03T18:25:13.529268Z"
    }
   },
   "outputs": [],
   "source": [
    "import pandas as pd\n",
    "import numpy as np\n"
   ]
  },
  {
   "cell_type": "markdown",
   "metadata": {},
   "source": [
    "# Import Data"
   ]
  },
  {
   "cell_type": "code",
   "execution_count": 147,
   "metadata": {
    "ExecuteTime": {
     "end_time": "2023-01-03T18:25:13.999691Z",
     "start_time": "2023-01-03T18:25:13.976355Z"
    }
   },
   "outputs": [],
   "source": [
    "data = pd.read_csv(\"data/data_clean.csv\", index_col = False)"
   ]
  },
  {
   "cell_type": "code",
   "execution_count": 148,
   "metadata": {
    "ExecuteTime": {
     "end_time": "2023-01-03T18:25:14.185831Z",
     "start_time": "2023-01-03T18:25:14.177419Z"
    }
   },
   "outputs": [],
   "source": [
    "categories = [\"property_type\",\"product_depth\"]\n",
    "data[categories] = data[categories].apply(lambda x: x.astype(\"category\"))"
   ]
  },
  {
   "cell_type": "code",
   "execution_count": 149,
   "metadata": {
    "ExecuteTime": {
     "end_time": "2023-01-03T18:25:14.419683Z",
     "start_time": "2023-01-03T18:25:14.409785Z"
    }
   },
   "outputs": [
    {
     "data": {
      "text/plain": [
       "building_size      float64\n",
       "land_size          float64\n",
       "price              float64\n",
       "bedroom_count      float64\n",
       "bathroom_count     float64\n",
       "parking_count      float64\n",
       "property_type     category\n",
       "product_depth     category\n",
       "dtype: object"
      ]
     },
     "execution_count": 149,
     "metadata": {},
     "output_type": "execute_result"
    }
   ],
   "source": [
    "data.dtypes"
   ]
  },
  {
   "cell_type": "code",
   "execution_count": 150,
   "metadata": {
    "ExecuteTime": {
     "end_time": "2023-01-03T18:25:14.824259Z",
     "start_time": "2023-01-03T18:25:14.782244Z"
    }
   },
   "outputs": [
    {
     "data": {
      "text/html": [
       "<div>\n",
       "<style scoped>\n",
       "    .dataframe tbody tr th:only-of-type {\n",
       "        vertical-align: middle;\n",
       "    }\n",
       "\n",
       "    .dataframe tbody tr th {\n",
       "        vertical-align: top;\n",
       "    }\n",
       "\n",
       "    .dataframe thead th {\n",
       "        text-align: right;\n",
       "    }\n",
       "</style>\n",
       "<table border=\"1\" class=\"dataframe\">\n",
       "  <thead>\n",
       "    <tr style=\"text-align: right;\">\n",
       "      <th></th>\n",
       "      <th>building_size</th>\n",
       "      <th>land_size</th>\n",
       "      <th>price</th>\n",
       "      <th>bedroom_count</th>\n",
       "      <th>bathroom_count</th>\n",
       "      <th>parking_count</th>\n",
       "      <th>property_type</th>\n",
       "      <th>product_depth</th>\n",
       "    </tr>\n",
       "  </thead>\n",
       "  <tbody>\n",
       "    <tr>\n",
       "      <th>0</th>\n",
       "      <td>213.0</td>\n",
       "      <td>801.0</td>\n",
       "      <td>435000.0</td>\n",
       "      <td>2.0</td>\n",
       "      <td>1.0</td>\n",
       "      <td>1.0</td>\n",
       "      <td>House</td>\n",
       "      <td>premiere</td>\n",
       "    </tr>\n",
       "    <tr>\n",
       "      <th>1</th>\n",
       "      <td>171.0</td>\n",
       "      <td>164.5</td>\n",
       "      <td>320000.0</td>\n",
       "      <td>3.0</td>\n",
       "      <td>2.0</td>\n",
       "      <td>2.0</td>\n",
       "      <td>Apartment</td>\n",
       "      <td>premiere</td>\n",
       "    </tr>\n",
       "    <tr>\n",
       "      <th>2</th>\n",
       "      <td>98.0</td>\n",
       "      <td>127.0</td>\n",
       "      <td>310000.0</td>\n",
       "      <td>2.0</td>\n",
       "      <td>1.0</td>\n",
       "      <td>1.0</td>\n",
       "      <td>Unit</td>\n",
       "      <td>premiere</td>\n",
       "    </tr>\n",
       "    <tr>\n",
       "      <th>3</th>\n",
       "      <td>213.0</td>\n",
       "      <td>801.0</td>\n",
       "      <td>259000.0</td>\n",
       "      <td>1.0</td>\n",
       "      <td>1.0</td>\n",
       "      <td>0.0</td>\n",
       "      <td>House</td>\n",
       "      <td>premiere</td>\n",
       "    </tr>\n",
       "    <tr>\n",
       "      <th>4</th>\n",
       "      <td>201.0</td>\n",
       "      <td>127.0</td>\n",
       "      <td>439000.0</td>\n",
       "      <td>3.0</td>\n",
       "      <td>2.0</td>\n",
       "      <td>2.0</td>\n",
       "      <td>Unit</td>\n",
       "      <td>premiere</td>\n",
       "    </tr>\n",
       "    <tr>\n",
       "      <th>...</th>\n",
       "      <td>...</td>\n",
       "      <td>...</td>\n",
       "      <td>...</td>\n",
       "      <td>...</td>\n",
       "      <td>...</td>\n",
       "      <td>...</td>\n",
       "      <td>...</td>\n",
       "      <td>...</td>\n",
       "    </tr>\n",
       "    <tr>\n",
       "      <th>671</th>\n",
       "      <td>213.0</td>\n",
       "      <td>801.0</td>\n",
       "      <td>495000.0</td>\n",
       "      <td>4.0</td>\n",
       "      <td>2.0</td>\n",
       "      <td>2.0</td>\n",
       "      <td>House</td>\n",
       "      <td>feature</td>\n",
       "    </tr>\n",
       "    <tr>\n",
       "      <th>672</th>\n",
       "      <td>203.0</td>\n",
       "      <td>600.0</td>\n",
       "      <td>601000.0</td>\n",
       "      <td>4.0</td>\n",
       "      <td>2.0</td>\n",
       "      <td>2.0</td>\n",
       "      <td>House</td>\n",
       "      <td>standard</td>\n",
       "    </tr>\n",
       "    <tr>\n",
       "      <th>673</th>\n",
       "      <td>209.6</td>\n",
       "      <td>800.0</td>\n",
       "      <td>655000.0</td>\n",
       "      <td>4.0</td>\n",
       "      <td>2.0</td>\n",
       "      <td>2.0</td>\n",
       "      <td>House</td>\n",
       "      <td>standard</td>\n",
       "    </tr>\n",
       "    <tr>\n",
       "      <th>674</th>\n",
       "      <td>180.0</td>\n",
       "      <td>450.0</td>\n",
       "      <td>675000.0</td>\n",
       "      <td>4.0</td>\n",
       "      <td>2.0</td>\n",
       "      <td>3.0</td>\n",
       "      <td>House</td>\n",
       "      <td>standard</td>\n",
       "    </tr>\n",
       "    <tr>\n",
       "      <th>675</th>\n",
       "      <td>120.0</td>\n",
       "      <td>127.0</td>\n",
       "      <td>399000.0</td>\n",
       "      <td>2.0</td>\n",
       "      <td>2.0</td>\n",
       "      <td>2.0</td>\n",
       "      <td>Unit</td>\n",
       "      <td>feature</td>\n",
       "    </tr>\n",
       "  </tbody>\n",
       "</table>\n",
       "<p>676 rows × 8 columns</p>\n",
       "</div>"
      ],
      "text/plain": [
       "     building_size  land_size     price  bedroom_count  bathroom_count  \\\n",
       "0            213.0      801.0  435000.0            2.0             1.0   \n",
       "1            171.0      164.5  320000.0            3.0             2.0   \n",
       "2             98.0      127.0  310000.0            2.0             1.0   \n",
       "3            213.0      801.0  259000.0            1.0             1.0   \n",
       "4            201.0      127.0  439000.0            3.0             2.0   \n",
       "..             ...        ...       ...            ...             ...   \n",
       "671          213.0      801.0  495000.0            4.0             2.0   \n",
       "672          203.0      600.0  601000.0            4.0             2.0   \n",
       "673          209.6      800.0  655000.0            4.0             2.0   \n",
       "674          180.0      450.0  675000.0            4.0             2.0   \n",
       "675          120.0      127.0  399000.0            2.0             2.0   \n",
       "\n",
       "     parking_count property_type product_depth  \n",
       "0              1.0         House      premiere  \n",
       "1              2.0     Apartment      premiere  \n",
       "2              1.0          Unit      premiere  \n",
       "3              0.0         House      premiere  \n",
       "4              2.0          Unit      premiere  \n",
       "..             ...           ...           ...  \n",
       "671            2.0         House       feature  \n",
       "672            2.0         House      standard  \n",
       "673            2.0         House      standard  \n",
       "674            3.0         House      standard  \n",
       "675            2.0          Unit       feature  \n",
       "\n",
       "[676 rows x 8 columns]"
      ]
     },
     "execution_count": 150,
     "metadata": {},
     "output_type": "execute_result"
    }
   ],
   "source": [
    "data"
   ]
  },
  {
   "cell_type": "code",
   "execution_count": 151,
   "metadata": {
    "ExecuteTime": {
     "end_time": "2023-01-03T18:25:15.413925Z",
     "start_time": "2023-01-03T18:25:15.407857Z"
    }
   },
   "outputs": [],
   "source": [
    "X = data.drop(\"price\", axis = 1)\n",
    "y = data[\"price\"]"
   ]
  },
  {
   "cell_type": "code",
   "execution_count": 152,
   "metadata": {
    "ExecuteTime": {
     "end_time": "2023-01-03T18:25:16.007280Z",
     "start_time": "2023-01-03T18:25:15.990363Z"
    }
   },
   "outputs": [
    {
     "data": {
      "text/plain": [
       "House                   293\n",
       "Unit                    178\n",
       "Apartment               164\n",
       "Townhouse                25\n",
       "Duplex/Semi-detached     16\n",
       "Name: property_type, dtype: int64"
      ]
     },
     "execution_count": 152,
     "metadata": {},
     "output_type": "execute_result"
    }
   ],
   "source": [
    "data[\"property_type\"].value_counts()"
   ]
  },
  {
   "cell_type": "code",
   "execution_count": 153,
   "metadata": {
    "ExecuteTime": {
     "end_time": "2023-01-03T18:25:16.862470Z",
     "start_time": "2023-01-03T18:25:16.839534Z"
    }
   },
   "outputs": [
    {
     "data": {
      "text/plain": [
       "premiere    411\n",
       "feature     141\n",
       "standard    124\n",
       "Name: product_depth, dtype: int64"
      ]
     },
     "execution_count": 153,
     "metadata": {},
     "output_type": "execute_result"
    }
   ],
   "source": [
    "data[\"product_depth\"].value_counts()"
   ]
  },
  {
   "cell_type": "code",
   "execution_count": 171,
   "metadata": {
    "ExecuteTime": {
     "end_time": "2023-01-03T18:51:30.101518Z",
     "start_time": "2023-01-03T18:51:30.086319Z"
    }
   },
   "outputs": [
    {
     "data": {
      "text/plain": [
       "building_size     0\n",
       "land_size         0\n",
       "price             0\n",
       "bedroom_count     0\n",
       "bathroom_count    0\n",
       "parking_count     0\n",
       "property_type     0\n",
       "product_depth     0\n",
       "dtype: int64"
      ]
     },
     "execution_count": 171,
     "metadata": {},
     "output_type": "execute_result"
    }
   ],
   "source": [
    "data.isna().sum()"
   ]
  },
  {
   "cell_type": "markdown",
   "metadata": {},
   "source": [
    "# Data Pipeline(s)"
   ]
  },
  {
   "cell_type": "code",
   "execution_count": 154,
   "metadata": {
    "ExecuteTime": {
     "end_time": "2023-01-03T18:25:18.485781Z",
     "start_time": "2023-01-03T18:25:18.475960Z"
    }
   },
   "outputs": [],
   "source": [
    "from sklearn.preprocessing import StandardScaler, OneHotEncoder\n",
    "from sklearn.compose import ColumnTransformer\n",
    "from sklearn.model_selection import train_test_split\n",
    "from sklearn.pipeline import Pipeline\n",
    "from sklearn.linear_model import LinearRegression"
   ]
  },
  {
   "cell_type": "code",
   "execution_count": 172,
   "metadata": {
    "ExecuteTime": {
     "end_time": "2023-01-03T18:52:09.002011Z",
     "start_time": "2023-01-03T18:52:08.992044Z"
    }
   },
   "outputs": [],
   "source": [
    "X_train, X_test, y_train, y_test = train_test_split(X, y, test_size = 0.25, random_state = 123)"
   ]
  },
  {
   "cell_type": "code",
   "execution_count": 174,
   "metadata": {
    "ExecuteTime": {
     "end_time": "2023-01-03T18:52:22.358081Z",
     "start_time": "2023-01-03T18:52:22.333107Z"
    }
   },
   "outputs": [
    {
     "data": {
      "text/html": [
       "<div>\n",
       "<style scoped>\n",
       "    .dataframe tbody tr th:only-of-type {\n",
       "        vertical-align: middle;\n",
       "    }\n",
       "\n",
       "    .dataframe tbody tr th {\n",
       "        vertical-align: top;\n",
       "    }\n",
       "\n",
       "    .dataframe thead th {\n",
       "        text-align: right;\n",
       "    }\n",
       "</style>\n",
       "<table border=\"1\" class=\"dataframe\">\n",
       "  <thead>\n",
       "    <tr style=\"text-align: right;\">\n",
       "      <th></th>\n",
       "      <th>building_size</th>\n",
       "      <th>land_size</th>\n",
       "      <th>bedroom_count</th>\n",
       "      <th>bathroom_count</th>\n",
       "      <th>parking_count</th>\n",
       "      <th>property_type</th>\n",
       "      <th>product_depth</th>\n",
       "    </tr>\n",
       "  </thead>\n",
       "  <tbody>\n",
       "    <tr>\n",
       "      <th>36</th>\n",
       "      <td>130.0</td>\n",
       "      <td>164.5</td>\n",
       "      <td>2.0</td>\n",
       "      <td>2.0</td>\n",
       "      <td>2.0</td>\n",
       "      <td>Apartment</td>\n",
       "      <td>premiere</td>\n",
       "    </tr>\n",
       "    <tr>\n",
       "      <th>45</th>\n",
       "      <td>135.0</td>\n",
       "      <td>164.5</td>\n",
       "      <td>2.0</td>\n",
       "      <td>2.0</td>\n",
       "      <td>1.0</td>\n",
       "      <td>Apartment</td>\n",
       "      <td>feature</td>\n",
       "    </tr>\n",
       "    <tr>\n",
       "      <th>628</th>\n",
       "      <td>213.0</td>\n",
       "      <td>801.0</td>\n",
       "      <td>3.0</td>\n",
       "      <td>1.0</td>\n",
       "      <td>2.0</td>\n",
       "      <td>House</td>\n",
       "      <td>premiere</td>\n",
       "    </tr>\n",
       "    <tr>\n",
       "      <th>156</th>\n",
       "      <td>213.0</td>\n",
       "      <td>450.0</td>\n",
       "      <td>4.0</td>\n",
       "      <td>2.0</td>\n",
       "      <td>2.0</td>\n",
       "      <td>House</td>\n",
       "      <td>premiere</td>\n",
       "    </tr>\n",
       "    <tr>\n",
       "      <th>41</th>\n",
       "      <td>135.0</td>\n",
       "      <td>260.0</td>\n",
       "      <td>3.0</td>\n",
       "      <td>2.0</td>\n",
       "      <td>2.0</td>\n",
       "      <td>Apartment</td>\n",
       "      <td>premiere</td>\n",
       "    </tr>\n",
       "  </tbody>\n",
       "</table>\n",
       "</div>"
      ],
      "text/plain": [
       "     building_size  land_size  bedroom_count  bathroom_count  parking_count  \\\n",
       "36           130.0      164.5            2.0             2.0            2.0   \n",
       "45           135.0      164.5            2.0             2.0            1.0   \n",
       "628          213.0      801.0            3.0             1.0            2.0   \n",
       "156          213.0      450.0            4.0             2.0            2.0   \n",
       "41           135.0      260.0            3.0             2.0            2.0   \n",
       "\n",
       "    property_type product_depth  \n",
       "36      Apartment      premiere  \n",
       "45      Apartment       feature  \n",
       "628         House      premiere  \n",
       "156         House      premiere  \n",
       "41      Apartment      premiere  "
      ]
     },
     "execution_count": 174,
     "metadata": {},
     "output_type": "execute_result"
    }
   ],
   "source": [
    "X_train.head()"
   ]
  },
  {
   "cell_type": "code",
   "execution_count": 175,
   "metadata": {
    "ExecuteTime": {
     "end_time": "2023-01-03T18:52:48.770459Z",
     "start_time": "2023-01-03T18:52:48.757646Z"
    }
   },
   "outputs": [],
   "source": [
    "# set up scaling step for numerical columns\n",
    "nums = X.drop(categories, axis = 1).columns\n",
    "num_trans = Pipeline(\n",
    "    steps = [(\"scaler\", StandardScaler())]\n",
    ")"
   ]
  },
  {
   "cell_type": "code",
   "execution_count": 176,
   "metadata": {
    "ExecuteTime": {
     "end_time": "2023-01-03T18:52:49.111705Z",
     "start_time": "2023-01-03T18:52:49.099520Z"
    }
   },
   "outputs": [],
   "source": [
    "# set up one hot encoder for categorical variables\n",
    "cat_trans = OneHotEncoder(handle_unknown = \"ignore\")"
   ]
  },
  {
   "cell_type": "code",
   "execution_count": 177,
   "metadata": {
    "ExecuteTime": {
     "end_time": "2023-01-03T18:52:49.550043Z",
     "start_time": "2023-01-03T18:52:49.536489Z"
    }
   },
   "outputs": [],
   "source": [
    "# combine scaling and encoding into a single column transformer\n",
    "processor = ColumnTransformer(\n",
    "    transformers = [\n",
    "        (\"num\", num_trans, nums),\n",
    "        (\"cat\", cat_trans, categories)\n",
    "    ]\n",
    "\n",
    ")"
   ]
  },
  {
   "cell_type": "markdown",
   "metadata": {
    "ExecuteTime": {
     "end_time": "2023-01-03T21:54:03.980418Z",
     "start_time": "2023-01-03T21:54:03.962603Z"
    }
   },
   "source": [
    "# Models"
   ]
  },
  {
   "cell_type": "markdown",
   "metadata": {},
   "source": [
    "## Baseline Model (Linear)"
   ]
  },
  {
   "cell_type": "code",
   "execution_count": 513,
   "metadata": {
    "ExecuteTime": {
     "end_time": "2023-01-03T21:49:40.816924Z",
     "start_time": "2023-01-03T21:49:40.807032Z"
    }
   },
   "outputs": [],
   "source": [
    "from sklearn.metrics import mean_squared_error, mean_absolute_error, r2_score\n"
   ]
  },
  {
   "cell_type": "code",
   "execution_count": 514,
   "metadata": {
    "ExecuteTime": {
     "end_time": "2023-01-03T21:49:42.429756Z",
     "start_time": "2023-01-03T21:49:42.415302Z"
    }
   },
   "outputs": [],
   "source": [
    "# linear pipeline\n",
    "lm = Pipeline(\n",
    "    steps = [(\"preprocessor\", processor), (\"lm\", LinearRegression())]\n",
    ")"
   ]
  },
  {
   "cell_type": "code",
   "execution_count": 515,
   "metadata": {
    "ExecuteTime": {
     "end_time": "2023-01-03T21:49:50.054164Z",
     "start_time": "2023-01-03T21:49:49.992775Z"
    }
   },
   "outputs": [
    {
     "data": {
      "text/plain": [
       "Pipeline(steps=[('preprocessor',\n",
       "                 ColumnTransformer(transformers=[('num',\n",
       "                                                  Pipeline(steps=[('scaler',\n",
       "                                                                   StandardScaler())]),\n",
       "                                                  Index(['building_size', 'land_size', 'bedroom_count', 'bathroom_count',\n",
       "       'parking_count'],\n",
       "      dtype='object')),\n",
       "                                                 ('cat',\n",
       "                                                  OneHotEncoder(handle_unknown='ignore'),\n",
       "                                                  ['property_type',\n",
       "                                                   'product_depth'])])),\n",
       "                ('lm', LinearRegression())])"
      ]
     },
     "execution_count": 515,
     "metadata": {},
     "output_type": "execute_result"
    }
   ],
   "source": [
    "lm.fit(X, y)"
   ]
  },
  {
   "cell_type": "code",
   "execution_count": 516,
   "metadata": {
    "ExecuteTime": {
     "end_time": "2023-01-03T21:49:51.496206Z",
     "start_time": "2023-01-03T21:49:51.467451Z"
    }
   },
   "outputs": [],
   "source": [
    "y_train_pred = lm.predict(X_train)\n",
    "y_test_pred = lm.predict(X_test)"
   ]
  },
  {
   "cell_type": "code",
   "execution_count": 517,
   "metadata": {
    "ExecuteTime": {
     "end_time": "2023-01-03T21:49:52.985355Z",
     "start_time": "2023-01-03T21:49:52.970921Z"
    }
   },
   "outputs": [
    {
     "name": "stdout",
     "output_type": "stream",
     "text": [
      "Linear Model Metrics (train)\n",
      "R-squared score: 0.5710368043063985\n",
      "RMSE: 10978396808.74275\n",
      "MAE: 80879.12901755983\n"
     ]
    }
   ],
   "source": [
    "print(\"Linear Model Metrics (train)\")\n",
    "print(\"R-squared score: \"+ str(r2_score(y_train, y_train_pred)))\n",
    "print(\"RMSE: \"+ str(mean_squared_error(y_train, y_train_pred)))\n",
    "print(\"MAE: \"+ str(mean_absolute_error(y_train, y_train_pred)))"
   ]
  },
  {
   "cell_type": "code",
   "execution_count": 518,
   "metadata": {
    "ExecuteTime": {
     "end_time": "2023-01-03T21:49:54.462358Z",
     "start_time": "2023-01-03T21:49:54.447773Z"
    }
   },
   "outputs": [
    {
     "name": "stdout",
     "output_type": "stream",
     "text": [
      "Linear Model Metrics (test)\n",
      "R-squared score: 0.5261716543234063\n",
      "RMSE: 11538854229.919594\n",
      "MAE: 82130.62692940608\n"
     ]
    }
   ],
   "source": [
    "print(\"Linear Model Metrics (test)\")\n",
    "print(\"R-squared score: \"+ str(r2_score(y_test, y_test_pred)))\n",
    "print(\"RMSE: \"+ str(mean_squared_error(y_test, y_test_pred)))\n",
    "print(\"MAE: \"+ str(mean_absolute_error(y_test, y_test_pred)))"
   ]
  },
  {
   "cell_type": "markdown",
   "metadata": {},
   "source": [
    "## Decision Tree"
   ]
  },
  {
   "cell_type": "code",
   "execution_count": 519,
   "metadata": {
    "ExecuteTime": {
     "end_time": "2023-01-03T21:49:56.254451Z",
     "start_time": "2023-01-03T21:49:56.240673Z"
    }
   },
   "outputs": [],
   "source": [
    "from sklearn.neural_network import MLPRegressor\n",
    "from sklearn.tree import DecisionTreeRegressor, plot_tree\n",
    "from sklearn.model_selection import GridSearchCV\n",
    "import matplotlib.pyplot as plt\n"
   ]
  },
  {
   "cell_type": "code",
   "execution_count": 601,
   "metadata": {
    "ExecuteTime": {
     "end_time": "2023-01-03T22:51:36.284517Z",
     "start_time": "2023-01-03T22:51:36.275518Z"
    }
   },
   "outputs": [],
   "source": [
    "#splitter = \"random\"\n",
    "regress = DecisionTreeRegressor(random_state = 123)"
   ]
  },
  {
   "cell_type": "code",
   "execution_count": 613,
   "metadata": {
    "ExecuteTime": {
     "end_time": "2023-01-03T22:53:43.735018Z",
     "start_time": "2023-01-03T22:53:23.136410Z"
    }
   },
   "outputs": [
    {
     "data": {
      "text/plain": [
       "{'model__ccp_alpha': 0.01,\n",
       " 'model__max_depth': 5,\n",
       " 'model__max_features': 'auto',\n",
       " 'model__min_samples_leaf': 5,\n",
       " 'model__min_samples_split': 20}"
      ]
     },
     "execution_count": 613,
     "metadata": {},
     "output_type": "execute_result"
    }
   ],
   "source": [
    "# decision tree pipeline\n",
    "dt = Pipeline(\n",
    "    steps = [(\"preprocessor\", processor), (\"model\", regress)]\n",
    ")\n",
    "\n",
    "# determine best parameters\n",
    "param_grid = {\n",
    "    'model__ccp_alpha': [0.01, 0.02, 0.03],\n",
    "    'model__max_depth': [3, 4, 5],\n",
    "    'model__min_samples_split': [5, 10, 20],\n",
    "    'model__min_samples_leaf':[5, 10, 15],\n",
    "    'model__max_features':[\"auto\", \"sqrt\", \"log2\"] \n",
    "}\n",
    "\n",
    "dt_test = GridSearchCV(dt, param_grid, cv=5)\n",
    "dt_test.fit(X_train, y_train)\n",
    "\n",
    "dt_test.best_params_"
   ]
  },
  {
   "cell_type": "code",
   "execution_count": 614,
   "metadata": {
    "ExecuteTime": {
     "end_time": "2023-01-03T22:53:45.992279Z",
     "start_time": "2023-01-03T22:53:45.978398Z"
    }
   },
   "outputs": [],
   "source": [
    "regress2 = DecisionTreeRegressor(ccp_alpha = 0.03, max_depth = 10, min_samples_split = 10, \n",
    "                                 min_samples_leaf = 5, random_state = 123)\n",
    "dt2 = Pipeline(\n",
    "    steps = [(\"preprocessor\", processor), (\"model\", regress2)]\n",
    ")"
   ]
  },
  {
   "cell_type": "code",
   "execution_count": 615,
   "metadata": {
    "ExecuteTime": {
     "end_time": "2023-01-03T22:53:48.143543Z",
     "start_time": "2023-01-03T22:53:48.099466Z"
    }
   },
   "outputs": [
    {
     "data": {
      "text/plain": [
       "Pipeline(steps=[('preprocessor',\n",
       "                 ColumnTransformer(transformers=[('num',\n",
       "                                                  Pipeline(steps=[('scaler',\n",
       "                                                                   StandardScaler())]),\n",
       "                                                  Index(['building_size', 'land_size', 'bedroom_count', 'bathroom_count',\n",
       "       'parking_count'],\n",
       "      dtype='object')),\n",
       "                                                 ('cat',\n",
       "                                                  OneHotEncoder(handle_unknown='ignore'),\n",
       "                                                  ['property_type',\n",
       "                                                   'product_depth'])])),\n",
       "                ('model',\n",
       "                 DecisionTreeRegressor(ccp_alpha=0.03, max_depth=10,\n",
       "                                       min_samples_leaf=5, min_samples_split=10,\n",
       "                                       random_state=123))])"
      ]
     },
     "execution_count": 615,
     "metadata": {},
     "output_type": "execute_result"
    }
   ],
   "source": [
    "dt2.fit(X_train, y_train)"
   ]
  },
  {
   "cell_type": "code",
   "execution_count": 616,
   "metadata": {
    "ExecuteTime": {
     "end_time": "2023-01-03T22:53:56.871841Z",
     "start_time": "2023-01-03T22:53:50.033689Z"
    }
   },
   "outputs": [
    {
     "data": {
      "image/png": "[encoded data removed]",
      "text/plain": [
       "<Figure size 1440x720 with 1 Axes>"
      ]
     },
     "metadata": {
      "needs_background": "light"
     },
     "output_type": "display_data"
    }
   ],
   "source": [
    "plt.figure(figsize = (20, 10))\n",
    "plot_tree(dt2[\"model\"])\n",
    "plt.show()"
   ]
  },
  {
   "cell_type": "code",
   "execution_count": 617,
   "metadata": {
    "ExecuteTime": {
     "end_time": "2023-01-03T22:53:59.036452Z",
     "start_time": "2023-01-03T22:53:59.008146Z"
    }
   },
   "outputs": [],
   "source": [
    "y_train_pred2 = dt2.predict(X_train)\n",
    "y_test_pred2 = dt2.predict(X_test)"
   ]
  },
  {
   "cell_type": "code",
   "execution_count": 618,
   "metadata": {
    "ExecuteTime": {
     "end_time": "2023-01-03T22:54:01.078033Z",
     "start_time": "2023-01-03T22:54:01.063959Z"
    }
   },
   "outputs": [
    {
     "name": "stdout",
     "output_type": "stream",
     "text": [
      "Decision Tree Model Metrics (train)\n",
      "R-squared score: 0.7392426062941346\n",
      "RMSE: 6673528562.952307\n",
      "MAE: 64027.04411521218\n"
     ]
    }
   ],
   "source": [
    "print(\"Decision Tree Model Metrics (train)\")\n",
    "print(\"R-squared score: \"+ str(r2_score(y_train, y_train_pred2)))\n",
    "print(\"RMSE: \"+ str(mean_squared_error(y_train, y_train_pred2)))\n",
    "print(\"MAE: \"+ str(mean_absolute_error(y_train, y_train_pred2)))"
   ]
  },
  {
   "cell_type": "code",
   "execution_count": 619,
   "metadata": {
    "ExecuteTime": {
     "end_time": "2023-01-03T22:54:03.089478Z",
     "start_time": "2023-01-03T22:54:03.075508Z"
    }
   },
   "outputs": [
    {
     "name": "stdout",
     "output_type": "stream",
     "text": [
      "Decision Tree Model Metrics (test)\n",
      "R-squared score: 0.5282667967262488\n",
      "RMSE: 11487832498.109098\n",
      "MAE: 83338.70875095941\n"
     ]
    }
   ],
   "source": [
    "print(\"Decision Tree Model Metrics (test)\")\n",
    "print(\"R-squared score: \"+ str(r2_score(y_test, y_test_pred2)))\n",
    "print(\"RMSE: \"+ str(mean_squared_error(y_test, y_test_pred2)))\n",
    "print(\"MAE: \"+ str(mean_absolute_error(y_test, y_test_pred2)))"
   ]
  },
  {
   "cell_type": "markdown",
   "metadata": {},
   "source": [
    "## Gradient Boosting Regressor"
   ]
  },
  {
   "cell_type": "code",
   "execution_count": 532,
   "metadata": {
    "ExecuteTime": {
     "end_time": "2023-01-03T21:56:02.071385Z",
     "start_time": "2023-01-03T21:56:02.020233Z"
    }
   },
   "outputs": [],
   "source": [
    "from sklearn.ensemble import GradientBoostingRegressor"
   ]
  },
  {
   "cell_type": "code",
   "execution_count": 558,
   "metadata": {
    "ExecuteTime": {
     "end_time": "2023-01-03T22:22:13.337028Z",
     "start_time": "2023-01-03T22:22:13.327249Z"
    }
   },
   "outputs": [],
   "source": [
    "regress3 = GradientBoostingRegressor(random_state = 123)"
   ]
  },
  {
   "cell_type": "code",
   "execution_count": 559,
   "metadata": {
    "ExecuteTime": {
     "end_time": "2023-01-03T22:23:42.005291Z",
     "start_time": "2023-01-03T22:22:15.426858Z"
    }
   },
   "outputs": [
    {
     "data": {
      "text/plain": [
       "{'model__ccp_alpha': 0.01,\n",
       " 'model__max_depth': 3,\n",
       " 'model__max_features': 'sqrt',\n",
       " 'model__min_samples_leaf': 5,\n",
       " 'model__min_samples_split': 20}"
      ]
     },
     "execution_count": 559,
     "metadata": {},
     "output_type": "execute_result"
    }
   ],
   "source": [
    "# decision tree pipeline\n",
    "gb = Pipeline(\n",
    "    steps = [(\"preprocessor\", processor), (\"model\", regress3)]\n",
    ")\n",
    "\n",
    "# determine best parameters\n",
    "param_grid = {\n",
    "    'model__ccp_alpha': [0.01, 0.02, 0.03],\n",
    "    'model__max_depth': [3, 4, 5],\n",
    "    'model__min_samples_split': [5, 10, 20],\n",
    "    'model__min_samples_leaf':[5, 10, 15],\n",
    "    'model__max_features':[\"auto\", \"sqrt\", \"log2\"]\n",
    "}\n",
    "\n",
    "gb_test = GridSearchCV(gb, param_grid, cv=5)\n",
    "gb_test.fit(X_train, y_train)\n",
    "\n",
    "gb_test.best_params_"
   ]
  },
  {
   "cell_type": "code",
   "execution_count": 596,
   "metadata": {
    "ExecuteTime": {
     "end_time": "2023-01-03T22:41:08.589246Z",
     "start_time": "2023-01-03T22:41:08.574573Z"
    }
   },
   "outputs": [],
   "source": [
    "regress4 = GradientBoostingRegressor(random_state = 123, ccp_alpha = 0.01, \n",
    "                                     max_depth = 3, min_samples_leaf = 5, \n",
    "                                    min_samples_split = 20, max_features = \"sqrt\",\n",
    "                                    subsample = 0.1)\n",
    "gb2 = Pipeline(\n",
    "    steps = [(\"preprocessor\", processor), (\"model\", regress4)]\n",
    ")"
   ]
  },
  {
   "cell_type": "code",
   "execution_count": 597,
   "metadata": {
    "ExecuteTime": {
     "end_time": "2023-01-03T22:41:10.658620Z",
     "start_time": "2023-01-03T22:41:10.537777Z"
    }
   },
   "outputs": [
    {
     "data": {
      "text/plain": [
       "Pipeline(steps=[('preprocessor',\n",
       "                 ColumnTransformer(transformers=[('num',\n",
       "                                                  Pipeline(steps=[('scaler',\n",
       "                                                                   StandardScaler())]),\n",
       "                                                  Index(['building_size', 'land_size', 'bedroom_count', 'bathroom_count',\n",
       "       'parking_count'],\n",
       "      dtype='object')),\n",
       "                                                 ('cat',\n",
       "                                                  OneHotEncoder(handle_unknown='ignore'),\n",
       "                                                  ['property_type',\n",
       "                                                   'product_depth'])])),\n",
       "                ('model',\n",
       "                 GradientBoostingRegressor(ccp_alpha=0.01, max_features='sqrt',\n",
       "                                           min_samples_leaf=5,\n",
       "                                           min_samples_split=20,\n",
       "                                           random_state=123, subsample=0.1))])"
      ]
     },
     "execution_count": 597,
     "metadata": {},
     "output_type": "execute_result"
    }
   ],
   "source": [
    "gb2.fit(X_train, y_train)"
   ]
  },
  {
   "cell_type": "code",
   "execution_count": 598,
   "metadata": {
    "ExecuteTime": {
     "end_time": "2023-01-03T22:41:12.841510Z",
     "start_time": "2023-01-03T22:41:12.813189Z"
    }
   },
   "outputs": [],
   "source": [
    "y_train_pred3 = gb2.predict(X_train)\n",
    "y_test_pred3 = gb2.predict(X_test)"
   ]
  },
  {
   "cell_type": "code",
   "execution_count": 599,
   "metadata": {
    "ExecuteTime": {
     "end_time": "2023-01-03T22:41:14.892505Z",
     "start_time": "2023-01-03T22:41:14.880115Z"
    }
   },
   "outputs": [
    {
     "name": "stdout",
     "output_type": "stream",
     "text": [
      "Gradient Boosting Model Metrics (train)\n",
      "R-squared score: 0.6055937474706975\n",
      "RMSE: 10093985655.6101\n",
      "MAE: 78789.78144540548\n"
     ]
    }
   ],
   "source": [
    "print(\"Gradient Boosting Model Metrics (train)\")\n",
    "print(\"R-squared score: \"+ str(r2_score(y_train, y_train_pred3)))\n",
    "print(\"RMSE: \"+ str(mean_squared_error(y_train, y_train_pred3)))\n",
    "print(\"MAE: \"+ str(mean_absolute_error(y_train, y_train_pred3)))"
   ]
  },
  {
   "cell_type": "code",
   "execution_count": 600,
   "metadata": {
    "ExecuteTime": {
     "end_time": "2023-01-03T22:41:17.333072Z",
     "start_time": "2023-01-03T22:41:17.317780Z"
    }
   },
   "outputs": [
    {
     "name": "stdout",
     "output_type": "stream",
     "text": [
      "Gradient Boosting  Model Metrics (test)\n",
      "R-squared score: 0.5237647052871238\n",
      "RMSE: 11597469199.500721\n",
      "MAE: 84154.59542435317\n"
     ]
    }
   ],
   "source": [
    "print(\"Gradient Boosting  Model Metrics (test)\")\n",
    "print(\"R-squared score: \"+ str(r2_score(y_test, y_test_pred3)))\n",
    "print(\"RMSE: \"+ str(mean_squared_error(y_test, y_test_pred3)))\n",
    "print(\"MAE: \"+ str(mean_absolute_error(y_test, y_test_pred3)))"
   ]
  },
  {
   "cell_type": "code",
   "execution_count": null,
   "metadata": {},
   "outputs": [],
   "source": []
  },
  {
   "cell_type": "code",
   "execution_count": 238,
   "metadata": {
    "ExecuteTime": {
     "end_time": "2023-01-03T19:50:50.161082Z",
     "start_time": "2023-01-03T19:50:50.155304Z"
    }
   },
   "outputs": [],
   "source": []
  }
 ],
 "metadata": {
  "kernelspec": {
   "display_name": "Python (learn-env)",
   "language": "python",
   "name": "learn-env"
  },
  "language_info": {
   "codemirror_mode": {
    "name": "ipython",
    "version": 3
   },
   "file_extension": ".py",
   "mimetype": "text/x-python",
   "name": "python",
   "nbconvert_exporter": "python",
   "pygments_lexer": "ipython3",
   "version": "3.8.5"
  },
  "toc": {
   "base_numbering": 1,
   "nav_menu": {},
   "number_sections": true,
   "sideBar": true,
   "skip_h1_title": false,
   "title_cell": "Table of Contents",
   "title_sidebar": "Contents",
   "toc_cell": false,
   "toc_position": {},
   "toc_section_display": true,
   "toc_window_display": false
  },
  "varInspector": {
   "cols": {
    "lenName": 16,
    "lenType": 16,
    "lenVar": 40
   },
   "kernels_config": {
    "python": {
     "delete_cmd_postfix": "",
     "delete_cmd_prefix": "del ",
     "library": "var_list.py",
     "varRefreshCmd": "print(var_dic_list())"
    },
    "r": {
     "delete_cmd_postfix": ") ",
     "delete_cmd_prefix": "rm(",
     "library": "var_list.r",
     "varRefreshCmd": "cat(var_dic_list()) "
    }
   },
   "types_to_exclude": [
    "module",
    "function",
    "builtin_function_or_method",
    "instance",
    "_Feature"
   ],
   "window_display": false
  }
 },
 "nbformat": 4,
 "nbformat_minor": 4
}
