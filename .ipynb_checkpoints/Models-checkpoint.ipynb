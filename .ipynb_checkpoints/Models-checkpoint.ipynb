{
 "cells": [
  {
   "cell_type": "code",
   "execution_count": 95,
   "metadata": {
    "ExecuteTime": {
     "end_time": "2023-01-04T16:36:44.354423Z",
     "start_time": "2023-01-04T16:36:44.346322Z"
    }
   },
   "outputs": [],
   "source": [
    "import pandas as pd\n",
    "import numpy as np\n"
   ]
  },
  {
   "cell_type": "markdown",
   "metadata": {},
   "source": [
    "# Import Data"
   ]
  },
  {
   "cell_type": "code",
   "execution_count": 96,
   "metadata": {
    "ExecuteTime": {
     "end_time": "2023-01-04T16:36:45.022100Z",
     "start_time": "2023-01-04T16:36:44.993695Z"
    }
   },
   "outputs": [],
   "source": [
    "data = pd.read_csv(\"data/data_clean.csv\", index_col = False)"
   ]
  },
  {
   "cell_type": "code",
   "execution_count": 97,
   "metadata": {
    "ExecuteTime": {
     "end_time": "2023-01-04T16:36:45.641238Z",
     "start_time": "2023-01-04T16:36:45.614634Z"
    }
   },
   "outputs": [],
   "source": [
    "categories = [\"property_type\",\"product_depth\"]\n",
    "data[categories] = data[categories].apply(lambda x: x.astype(\"category\"))"
   ]
  },
  {
   "cell_type": "code",
   "execution_count": 98,
   "metadata": {
    "ExecuteTime": {
     "end_time": "2023-01-04T16:36:46.278959Z",
     "start_time": "2023-01-04T16:36:46.266296Z"
    }
   },
   "outputs": [
    {
     "data": {
      "text/plain": [
       "building_size      float64\n",
       "land_size          float64\n",
       "price              float64\n",
       "bedroom_count      float64\n",
       "bathroom_count     float64\n",
       "parking_count      float64\n",
       "property_type     category\n",
       "product_depth     category\n",
       "dtype: object"
      ]
     },
     "execution_count": 98,
     "metadata": {},
     "output_type": "execute_result"
    }
   ],
   "source": [
    "data.dtypes"
   ]
  },
  {
   "cell_type": "code",
   "execution_count": 99,
   "metadata": {
    "ExecuteTime": {
     "end_time": "2023-01-04T16:36:47.042492Z",
     "start_time": "2023-01-04T16:36:47.013398Z"
    }
   },
   "outputs": [
    {
     "data": {
      "text/html": [
       "<div>\n",
       "<style scoped>\n",
       "    .dataframe tbody tr th:only-of-type {\n",
       "        vertical-align: middle;\n",
       "    }\n",
       "\n",
       "    .dataframe tbody tr th {\n",
       "        vertical-align: top;\n",
       "    }\n",
       "\n",
       "    .dataframe thead th {\n",
       "        text-align: right;\n",
       "    }\n",
       "</style>\n",
       "<table border=\"1\" class=\"dataframe\">\n",
       "  <thead>\n",
       "    <tr style=\"text-align: right;\">\n",
       "      <th></th>\n",
       "      <th>building_size</th>\n",
       "      <th>land_size</th>\n",
       "      <th>price</th>\n",
       "      <th>bedroom_count</th>\n",
       "      <th>bathroom_count</th>\n",
       "      <th>parking_count</th>\n",
       "      <th>property_type</th>\n",
       "      <th>product_depth</th>\n",
       "    </tr>\n",
       "  </thead>\n",
       "  <tbody>\n",
       "    <tr>\n",
       "      <th>0</th>\n",
       "      <td>210.0</td>\n",
       "      <td>804.0</td>\n",
       "      <td>435000.0</td>\n",
       "      <td>2.0</td>\n",
       "      <td>1.0</td>\n",
       "      <td>1.0</td>\n",
       "      <td>House</td>\n",
       "      <td>premiere</td>\n",
       "    </tr>\n",
       "    <tr>\n",
       "      <th>1</th>\n",
       "      <td>171.0</td>\n",
       "      <td>178.0</td>\n",
       "      <td>320000.0</td>\n",
       "      <td>3.0</td>\n",
       "      <td>2.0</td>\n",
       "      <td>2.0</td>\n",
       "      <td>Apartment</td>\n",
       "      <td>premiere</td>\n",
       "    </tr>\n",
       "    <tr>\n",
       "      <th>2</th>\n",
       "      <td>107.0</td>\n",
       "      <td>153.0</td>\n",
       "      <td>310000.0</td>\n",
       "      <td>2.0</td>\n",
       "      <td>1.0</td>\n",
       "      <td>1.0</td>\n",
       "      <td>Unit</td>\n",
       "      <td>premiere</td>\n",
       "    </tr>\n",
       "    <tr>\n",
       "      <th>3</th>\n",
       "      <td>210.0</td>\n",
       "      <td>804.0</td>\n",
       "      <td>259000.0</td>\n",
       "      <td>1.0</td>\n",
       "      <td>1.0</td>\n",
       "      <td>0.0</td>\n",
       "      <td>House</td>\n",
       "      <td>premiere</td>\n",
       "    </tr>\n",
       "    <tr>\n",
       "      <th>4</th>\n",
       "      <td>201.0</td>\n",
       "      <td>153.0</td>\n",
       "      <td>439000.0</td>\n",
       "      <td>3.0</td>\n",
       "      <td>2.0</td>\n",
       "      <td>2.0</td>\n",
       "      <td>Unit</td>\n",
       "      <td>premiere</td>\n",
       "    </tr>\n",
       "    <tr>\n",
       "      <th>...</th>\n",
       "      <td>...</td>\n",
       "      <td>...</td>\n",
       "      <td>...</td>\n",
       "      <td>...</td>\n",
       "      <td>...</td>\n",
       "      <td>...</td>\n",
       "      <td>...</td>\n",
       "      <td>...</td>\n",
       "    </tr>\n",
       "    <tr>\n",
       "      <th>871</th>\n",
       "      <td>210.0</td>\n",
       "      <td>91700.0</td>\n",
       "      <td>555000.0</td>\n",
       "      <td>4.0</td>\n",
       "      <td>3.0</td>\n",
       "      <td>6.0</td>\n",
       "      <td>House</td>\n",
       "      <td>feature</td>\n",
       "    </tr>\n",
       "    <tr>\n",
       "      <th>872</th>\n",
       "      <td>203.0</td>\n",
       "      <td>600.0</td>\n",
       "      <td>601000.0</td>\n",
       "      <td>4.0</td>\n",
       "      <td>2.0</td>\n",
       "      <td>2.0</td>\n",
       "      <td>House</td>\n",
       "      <td>standard</td>\n",
       "    </tr>\n",
       "    <tr>\n",
       "      <th>873</th>\n",
       "      <td>209.6</td>\n",
       "      <td>800.0</td>\n",
       "      <td>655000.0</td>\n",
       "      <td>4.0</td>\n",
       "      <td>2.0</td>\n",
       "      <td>2.0</td>\n",
       "      <td>House</td>\n",
       "      <td>standard</td>\n",
       "    </tr>\n",
       "    <tr>\n",
       "      <th>874</th>\n",
       "      <td>180.0</td>\n",
       "      <td>450.0</td>\n",
       "      <td>675000.0</td>\n",
       "      <td>4.0</td>\n",
       "      <td>2.0</td>\n",
       "      <td>3.0</td>\n",
       "      <td>House</td>\n",
       "      <td>standard</td>\n",
       "    </tr>\n",
       "    <tr>\n",
       "      <th>875</th>\n",
       "      <td>120.0</td>\n",
       "      <td>153.0</td>\n",
       "      <td>399000.0</td>\n",
       "      <td>2.0</td>\n",
       "      <td>2.0</td>\n",
       "      <td>2.0</td>\n",
       "      <td>Unit</td>\n",
       "      <td>feature</td>\n",
       "    </tr>\n",
       "  </tbody>\n",
       "</table>\n",
       "<p>876 rows × 8 columns</p>\n",
       "</div>"
      ],
      "text/plain": [
       "     building_size  land_size     price  bedroom_count  bathroom_count  \\\n",
       "0            210.0      804.0  435000.0            2.0             1.0   \n",
       "1            171.0      178.0  320000.0            3.0             2.0   \n",
       "2            107.0      153.0  310000.0            2.0             1.0   \n",
       "3            210.0      804.0  259000.0            1.0             1.0   \n",
       "4            201.0      153.0  439000.0            3.0             2.0   \n",
       "..             ...        ...       ...            ...             ...   \n",
       "871          210.0    91700.0  555000.0            4.0             3.0   \n",
       "872          203.0      600.0  601000.0            4.0             2.0   \n",
       "873          209.6      800.0  655000.0            4.0             2.0   \n",
       "874          180.0      450.0  675000.0            4.0             2.0   \n",
       "875          120.0      153.0  399000.0            2.0             2.0   \n",
       "\n",
       "     parking_count property_type product_depth  \n",
       "0              1.0         House      premiere  \n",
       "1              2.0     Apartment      premiere  \n",
       "2              1.0          Unit      premiere  \n",
       "3              0.0         House      premiere  \n",
       "4              2.0          Unit      premiere  \n",
       "..             ...           ...           ...  \n",
       "871            6.0         House       feature  \n",
       "872            2.0         House      standard  \n",
       "873            2.0         House      standard  \n",
       "874            3.0         House      standard  \n",
       "875            2.0          Unit       feature  \n",
       "\n",
       "[876 rows x 8 columns]"
      ]
     },
     "execution_count": 99,
     "metadata": {},
     "output_type": "execute_result"
    }
   ],
   "source": [
    "data"
   ]
  },
  {
   "cell_type": "code",
   "execution_count": 100,
   "metadata": {
    "ExecuteTime": {
     "end_time": "2023-01-04T16:36:47.712293Z",
     "start_time": "2023-01-04T16:36:47.698172Z"
    }
   },
   "outputs": [],
   "source": [
    "X = data.drop(\"price\", axis = 1)\n",
    "y = data[\"price\"]"
   ]
  },
  {
   "cell_type": "code",
   "execution_count": 101,
   "metadata": {
    "ExecuteTime": {
     "end_time": "2023-01-04T16:36:48.347494Z",
     "start_time": "2023-01-04T16:36:48.334238Z"
    }
   },
   "outputs": [
    {
     "data": {
      "text/plain": [
       "House                   406\n",
       "Unit                    221\n",
       "Apartment               194\n",
       "Townhouse                36\n",
       "Duplex/Semi-detached     19\n",
       "Name: property_type, dtype: int64"
      ]
     },
     "execution_count": 101,
     "metadata": {},
     "output_type": "execute_result"
    }
   ],
   "source": [
    "data[\"property_type\"].value_counts()"
   ]
  },
  {
   "cell_type": "code",
   "execution_count": 102,
   "metadata": {
    "ExecuteTime": {
     "end_time": "2023-01-04T16:36:48.940606Z",
     "start_time": "2023-01-04T16:36:48.927280Z"
    }
   },
   "outputs": [
    {
     "data": {
      "text/plain": [
       "premiere    586\n",
       "feature     159\n",
       "standard    131\n",
       "Name: product_depth, dtype: int64"
      ]
     },
     "execution_count": 102,
     "metadata": {},
     "output_type": "execute_result"
    }
   ],
   "source": [
    "data[\"product_depth\"].value_counts()"
   ]
  },
  {
   "cell_type": "code",
   "execution_count": 103,
   "metadata": {
    "ExecuteTime": {
     "end_time": "2023-01-04T16:36:49.628363Z",
     "start_time": "2023-01-04T16:36:49.614948Z"
    }
   },
   "outputs": [
    {
     "data": {
      "text/plain": [
       "building_size     0\n",
       "land_size         0\n",
       "price             0\n",
       "bedroom_count     0\n",
       "bathroom_count    0\n",
       "parking_count     0\n",
       "property_type     0\n",
       "product_depth     0\n",
       "dtype: int64"
      ]
     },
     "execution_count": 103,
     "metadata": {},
     "output_type": "execute_result"
    }
   ],
   "source": [
    "data.isna().sum()"
   ]
  },
  {
   "cell_type": "markdown",
   "metadata": {},
   "source": [
    "# Data Pipeline(s)"
   ]
  },
  {
   "cell_type": "code",
   "execution_count": 104,
   "metadata": {
    "ExecuteTime": {
     "end_time": "2023-01-04T16:36:51.041132Z",
     "start_time": "2023-01-04T16:36:51.027342Z"
    }
   },
   "outputs": [],
   "source": [
    "from sklearn.preprocessing import StandardScaler, OneHotEncoder\n",
    "from sklearn.compose import ColumnTransformer\n",
    "from sklearn.model_selection import train_test_split\n",
    "from sklearn.pipeline import Pipeline\n",
    "from sklearn.linear_model import LinearRegression"
   ]
  },
  {
   "cell_type": "code",
   "execution_count": 105,
   "metadata": {
    "ExecuteTime": {
     "end_time": "2023-01-04T16:36:51.755448Z",
     "start_time": "2023-01-04T16:36:51.744283Z"
    }
   },
   "outputs": [],
   "source": [
    "X_train, X_test, y_train, y_test = train_test_split(X, y, test_size = 0.25, random_state = 123)"
   ]
  },
  {
   "cell_type": "code",
   "execution_count": 106,
   "metadata": {
    "ExecuteTime": {
     "end_time": "2023-01-04T16:36:52.580513Z",
     "start_time": "2023-01-04T16:36:52.551760Z"
    }
   },
   "outputs": [
    {
     "data": {
      "text/html": [
       "<div>\n",
       "<style scoped>\n",
       "    .dataframe tbody tr th:only-of-type {\n",
       "        vertical-align: middle;\n",
       "    }\n",
       "\n",
       "    .dataframe tbody tr th {\n",
       "        vertical-align: top;\n",
       "    }\n",
       "\n",
       "    .dataframe thead th {\n",
       "        text-align: right;\n",
       "    }\n",
       "</style>\n",
       "<table border=\"1\" class=\"dataframe\">\n",
       "  <thead>\n",
       "    <tr style=\"text-align: right;\">\n",
       "      <th></th>\n",
       "      <th>building_size</th>\n",
       "      <th>land_size</th>\n",
       "      <th>bedroom_count</th>\n",
       "      <th>bathroom_count</th>\n",
       "      <th>parking_count</th>\n",
       "      <th>property_type</th>\n",
       "      <th>product_depth</th>\n",
       "    </tr>\n",
       "  </thead>\n",
       "  <tbody>\n",
       "    <tr>\n",
       "      <th>518</th>\n",
       "      <td>210.0</td>\n",
       "      <td>804.0</td>\n",
       "      <td>4.0</td>\n",
       "      <td>2.0</td>\n",
       "      <td>2.0</td>\n",
       "      <td>House</td>\n",
       "      <td>premiere</td>\n",
       "    </tr>\n",
       "    <tr>\n",
       "      <th>593</th>\n",
       "      <td>135.0</td>\n",
       "      <td>178.0</td>\n",
       "      <td>2.0</td>\n",
       "      <td>2.0</td>\n",
       "      <td>1.0</td>\n",
       "      <td>Apartment</td>\n",
       "      <td>premiere</td>\n",
       "    </tr>\n",
       "    <tr>\n",
       "      <th>7</th>\n",
       "      <td>107.0</td>\n",
       "      <td>105.0</td>\n",
       "      <td>2.0</td>\n",
       "      <td>1.0</td>\n",
       "      <td>1.0</td>\n",
       "      <td>Unit</td>\n",
       "      <td>premiere</td>\n",
       "    </tr>\n",
       "    <tr>\n",
       "      <th>246</th>\n",
       "      <td>243.0</td>\n",
       "      <td>766.0</td>\n",
       "      <td>4.0</td>\n",
       "      <td>2.0</td>\n",
       "      <td>2.0</td>\n",
       "      <td>House</td>\n",
       "      <td>premiere</td>\n",
       "    </tr>\n",
       "    <tr>\n",
       "      <th>653</th>\n",
       "      <td>107.0</td>\n",
       "      <td>118.0</td>\n",
       "      <td>2.0</td>\n",
       "      <td>1.0</td>\n",
       "      <td>1.0</td>\n",
       "      <td>Unit</td>\n",
       "      <td>premiere</td>\n",
       "    </tr>\n",
       "  </tbody>\n",
       "</table>\n",
       "</div>"
      ],
      "text/plain": [
       "     building_size  land_size  bedroom_count  bathroom_count  parking_count  \\\n",
       "518          210.0      804.0            4.0             2.0            2.0   \n",
       "593          135.0      178.0            2.0             2.0            1.0   \n",
       "7            107.0      105.0            2.0             1.0            1.0   \n",
       "246          243.0      766.0            4.0             2.0            2.0   \n",
       "653          107.0      118.0            2.0             1.0            1.0   \n",
       "\n",
       "    property_type product_depth  \n",
       "518         House      premiere  \n",
       "593     Apartment      premiere  \n",
       "7            Unit      premiere  \n",
       "246         House      premiere  \n",
       "653          Unit      premiere  "
      ]
     },
     "execution_count": 106,
     "metadata": {},
     "output_type": "execute_result"
    }
   ],
   "source": [
    "X_train.head()"
   ]
  },
  {
   "cell_type": "code",
   "execution_count": 107,
   "metadata": {
    "ExecuteTime": {
     "end_time": "2023-01-04T16:36:53.281785Z",
     "start_time": "2023-01-04T16:36:53.268971Z"
    }
   },
   "outputs": [],
   "source": [
    "# set up scaling step for numerical columns\n",
    "nums = X.drop(categories, axis = 1).columns\n",
    "num_trans = Pipeline(\n",
    "    steps = [(\"scaler\", StandardScaler())]\n",
    ")"
   ]
  },
  {
   "cell_type": "code",
   "execution_count": 108,
   "metadata": {
    "ExecuteTime": {
     "end_time": "2023-01-04T16:36:53.935251Z",
     "start_time": "2023-01-04T16:36:53.923057Z"
    }
   },
   "outputs": [],
   "source": [
    "# set up one hot encoder for categorical variables\n",
    "cat_trans = OneHotEncoder(handle_unknown = \"ignore\")"
   ]
  },
  {
   "cell_type": "code",
   "execution_count": 109,
   "metadata": {
    "ExecuteTime": {
     "end_time": "2023-01-04T16:36:54.790784Z",
     "start_time": "2023-01-04T16:36:54.776950Z"
    }
   },
   "outputs": [],
   "source": [
    "# combine scaling and encoding into a single column transformer\n",
    "processor = ColumnTransformer(\n",
    "    transformers = [\n",
    "        (\"num\", num_trans, nums),\n",
    "        (\"cat\", cat_trans, categories)\n",
    "    ]\n",
    "\n",
    ")"
   ]
  },
  {
   "cell_type": "markdown",
   "metadata": {
    "ExecuteTime": {
     "end_time": "2023-01-03T21:54:03.980418Z",
     "start_time": "2023-01-03T21:54:03.962603Z"
    }
   },
   "source": [
    "# Models"
   ]
  },
  {
   "cell_type": "markdown",
   "metadata": {},
   "source": [
    "## Baseline Model (Linear)"
   ]
  },
  {
   "cell_type": "code",
   "execution_count": 110,
   "metadata": {
    "ExecuteTime": {
     "end_time": "2023-01-04T16:37:02.592206Z",
     "start_time": "2023-01-04T16:37:02.576200Z"
    }
   },
   "outputs": [],
   "source": [
    "from sklearn.metrics import mean_squared_error, mean_absolute_error, r2_score"
   ]
  },
  {
   "cell_type": "code",
   "execution_count": 111,
   "metadata": {
    "ExecuteTime": {
     "end_time": "2023-01-04T16:37:03.350445Z",
     "start_time": "2023-01-04T16:37:03.337035Z"
    }
   },
   "outputs": [],
   "source": [
    "# linear pipeline\n",
    "lm = Pipeline(\n",
    "    steps = [(\"preprocessor\", processor), (\"lm\", LinearRegression())]\n",
    ")"
   ]
  },
  {
   "cell_type": "code",
   "execution_count": 112,
   "metadata": {
    "ExecuteTime": {
     "end_time": "2023-01-04T16:37:04.097720Z",
     "start_time": "2023-01-04T16:37:04.022228Z"
    }
   },
   "outputs": [
    {
     "data": {
      "text/plain": [
       "Pipeline(steps=[('preprocessor',\n",
       "                 ColumnTransformer(transformers=[('num',\n",
       "                                                  Pipeline(steps=[('scaler',\n",
       "                                                                   StandardScaler())]),\n",
       "                                                  Index(['building_size', 'land_size', 'bedroom_count', 'bathroom_count',\n",
       "       'parking_count'],\n",
       "      dtype='object')),\n",
       "                                                 ('cat',\n",
       "                                                  OneHotEncoder(handle_unknown='ignore'),\n",
       "                                                  ['property_type',\n",
       "                                                   'product_depth'])])),\n",
       "                ('lm', LinearRegression())])"
      ]
     },
     "execution_count": 112,
     "metadata": {},
     "output_type": "execute_result"
    }
   ],
   "source": [
    "lm.fit(X, y)"
   ]
  },
  {
   "cell_type": "code",
   "execution_count": 113,
   "metadata": {
    "ExecuteTime": {
     "end_time": "2023-01-04T16:37:04.779777Z",
     "start_time": "2023-01-04T16:37:04.750735Z"
    }
   },
   "outputs": [],
   "source": [
    "y_train_pred = lm.predict(X_train)\n",
    "y_test_pred = lm.predict(X_test)"
   ]
  },
  {
   "cell_type": "code",
   "execution_count": 114,
   "metadata": {
    "ExecuteTime": {
     "end_time": "2023-01-04T16:37:05.465457Z",
     "start_time": "2023-01-04T16:37:05.452019Z"
    }
   },
   "outputs": [
    {
     "name": "stdout",
     "output_type": "stream",
     "text": [
      "Linear Model Metrics (train)\n",
      "R-squared score: 0.5167043965122406\n",
      "RMSE: 8783334951.29161\n",
      "MAE: 70752.41868143217\n"
     ]
    }
   ],
   "source": [
    "print(\"Linear Model Metrics (train)\")\n",
    "print(\"R-squared score: \"+ str(r2_score(y_train, y_train_pred)))\n",
    "print(\"RMSE: \"+ str(mean_squared_error(y_train, y_train_pred)))\n",
    "print(\"MAE: \"+ str(mean_absolute_error(y_train, y_train_pred)))"
   ]
  },
  {
   "cell_type": "code",
   "execution_count": 115,
   "metadata": {
    "ExecuteTime": {
     "end_time": "2023-01-04T16:37:13.345180Z",
     "start_time": "2023-01-04T16:37:13.328404Z"
    }
   },
   "outputs": [
    {
     "name": "stdout",
     "output_type": "stream",
     "text": [
      "Linear Model Metrics (test)\n",
      "R-squared score: 0.439903287395803\n",
      "RMSE: 11730877855.519344\n",
      "MAE: 83051.23136758491\n"
     ]
    }
   ],
   "source": [
    "print(\"Linear Model Metrics (test)\")\n",
    "print(\"R-squared score: \"+ str(r2_score(y_test, y_test_pred)))\n",
    "print(\"RMSE: \"+ str(mean_squared_error(y_test, y_test_pred)))\n",
    "print(\"MAE: \"+ str(mean_absolute_error(y_test, y_test_pred)))"
   ]
  },
  {
   "cell_type": "markdown",
   "metadata": {},
   "source": [
    "## Decision Tree"
   ]
  },
  {
   "cell_type": "code",
   "execution_count": 116,
   "metadata": {
    "ExecuteTime": {
     "end_time": "2023-01-04T16:37:14.135939Z",
     "start_time": "2023-01-04T16:37:14.127939Z"
    }
   },
   "outputs": [],
   "source": [
    "from sklearn.neural_network import MLPRegressor\n",
    "from sklearn.tree import DecisionTreeRegressor, plot_tree\n",
    "from sklearn.model_selection import GridSearchCV\n",
    "import matplotlib.pyplot as plt\n"
   ]
  },
  {
   "cell_type": "code",
   "execution_count": 117,
   "metadata": {
    "ExecuteTime": {
     "end_time": "2023-01-04T16:37:14.838477Z",
     "start_time": "2023-01-04T16:37:14.826105Z"
    }
   },
   "outputs": [],
   "source": [
    "#splitter = \"random\"\n",
    "regress_dt = DecisionTreeRegressor(random_state = 123)"
   ]
  },
  {
   "cell_type": "code",
   "execution_count": 118,
   "metadata": {
    "ExecuteTime": {
     "end_time": "2023-01-04T16:37:36.076862Z",
     "start_time": "2023-01-04T16:37:15.568586Z"
    }
   },
   "outputs": [
    {
     "data": {
      "text/plain": [
       "{'model__ccp_alpha': 0.01,\n",
       " 'model__max_depth': 5,\n",
       " 'model__max_features': 'sqrt',\n",
       " 'model__min_samples_leaf': 5,\n",
       " 'model__min_samples_split': 5}"
      ]
     },
     "execution_count": 118,
     "metadata": {},
     "output_type": "execute_result"
    }
   ],
   "source": [
    "# decision tree pipeline\n",
    "dt = Pipeline(\n",
    "    steps = [(\"preprocessor\", processor), (\"model\", regress_dt)]\n",
    ")\n",
    "\n",
    "# determine best parameters\n",
    "param_grid = {\n",
    "    'model__ccp_alpha': [0.01, 0.02, 0.03],\n",
    "    'model__max_depth': [3, 4, 5],\n",
    "    'model__min_samples_split': [5, 10, 20],\n",
    "    'model__min_samples_leaf':[5, 10, 15],\n",
    "    'model__max_features':[\"auto\", \"sqrt\", \"log2\"] \n",
    "}\n",
    "\n",
    "dt_test = GridSearchCV(dt, param_grid, cv=5)\n",
    "dt_test.fit(X_train, y_train)\n",
    "\n",
    "dt_test.best_params_"
   ]
  },
  {
   "cell_type": "code",
   "execution_count": 119,
   "metadata": {
    "ExecuteTime": {
     "end_time": "2023-01-04T16:37:44.497732Z",
     "start_time": "2023-01-04T16:37:44.485191Z"
    }
   },
   "outputs": [],
   "source": [
    "# building pipeline with best params\n",
    "regress_dt2 = DecisionTreeRegressor(ccp_alpha = 0.01, max_depth = 5, min_samples_split = 5, \n",
    "                                 min_samples_leaf = 5, random_state = 123)\n",
    "dt2 = Pipeline(\n",
    "    steps = [(\"preprocessor\", processor), (\"model\", regress_dt2)]\n",
    ")"
   ]
  },
  {
   "cell_type": "code",
   "execution_count": 120,
   "metadata": {
    "ExecuteTime": {
     "end_time": "2023-01-04T16:37:45.294227Z",
     "start_time": "2023-01-04T16:37:45.219922Z"
    }
   },
   "outputs": [
    {
     "data": {
      "text/plain": [
       "Pipeline(steps=[('preprocessor',\n",
       "                 ColumnTransformer(transformers=[('num',\n",
       "                                                  Pipeline(steps=[('scaler',\n",
       "                                                                   StandardScaler())]),\n",
       "                                                  Index(['building_size', 'land_size', 'bedroom_count', 'bathroom_count',\n",
       "       'parking_count'],\n",
       "      dtype='object')),\n",
       "                                                 ('cat',\n",
       "                                                  OneHotEncoder(handle_unknown='ignore'),\n",
       "                                                  ['property_type',\n",
       "                                                   'product_depth'])])),\n",
       "                ('model',\n",
       "                 DecisionTreeRegressor(ccp_alpha=0.01, max_depth=5,\n",
       "                                       min_samples_leaf=5, min_samples_split=5,\n",
       "                                       random_state=123))])"
      ]
     },
     "execution_count": 120,
     "metadata": {},
     "output_type": "execute_result"
    }
   ],
   "source": [
    "# fitting data\n",
    "dt2.fit(X_train, y_train)"
   ]
  },
  {
   "cell_type": "code",
   "execution_count": 121,
   "metadata": {
    "ExecuteTime": {
     "end_time": "2023-01-04T16:37:48.545537Z",
     "start_time": "2023-01-04T16:37:46.012497Z"
    }
   },
   "outputs": [
    {
     "data": {
      "image/png": "[encoded data removed]",
      "text/plain": [
       "<Figure size 1440x720 with 1 Axes>"
      ]
     },
     "metadata": {
      "needs_background": "light"
     },
     "output_type": "display_data"
    }
   ],
   "source": [
    "# viewing model\n",
    "plt.figure(figsize = (20, 10))\n",
    "plot_tree(dt2[\"model\"])\n",
    "plt.show()"
   ]
  },
  {
   "cell_type": "code",
   "execution_count": 122,
   "metadata": {
    "ExecuteTime": {
     "end_time": "2023-01-04T16:37:52.555010Z",
     "start_time": "2023-01-04T16:37:52.525106Z"
    }
   },
   "outputs": [],
   "source": [
    "y_train_pred2 = dt2.predict(X_train)\n",
    "y_test_pred2 = dt2.predict(X_test)"
   ]
  },
  {
   "cell_type": "code",
   "execution_count": 123,
   "metadata": {
    "ExecuteTime": {
     "end_time": "2023-01-04T16:37:53.334054Z",
     "start_time": "2023-01-04T16:37:53.321425Z"
    }
   },
   "outputs": [
    {
     "name": "stdout",
     "output_type": "stream",
     "text": [
      "Decision Tree Model Metrics (train)\n",
      "R-squared score: 0.5880939208277325\n",
      "RMSE: 7485913456.96961\n",
      "MAE: 66151.5459687054\n"
     ]
    }
   ],
   "source": [
    "print(\"Decision Tree Model Metrics (train)\")\n",
    "print(\"R-squared score: \"+ str(r2_score(y_train, y_train_pred2)))\n",
    "print(\"RMSE: \"+ str(mean_squared_error(y_train, y_train_pred2)))\n",
    "print(\"MAE: \"+ str(mean_absolute_error(y_train, y_train_pred2)))"
   ]
  },
  {
   "cell_type": "code",
   "execution_count": 124,
   "metadata": {
    "ExecuteTime": {
     "end_time": "2023-01-04T16:37:54.422391Z",
     "start_time": "2023-01-04T16:37:54.407389Z"
    }
   },
   "outputs": [
    {
     "name": "stdout",
     "output_type": "stream",
     "text": [
      "Decision Tree Model Metrics (test)\n",
      "R-squared score: 0.4292223160876816\n",
      "RMSE: 11954584167.258444\n",
      "MAE: 82216.93781058241\n"
     ]
    }
   ],
   "source": [
    "# overfitting issues- change model to use more regularization\n",
    "print(\"Decision Tree Model Metrics (test)\")\n",
    "print(\"R-squared score: \"+ str(r2_score(y_test, y_test_pred2)))\n",
    "print(\"RMSE: \"+ str(mean_squared_error(y_test, y_test_pred2)))\n",
    "print(\"MAE: \"+ str(mean_absolute_error(y_test, y_test_pred2)))"
   ]
  },
  {
   "cell_type": "code",
   "execution_count": 125,
   "metadata": {
    "ExecuteTime": {
     "end_time": "2023-01-04T16:38:07.175270Z",
     "start_time": "2023-01-04T16:38:07.112475Z"
    }
   },
   "outputs": [
    {
     "data": {
      "text/plain": [
       "Pipeline(steps=[('preprocessor',\n",
       "                 ColumnTransformer(transformers=[('num',\n",
       "                                                  Pipeline(steps=[('scaler',\n",
       "                                                                   StandardScaler())]),\n",
       "                                                  Index(['building_size', 'land_size', 'bedroom_count', 'bathroom_count',\n",
       "       'parking_count'],\n",
       "      dtype='object')),\n",
       "                                                 ('cat',\n",
       "                                                  OneHotEncoder(handle_unknown='ignore'),\n",
       "                                                  ['property_type',\n",
       "                                                   'product_depth'])])),\n",
       "                ('model',\n",
       "                 DecisionTreeRegressor(ccp_alpha=0.01, max_depth=5,\n",
       "                                       max_features='sqrt', min_samples_leaf=5,\n",
       "                                       min_samples_split=20,\n",
       "                                       random_state=123))])"
      ]
     },
     "execution_count": 125,
     "metadata": {},
     "output_type": "execute_result"
    }
   ],
   "source": [
    "regress_dt3 = DecisionTreeRegressor(ccp_alpha = 0.01, max_depth = 5, min_samples_split = 20, \n",
    "                                 min_samples_leaf = 5, random_state = 123, max_features = \"sqrt\")\n",
    "dt3 = Pipeline(\n",
    "    steps = [(\"preprocessor\", processor), (\"model\", regress_dt3)]\n",
    ")\n",
    "\n",
    "dt3.fit(X_train, y_train)"
   ]
  },
  {
   "cell_type": "code",
   "execution_count": 126,
   "metadata": {
    "ExecuteTime": {
     "end_time": "2023-01-04T16:38:07.892829Z",
     "start_time": "2023-01-04T16:38:07.865495Z"
    }
   },
   "outputs": [],
   "source": [
    "y_train_pred3 = dt3.predict(X_train)\n",
    "y_test_pred3 = dt3.predict(X_test)"
   ]
  },
  {
   "cell_type": "code",
   "execution_count": 127,
   "metadata": {
    "ExecuteTime": {
     "end_time": "2023-01-04T16:38:08.623144Z",
     "start_time": "2023-01-04T16:38:08.609340Z"
    }
   },
   "outputs": [
    {
     "name": "stdout",
     "output_type": "stream",
     "text": [
      "Decision Tree Model Metrics (train)\n",
      "R-squared score: 0.5209727161547922\n",
      "RMSE: 8705763210.871965\n",
      "MAE: 70660.13147885012\n"
     ]
    }
   ],
   "source": [
    "print(\"Decision Tree Model Metrics (train)\")\n",
    "print(\"R-squared score: \"+ str(r2_score(y_train, y_train_pred3)))\n",
    "print(\"RMSE: \"+ str(mean_squared_error(y_train, y_train_pred3)))\n",
    "print(\"MAE: \"+ str(mean_absolute_error(y_train, y_train_pred3)))"
   ]
  },
  {
   "cell_type": "code",
   "execution_count": 128,
   "metadata": {
    "ExecuteTime": {
     "end_time": "2023-01-04T16:38:09.325456Z",
     "start_time": "2023-01-04T16:38:09.311656Z"
    }
   },
   "outputs": [
    {
     "name": "stdout",
     "output_type": "stream",
     "text": [
      "Decision Tree Model Metrics (test)\n",
      "R-squared score: 0.44348557468223426\n",
      "RMSE: 11655849072.71304\n",
      "MAE: 82437.28396715508\n"
     ]
    }
   ],
   "source": [
    "# overfitting under control, but worse performance\n",
    "print(\"Decision Tree Model Metrics (test)\")\n",
    "print(\"R-squared score: \"+ str(r2_score(y_test, y_test_pred3)))\n",
    "print(\"RMSE: \"+ str(mean_squared_error(y_test, y_test_pred3)))\n",
    "print(\"MAE: \"+ str(mean_absolute_error(y_test, y_test_pred3)))"
   ]
  },
  {
   "cell_type": "markdown",
   "metadata": {},
   "source": [
    "## Gradient Boosting Regressor"
   ]
  },
  {
   "cell_type": "code",
   "execution_count": 129,
   "metadata": {
    "ExecuteTime": {
     "end_time": "2023-01-04T16:38:18.461061Z",
     "start_time": "2023-01-04T16:38:18.445831Z"
    }
   },
   "outputs": [],
   "source": [
    "from sklearn.ensemble import GradientBoostingRegressor"
   ]
  },
  {
   "cell_type": "code",
   "execution_count": 130,
   "metadata": {
    "ExecuteTime": {
     "end_time": "2023-01-04T16:38:19.223102Z",
     "start_time": "2023-01-04T16:38:19.209876Z"
    }
   },
   "outputs": [],
   "source": [
    "regress_gb = GradientBoostingRegressor(random_state = 123)"
   ]
  },
  {
   "cell_type": "code",
   "execution_count": 131,
   "metadata": {
    "ExecuteTime": {
     "end_time": "2023-01-04T16:39:53.630484Z",
     "start_time": "2023-01-04T16:38:19.972673Z"
    }
   },
   "outputs": [
    {
     "data": {
      "text/plain": [
       "{'model__ccp_alpha': 0.01,\n",
       " 'model__max_depth': 3,\n",
       " 'model__max_features': 'sqrt',\n",
       " 'model__min_samples_leaf': 5,\n",
       " 'model__min_samples_split': 20}"
      ]
     },
     "execution_count": 131,
     "metadata": {},
     "output_type": "execute_result"
    }
   ],
   "source": [
    "# decision tree pipeline\n",
    "gb = Pipeline(\n",
    "    steps = [(\"preprocessor\", processor), (\"model\", regress_gb)]\n",
    ")\n",
    "\n",
    "# determine best parameters\n",
    "param_grid = {\n",
    "    'model__ccp_alpha': [0.01, 0.02, 0.03],\n",
    "    'model__max_depth': [3, 4, 5],\n",
    "    'model__min_samples_split': [5, 10, 20],\n",
    "    'model__min_samples_leaf':[5, 10, 15],\n",
    "    'model__max_features':[\"auto\", \"sqrt\", \"log2\"]\n",
    "}\n",
    "\n",
    "gb_test = GridSearchCV(gb, param_grid, cv=5)\n",
    "gb_test.fit(X_train, y_train)\n",
    "\n",
    "gb_test.best_params_"
   ]
  },
  {
   "cell_type": "code",
   "execution_count": 132,
   "metadata": {
    "ExecuteTime": {
     "end_time": "2023-01-04T16:39:54.282595Z",
     "start_time": "2023-01-04T16:39:54.269571Z"
    }
   },
   "outputs": [],
   "source": [
    "regress_gb2 = GradientBoostingRegressor(random_state = 123, ccp_alpha = 0.01, \n",
    "                                     max_depth = 3, min_samples_leaf = 5, \n",
    "                                    min_samples_split = 20, max_features = \"sqrt\")\n",
    "gb2 = Pipeline(\n",
    "    steps = [(\"preprocessor\", processor), (\"model\", regress_gb2)]\n",
    ")"
   ]
  },
  {
   "cell_type": "code",
   "execution_count": 133,
   "metadata": {
    "ExecuteTime": {
     "end_time": "2023-01-04T16:39:59.834671Z",
     "start_time": "2023-01-04T16:39:59.727811Z"
    }
   },
   "outputs": [
    {
     "data": {
      "text/plain": [
       "Pipeline(steps=[('preprocessor',\n",
       "                 ColumnTransformer(transformers=[('num',\n",
       "                                                  Pipeline(steps=[('scaler',\n",
       "                                                                   StandardScaler())]),\n",
       "                                                  Index(['building_size', 'land_size', 'bedroom_count', 'bathroom_count',\n",
       "       'parking_count'],\n",
       "      dtype='object')),\n",
       "                                                 ('cat',\n",
       "                                                  OneHotEncoder(handle_unknown='ignore'),\n",
       "                                                  ['property_type',\n",
       "                                                   'product_depth'])])),\n",
       "                ('model',\n",
       "                 GradientBoostingRegressor(ccp_alpha=0.01, max_features='sqrt',\n",
       "                                           min_samples_leaf=5,\n",
       "                                           min_samples_split=20,\n",
       "                                           random_state=123))])"
      ]
     },
     "execution_count": 133,
     "metadata": {},
     "output_type": "execute_result"
    }
   ],
   "source": [
    "gb2.fit(X_train, y_train)"
   ]
  },
  {
   "cell_type": "code",
   "execution_count": 134,
   "metadata": {
    "ExecuteTime": {
     "end_time": "2023-01-04T16:40:00.536945Z",
     "start_time": "2023-01-04T16:40:00.509244Z"
    }
   },
   "outputs": [],
   "source": [
    "y_train_pred4 = gb2.predict(X_train)\n",
    "y_test_pred4 = gb2.predict(X_test)"
   ]
  },
  {
   "cell_type": "code",
   "execution_count": 135,
   "metadata": {
    "ExecuteTime": {
     "end_time": "2023-01-04T16:40:01.315652Z",
     "start_time": "2023-01-04T16:40:01.304559Z"
    }
   },
   "outputs": [
    {
     "name": "stdout",
     "output_type": "stream",
     "text": [
      "Gradient Boosting Model Metrics (train)\n",
      "R-squared score: 0.6585940311782956\n",
      "RMSE: 6204656026.024038\n",
      "MAE: 59495.35425072405\n"
     ]
    }
   ],
   "source": [
    "print(\"Gradient Boosting Model Metrics (train)\")\n",
    "print(\"R-squared score: \"+ str(r2_score(y_train, y_train_pred4)))\n",
    "print(\"RMSE: \"+ str(mean_squared_error(y_train, y_train_pred4)))\n",
    "print(\"MAE: \"+ str(mean_absolute_error(y_train, y_train_pred4)))"
   ]
  },
  {
   "cell_type": "code",
   "execution_count": 136,
   "metadata": {
    "ExecuteTime": {
     "end_time": "2023-01-04T16:40:02.033406Z",
     "start_time": "2023-01-04T16:40:02.021322Z"
    }
   },
   "outputs": [
    {
     "name": "stdout",
     "output_type": "stream",
     "text": [
      "Gradient Boosting  Model Metrics (test)\n",
      "R-squared score: 0.5073745837677521\n",
      "RMSE: 10317733449.060015\n",
      "MAE: 78789.52342338228\n"
     ]
    }
   ],
   "source": [
    "# overfitting issues- change model to use more regularization\n",
    "print(\"Gradient Boosting  Model Metrics (test)\")\n",
    "print(\"R-squared score: \"+ str(r2_score(y_test, y_test_pred4)))\n",
    "print(\"RMSE: \"+ str(mean_squared_error(y_test, y_test_pred4)))\n",
    "print(\"MAE: \"+ str(mean_absolute_error(y_test, y_test_pred4)))"
   ]
  },
  {
   "cell_type": "code",
   "execution_count": 141,
   "metadata": {
    "ExecuteTime": {
     "end_time": "2023-01-04T16:40:17.189732Z",
     "start_time": "2023-01-04T16:40:17.178243Z"
    }
   },
   "outputs": [],
   "source": [
    "# add subsample to deal with overfitting\n",
    "regress_gb3 = GradientBoostingRegressor(random_state = 123, ccp_alpha = 0.01, \n",
    "                                     max_depth = 3, min_samples_leaf = 5, \n",
    "                                    min_samples_split = 20, max_features = \"sqrt\",\n",
    "                                       subsample = 0.09)\n",
    "gb3 = Pipeline(\n",
    "    steps = [(\"preprocessor\", processor), (\"model\", regress_gb3)]\n",
    ")"
   ]
  },
  {
   "cell_type": "code",
   "execution_count": 142,
   "metadata": {
    "ExecuteTime": {
     "end_time": "2023-01-04T16:40:18.092303Z",
     "start_time": "2023-01-04T16:40:17.983916Z"
    }
   },
   "outputs": [],
   "source": [
    "gb3.fit(X_train, y_train)\n",
    "y_train_pred5 = gb3.predict(X_train)\n",
    "y_test_pred5 = gb3.predict(X_test)"
   ]
  },
  {
   "cell_type": "code",
   "execution_count": 143,
   "metadata": {
    "ExecuteTime": {
     "end_time": "2023-01-04T16:40:18.855065Z",
     "start_time": "2023-01-04T16:40:18.843160Z"
    }
   },
   "outputs": [
    {
     "name": "stdout",
     "output_type": "stream",
     "text": [
      "Gradient Boosting Model Metrics (train)\n",
      "R-squared score: 0.5840001868821543\n",
      "RMSE: 7560312305.595587\n",
      "MAE: 66408.42927813139\n"
     ]
    }
   ],
   "source": [
    "print(\"Gradient Boosting Model Metrics (train)\")\n",
    "print(\"R-squared score: \"+ str(r2_score(y_train, y_train_pred5)))\n",
    "print(\"RMSE: \"+ str(mean_squared_error(y_train, y_train_pred5)))\n",
    "print(\"MAE: \"+ str(mean_absolute_error(y_train, y_train_pred5)))"
   ]
  },
  {
   "cell_type": "code",
   "execution_count": 144,
   "metadata": {
    "ExecuteTime": {
     "end_time": "2023-01-04T16:40:19.602365Z",
     "start_time": "2023-01-04T16:40:19.588276Z"
    }
   },
   "outputs": [
    {
     "name": "stdout",
     "output_type": "stream",
     "text": [
      "Gradient Boosting  Model Metrics (test)\n",
      "R-squared score: 0.43446584406926114\n",
      "RMSE: 11844761729.633503\n",
      "MAE: 84062.27742884165\n"
     ]
    }
   ],
   "source": [
    "# the best model we can get at this point\n",
    "print(\"Gradient Boosting  Model Metrics (test)\")\n",
    "print(\"R-squared score: \"+ str(r2_score(y_test, y_test_pred5)))\n",
    "print(\"RMSE: \"+ str(mean_squared_error(y_test, y_test_pred5)))\n",
    "print(\"MAE: \"+ str(mean_absolute_error(y_test, y_test_pred5)))"
   ]
  },
  {
   "cell_type": "code",
   "execution_count": null,
   "metadata": {},
   "outputs": [],
   "source": []
  }
 ],
 "metadata": {
  "kernelspec": {
   "display_name": "Python (learn-env)",
   "language": "python",
   "name": "learn-env"
  },
  "language_info": {
   "codemirror_mode": {
    "name": "ipython",
    "version": 3
   },
   "file_extension": ".py",
   "mimetype": "text/x-python",
   "name": "python",
   "nbconvert_exporter": "python",
   "pygments_lexer": "ipython3",
   "version": "3.8.5"
  },
  "toc": {
   "base_numbering": 1,
   "nav_menu": {},
   "number_sections": true,
   "sideBar": true,
   "skip_h1_title": false,
   "title_cell": "Table of Contents",
   "title_sidebar": "Contents",
   "toc_cell": false,
   "toc_position": {},
   "toc_section_display": true,
   "toc_window_display": false
  },
  "varInspector": {
   "cols": {
    "lenName": 16,
    "lenType": 16,
    "lenVar": 40
   },
   "kernels_config": {
    "python": {
     "delete_cmd_postfix": "",
     "delete_cmd_prefix": "del ",
     "library": "var_list.py",
     "varRefreshCmd": "print(var_dic_list())"
    },
    "r": {
     "delete_cmd_postfix": ") ",
     "delete_cmd_prefix": "rm(",
     "library": "var_list.r",
     "varRefreshCmd": "cat(var_dic_list()) "
    }
   },
   "types_to_exclude": [
    "module",
    "function",
    "builtin_function_or_method",
    "instance",
    "_Feature"
   ],
   "window_display": false
  }
 },
 "nbformat": 4,
 "nbformat_minor": 4
}
