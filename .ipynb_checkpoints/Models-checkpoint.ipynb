{
 "cells": [
  {
   "cell_type": "code",
   "execution_count": 1,
   "metadata": {
    "ExecuteTime": {
     "end_time": "2023-01-06T20:31:28.211146Z",
     "start_time": "2023-01-06T20:31:27.181185Z"
    }
   },
   "outputs": [],
   "source": [
    "import pandas as pd\n",
    "import numpy as np\n",
    "import matplotlib.pyplot as plt\n",
    "import seaborn as sb"
   ]
  },
  {
   "cell_type": "code",
   "execution_count": 2,
   "metadata": {
    "ExecuteTime": {
     "end_time": "2023-01-06T20:31:28.818043Z",
     "start_time": "2023-01-06T20:31:28.213050Z"
    }
   },
   "outputs": [],
   "source": [
    "from sklearn.preprocessing import StandardScaler, OneHotEncoder\n",
    "from sklearn.compose import ColumnTransformer\n",
    "from sklearn.model_selection import train_test_split, cross_val_score\n",
    "from sklearn.pipeline import Pipeline\n",
    "from sklearn.metrics import mean_squared_error, mean_absolute_error\n",
    "\n",
    "from sklearn.tree import DecisionTreeRegressor, plot_tree\n",
    "from sklearn.model_selection import GridSearchCV\n",
    "from sklearn.ensemble import GradientBoostingRegressor"
   ]
  },
  {
   "cell_type": "markdown",
   "metadata": {},
   "source": [
    "# Import Data"
   ]
  },
  {
   "cell_type": "code",
   "execution_count": 3,
   "metadata": {
    "ExecuteTime": {
     "end_time": "2023-01-06T20:31:28.833641Z",
     "start_time": "2023-01-06T20:31:28.821497Z"
    }
   },
   "outputs": [],
   "source": [
    "# import our cleaned data from EDA\n",
    "data = pd.read_csv(\"data/data_clean.csv\", index_col = False)"
   ]
  },
  {
   "cell_type": "code",
   "execution_count": 4,
   "metadata": {
    "ExecuteTime": {
     "end_time": "2023-01-06T20:31:28.849638Z",
     "start_time": "2023-01-06T20:31:28.834245Z"
    }
   },
   "outputs": [],
   "source": [
    "# define our features that are categories\n",
    "# these features will be encoded later\n",
    "categories = [\"property_type\",\"product_depth\"]\n",
    "data[categories] = data[categories].apply(lambda x: x.astype(\"category\"))"
   ]
  },
  {
   "cell_type": "code",
   "execution_count": 5,
   "metadata": {
    "ExecuteTime": {
     "end_time": "2023-01-06T20:31:28.880913Z",
     "start_time": "2023-01-06T20:31:28.851736Z"
    }
   },
   "outputs": [
    {
     "data": {
      "text/html": [
       "<div>\n",
       "<style scoped>\n",
       "    .dataframe tbody tr th:only-of-type {\n",
       "        vertical-align: middle;\n",
       "    }\n",
       "\n",
       "    .dataframe tbody tr th {\n",
       "        vertical-align: top;\n",
       "    }\n",
       "\n",
       "    .dataframe thead th {\n",
       "        text-align: right;\n",
       "    }\n",
       "</style>\n",
       "<table border=\"1\" class=\"dataframe\">\n",
       "  <thead>\n",
       "    <tr style=\"text-align: right;\">\n",
       "      <th></th>\n",
       "      <th>building_size</th>\n",
       "      <th>land_size</th>\n",
       "      <th>price</th>\n",
       "      <th>bedroom_count</th>\n",
       "      <th>bathroom_count</th>\n",
       "      <th>parking_count</th>\n",
       "      <th>property_type</th>\n",
       "      <th>product_depth</th>\n",
       "    </tr>\n",
       "  </thead>\n",
       "  <tbody>\n",
       "    <tr>\n",
       "      <th>656</th>\n",
       "      <td>198.0</td>\n",
       "      <td>178.0</td>\n",
       "      <td>450000.0</td>\n",
       "      <td>3.0</td>\n",
       "      <td>2.0</td>\n",
       "      <td>2.0</td>\n",
       "      <td>Apartment</td>\n",
       "      <td>premiere</td>\n",
       "    </tr>\n",
       "    <tr>\n",
       "      <th>275</th>\n",
       "      <td>210.0</td>\n",
       "      <td>818.0</td>\n",
       "      <td>420000.0</td>\n",
       "      <td>3.0</td>\n",
       "      <td>1.0</td>\n",
       "      <td>4.0</td>\n",
       "      <td>House</td>\n",
       "      <td>premiere</td>\n",
       "    </tr>\n",
       "    <tr>\n",
       "      <th>327</th>\n",
       "      <td>210.0</td>\n",
       "      <td>804.0</td>\n",
       "      <td>490000.0</td>\n",
       "      <td>3.0</td>\n",
       "      <td>2.0</td>\n",
       "      <td>2.0</td>\n",
       "      <td>House</td>\n",
       "      <td>premiere</td>\n",
       "    </tr>\n",
       "    <tr>\n",
       "      <th>285</th>\n",
       "      <td>135.0</td>\n",
       "      <td>178.0</td>\n",
       "      <td>380000.0</td>\n",
       "      <td>3.0</td>\n",
       "      <td>2.0</td>\n",
       "      <td>2.0</td>\n",
       "      <td>Apartment</td>\n",
       "      <td>standard</td>\n",
       "    </tr>\n",
       "    <tr>\n",
       "      <th>280</th>\n",
       "      <td>210.0</td>\n",
       "      <td>813.0</td>\n",
       "      <td>435000.0</td>\n",
       "      <td>3.0</td>\n",
       "      <td>1.0</td>\n",
       "      <td>2.0</td>\n",
       "      <td>House</td>\n",
       "      <td>premiere</td>\n",
       "    </tr>\n",
       "    <tr>\n",
       "      <th>754</th>\n",
       "      <td>210.0</td>\n",
       "      <td>804.0</td>\n",
       "      <td>500000.0</td>\n",
       "      <td>4.0</td>\n",
       "      <td>2.0</td>\n",
       "      <td>2.0</td>\n",
       "      <td>House</td>\n",
       "      <td>feature</td>\n",
       "    </tr>\n",
       "    <tr>\n",
       "      <th>202</th>\n",
       "      <td>210.0</td>\n",
       "      <td>343.0</td>\n",
       "      <td>555000.0</td>\n",
       "      <td>4.0</td>\n",
       "      <td>2.0</td>\n",
       "      <td>2.0</td>\n",
       "      <td>House</td>\n",
       "      <td>premiere</td>\n",
       "    </tr>\n",
       "    <tr>\n",
       "      <th>145</th>\n",
       "      <td>172.0</td>\n",
       "      <td>178.0</td>\n",
       "      <td>559000.0</td>\n",
       "      <td>2.0</td>\n",
       "      <td>2.0</td>\n",
       "      <td>1.0</td>\n",
       "      <td>Apartment</td>\n",
       "      <td>standard</td>\n",
       "    </tr>\n",
       "    <tr>\n",
       "      <th>774</th>\n",
       "      <td>149.0</td>\n",
       "      <td>804.0</td>\n",
       "      <td>515000.0</td>\n",
       "      <td>4.0</td>\n",
       "      <td>2.0</td>\n",
       "      <td>2.0</td>\n",
       "      <td>House</td>\n",
       "      <td>premiere</td>\n",
       "    </tr>\n",
       "    <tr>\n",
       "      <th>700</th>\n",
       "      <td>155.0</td>\n",
       "      <td>487.0</td>\n",
       "      <td>555000.0</td>\n",
       "      <td>3.0</td>\n",
       "      <td>2.0</td>\n",
       "      <td>2.0</td>\n",
       "      <td>House</td>\n",
       "      <td>premiere</td>\n",
       "    </tr>\n",
       "  </tbody>\n",
       "</table>\n",
       "</div>"
      ],
      "text/plain": [
       "     building_size  land_size     price  bedroom_count  bathroom_count  \\\n",
       "656          198.0      178.0  450000.0            3.0             2.0   \n",
       "275          210.0      818.0  420000.0            3.0             1.0   \n",
       "327          210.0      804.0  490000.0            3.0             2.0   \n",
       "285          135.0      178.0  380000.0            3.0             2.0   \n",
       "280          210.0      813.0  435000.0            3.0             1.0   \n",
       "754          210.0      804.0  500000.0            4.0             2.0   \n",
       "202          210.0      343.0  555000.0            4.0             2.0   \n",
       "145          172.0      178.0  559000.0            2.0             2.0   \n",
       "774          149.0      804.0  515000.0            4.0             2.0   \n",
       "700          155.0      487.0  555000.0            3.0             2.0   \n",
       "\n",
       "     parking_count property_type product_depth  \n",
       "656            2.0     Apartment      premiere  \n",
       "275            4.0         House      premiere  \n",
       "327            2.0         House      premiere  \n",
       "285            2.0     Apartment      standard  \n",
       "280            2.0         House      premiere  \n",
       "754            2.0         House       feature  \n",
       "202            2.0         House      premiere  \n",
       "145            1.0     Apartment      standard  \n",
       "774            2.0         House      premiere  \n",
       "700            2.0         House      premiere  "
      ]
     },
     "execution_count": 5,
     "metadata": {},
     "output_type": "execute_result"
    }
   ],
   "source": [
    "# check a sample of the data\n",
    "data.sample(10, random_state = 123)"
   ]
  },
  {
   "cell_type": "code",
   "execution_count": 6,
   "metadata": {
    "ExecuteTime": {
     "end_time": "2023-01-06T20:31:28.897110Z",
     "start_time": "2023-01-06T20:31:28.882037Z"
    }
   },
   "outputs": [],
   "source": [
    "# set our predictors and target variables\n",
    "X = data.drop(\"price\", axis = 1)\n",
    "y = data[\"price\"]"
   ]
  },
  {
   "cell_type": "markdown",
   "metadata": {},
   "source": [
    "# Data Pipeline(s)"
   ]
  },
  {
   "cell_type": "code",
   "execution_count": 7,
   "metadata": {
    "ExecuteTime": {
     "end_time": "2023-01-06T20:31:28.911834Z",
     "start_time": "2023-01-06T20:31:28.901732Z"
    }
   },
   "outputs": [],
   "source": [
    "# split our data into training and testing data (75% training, 25% testing)\n",
    "X_train, X_test, y_train, y_test = train_test_split(X, y, test_size = 0.25, random_state = 123)"
   ]
  },
  {
   "cell_type": "code",
   "execution_count": 8,
   "metadata": {
    "ExecuteTime": {
     "end_time": "2023-01-06T20:31:28.927079Z",
     "start_time": "2023-01-06T20:31:28.913992Z"
    }
   },
   "outputs": [
    {
     "data": {
      "text/html": [
       "<div>\n",
       "<style scoped>\n",
       "    .dataframe tbody tr th:only-of-type {\n",
       "        vertical-align: middle;\n",
       "    }\n",
       "\n",
       "    .dataframe tbody tr th {\n",
       "        vertical-align: top;\n",
       "    }\n",
       "\n",
       "    .dataframe thead th {\n",
       "        text-align: right;\n",
       "    }\n",
       "</style>\n",
       "<table border=\"1\" class=\"dataframe\">\n",
       "  <thead>\n",
       "    <tr style=\"text-align: right;\">\n",
       "      <th></th>\n",
       "      <th>building_size</th>\n",
       "      <th>land_size</th>\n",
       "      <th>bedroom_count</th>\n",
       "      <th>bathroom_count</th>\n",
       "      <th>parking_count</th>\n",
       "      <th>property_type</th>\n",
       "      <th>product_depth</th>\n",
       "    </tr>\n",
       "  </thead>\n",
       "  <tbody>\n",
       "    <tr>\n",
       "      <th>200</th>\n",
       "      <td>210.0</td>\n",
       "      <td>804.0</td>\n",
       "      <td>5.0</td>\n",
       "      <td>2.0</td>\n",
       "      <td>6.0</td>\n",
       "      <td>House</td>\n",
       "      <td>premiere</td>\n",
       "    </tr>\n",
       "    <tr>\n",
       "      <th>763</th>\n",
       "      <td>86.0</td>\n",
       "      <td>153.0</td>\n",
       "      <td>1.0</td>\n",
       "      <td>1.0</td>\n",
       "      <td>1.0</td>\n",
       "      <td>Unit</td>\n",
       "      <td>premiere</td>\n",
       "    </tr>\n",
       "    <tr>\n",
       "      <th>752</th>\n",
       "      <td>210.0</td>\n",
       "      <td>369.0</td>\n",
       "      <td>6.0</td>\n",
       "      <td>3.0</td>\n",
       "      <td>3.0</td>\n",
       "      <td>House</td>\n",
       "      <td>feature</td>\n",
       "    </tr>\n",
       "    <tr>\n",
       "      <th>779</th>\n",
       "      <td>107.0</td>\n",
       "      <td>158.0</td>\n",
       "      <td>2.0</td>\n",
       "      <td>2.0</td>\n",
       "      <td>2.0</td>\n",
       "      <td>Unit</td>\n",
       "      <td>premiere</td>\n",
       "    </tr>\n",
       "    <tr>\n",
       "      <th>246</th>\n",
       "      <td>107.0</td>\n",
       "      <td>261.0</td>\n",
       "      <td>3.0</td>\n",
       "      <td>2.0</td>\n",
       "      <td>3.0</td>\n",
       "      <td>Unit</td>\n",
       "      <td>premiere</td>\n",
       "    </tr>\n",
       "  </tbody>\n",
       "</table>\n",
       "</div>"
      ],
      "text/plain": [
       "     building_size  land_size  bedroom_count  bathroom_count  parking_count  \\\n",
       "200          210.0      804.0            5.0             2.0            6.0   \n",
       "763           86.0      153.0            1.0             1.0            1.0   \n",
       "752          210.0      369.0            6.0             3.0            3.0   \n",
       "779          107.0      158.0            2.0             2.0            2.0   \n",
       "246          107.0      261.0            3.0             2.0            3.0   \n",
       "\n",
       "    property_type product_depth  \n",
       "200         House      premiere  \n",
       "763          Unit      premiere  \n",
       "752         House       feature  \n",
       "779          Unit      premiere  \n",
       "246          Unit      premiere  "
      ]
     },
     "execution_count": 8,
     "metadata": {},
     "output_type": "execute_result"
    }
   ],
   "source": [
    "X_train.head()"
   ]
  },
  {
   "cell_type": "code",
   "execution_count": 9,
   "metadata": {
    "ExecuteTime": {
     "end_time": "2023-01-06T20:31:28.942101Z",
     "start_time": "2023-01-06T20:31:28.928319Z"
    }
   },
   "outputs": [],
   "source": [
    "# set up scaling step for numeric columns\n",
    "nums = X.drop(categories, axis = 1).columns\n",
    "num_trans = Pipeline(\n",
    "    steps = [(\"scaler\", StandardScaler())]\n",
    ")\n",
    "\n",
    "# set up one hot encoder for categorical variables\n",
    "cat_trans = OneHotEncoder(handle_unknown = \"ignore\")"
   ]
  },
  {
   "cell_type": "code",
   "execution_count": 10,
   "metadata": {
    "ExecuteTime": {
     "end_time": "2023-01-06T20:31:28.957561Z",
     "start_time": "2023-01-06T20:31:28.949814Z"
    }
   },
   "outputs": [],
   "source": [
    "# combine scaling and encoding into a single column transformer\n",
    "processor = ColumnTransformer(\n",
    "    transformers = [\n",
    "        (\"num\", num_trans, nums),\n",
    "        (\"cat\", cat_trans, categories)\n",
    "    ]\n",
    ")"
   ]
  },
  {
   "cell_type": "markdown",
   "metadata": {
    "ExecuteTime": {
     "end_time": "2023-01-03T21:54:03.980418Z",
     "start_time": "2023-01-03T21:54:03.962603Z"
    }
   },
   "source": [
    "# Models"
   ]
  },
  {
   "cell_type": "code",
   "execution_count": 11,
   "metadata": {
    "ExecuteTime": {
     "end_time": "2023-01-06T20:31:28.973070Z",
     "start_time": "2023-01-06T20:31:28.960003Z"
    }
   },
   "outputs": [],
   "source": [
    "# build a pipeline using the preprocessor ColumnTransformer\n",
    "# and the model specified\n",
    "def pipeMaker(model):\n",
    "    # two steps:\n",
    "    # - a preprocessing step to encode and scale the data\n",
    "    # - a model step to fit the model on the transformed data\n",
    "    pipe = Pipeline(\n",
    "        steps = [(\"preprocessor\", processor), (\"model\", model)]\n",
    "    ) \n",
    "    return pipe"
   ]
  },
  {
   "cell_type": "code",
   "execution_count": 12,
   "metadata": {
    "ExecuteTime": {
     "end_time": "2023-01-06T20:31:28.988297Z",
     "start_time": "2023-01-06T20:31:28.974842Z"
    }
   },
   "outputs": [],
   "source": [
    "# prints out model metrics\n",
    "def printMetrics(string, y_train_pred, y_train, y_test_pred, y_test):\n",
    "    # model label\n",
    "    print(string + \" Performance\")\n",
    "    \n",
    "    # training regression metrics\n",
    "    print(\"\\nTraining\")\n",
    "    print(\"RMSE: \"+ str(mean_squared_error(y_train, y_train_pred, squared = False)))\n",
    "    print(\"MAE: \"+ str(mean_absolute_error(y_train, y_train_pred)))\n",
    "    \n",
    "    # testing regression metrics\n",
    "    print(\"\\nTest\")\n",
    "    print(\"RMSE: \"+ str(mean_squared_error(y_test, y_test_pred, squared = False)))\n",
    "    print(\"MAE: \"+ str(mean_absolute_error(y_test, y_test_pred)))"
   ]
  },
  {
   "cell_type": "code",
   "execution_count": 13,
   "metadata": {
    "ExecuteTime": {
     "end_time": "2023-01-06T20:31:29.003550Z",
     "start_time": "2023-01-06T20:31:28.989321Z"
    }
   },
   "outputs": [],
   "source": [
    "# get model performance, comparing training and testing metrics\n",
    "def getModelPerf(string, pipe, X_train, y_train, X_test, y_test):\n",
    "    # get predicted train/test values\n",
    "    y_train_pred = pipe.predict(X_train)\n",
    "    y_test_pred = pipe.predict(X_test)\n",
    "    \n",
    "    # prints out model performance metrics\n",
    "    printMetrics(string, y_train_pred, y_train, y_test_pred, y_test)   "
   ]
  },
  {
   "cell_type": "markdown",
   "metadata": {
    "ExecuteTime": {
     "end_time": "2023-01-04T23:56:16.455102Z",
     "start_time": "2023-01-04T23:56:16.448535Z"
    }
   },
   "source": [
    "## Baseline Model (median)"
   ]
  },
  {
   "cell_type": "code",
   "execution_count": 14,
   "metadata": {
    "ExecuteTime": {
     "end_time": "2023-01-06T20:31:29.018961Z",
     "start_time": "2023-01-06T20:31:29.005642Z"
    }
   },
   "outputs": [],
   "source": [
    "# make the predicted values the median housing price\n",
    "pred_train = [np.median(data[\"price\"])] * len(y_train)\n",
    "pred_test = [np.median(data[\"price\"])] * len(y_test)"
   ]
  },
  {
   "cell_type": "code",
   "execution_count": 15,
   "metadata": {
    "ExecuteTime": {
     "end_time": "2023-01-06T20:31:29.034217Z",
     "start_time": "2023-01-06T20:31:29.020512Z"
    }
   },
   "outputs": [
    {
     "name": "stdout",
     "output_type": "stream",
     "text": [
      "Baseline (median) Model Performance\n",
      "\n",
      "Training\n",
      "RMSE: 140709.85860185194\n",
      "MAE: 112789.31962025317\n",
      "\n",
      "Test\n",
      "RMSE: 124670.31404384715\n",
      "MAE: 98649.28909952607\n"
     ]
    }
   ],
   "source": [
    "# baseline model performance\n",
    "printMetrics(\"Baseline (median) Model\", pred_train, y_train, pred_test, y_test)   "
   ]
  },
  {
   "cell_type": "markdown",
   "metadata": {},
   "source": [
    "## Decision Tree"
   ]
  },
  {
   "cell_type": "code",
   "execution_count": 16,
   "metadata": {
    "ExecuteTime": {
     "end_time": "2023-01-06T20:31:39.829903Z",
     "start_time": "2023-01-06T20:31:29.035521Z"
    }
   },
   "outputs": [
    {
     "data": {
      "text/plain": [
       "{'model__max_depth': 10,\n",
       " 'model__max_features': 'sqrt',\n",
       " 'model__min_samples_leaf': 5,\n",
       " 'model__min_samples_split': 5}"
      ]
     },
     "execution_count": 16,
     "metadata": {},
     "output_type": "execute_result"
    }
   ],
   "source": [
    "# decision tree pipeline\n",
    "regress_dt = DecisionTreeRegressor(random_state = 123, ccp_alpha = 0.1)\n",
    "dt = pipeMaker(regress_dt)\n",
    "\n",
    "# determine best parameters using a parameter grid\n",
    "param_grid = {\n",
    "    'model__max_depth': [1, 3, 5, 10],\n",
    "    'model__min_samples_split': [5, 10, 20],\n",
    "    'model__min_samples_leaf':[5, 10, 15],\n",
    "    'model__max_features':[\"auto\", \"sqrt\", \"log2\"] \n",
    "}\n",
    "\n",
    "# use gridsearchCV to determine which model params lead to the best model\n",
    "# based on RMSE\n",
    "dt_test = GridSearchCV(dt, param_grid, cv=10, scoring = \"neg_mean_squared_error\")\n",
    "dt_test.fit(X_train, y_train)\n",
    "dt_test.best_params_"
   ]
  },
  {
   "cell_type": "code",
   "execution_count": 17,
   "metadata": {
    "ExecuteTime": {
     "end_time": "2023-01-06T20:31:40.217163Z",
     "start_time": "2023-01-06T20:31:39.831826Z"
    }
   },
   "outputs": [
    {
     "data": {
      "image/png": "[encoded data removed]",
      "text/plain": [
       "<Figure size 720x360 with 1 Axes>"
      ]
     },
     "metadata": {
      "needs_background": "light"
     },
     "output_type": "display_data"
    }
   ],
   "source": [
    "scores = cross_val_score(dt_test.best_estimator_, X_test, y_test, scoring = \"neg_mean_squared_error\", cv = 25)\n",
    "RMSEs = (-1 * scores)**0.5\n",
    "\n",
    "plt.figure(figsize = (10, 5))\n",
    "sb.boxplot(x = RMSEs)\n",
    "plt.xlabel(\"RMSE (AUD)\")\n",
    "plt.show()"
   ]
  },
  {
   "cell_type": "code",
   "execution_count": 18,
   "metadata": {
    "ExecuteTime": {
     "end_time": "2023-01-06T20:31:40.248192Z",
     "start_time": "2023-01-06T20:31:40.221805Z"
    }
   },
   "outputs": [
    {
     "name": "stdout",
     "output_type": "stream",
     "text": [
      "Decision Tree Model Performance\n",
      "\n",
      "Training\n",
      "RMSE: 88948.44202486823\n",
      "MAE: 67639.61169522975\n",
      "\n",
      "Test\n",
      "RMSE: 94997.46552529749\n",
      "MAE: 71849.56353578318\n"
     ]
    }
   ],
   "source": [
    "# looking at our best model according to GridSearchCV:\n",
    "# not much overfitting- values are as expected for RMSE\n",
    "getModelPerf(\"Decision Tree Model\", dt_test, X_train, y_train, X_test, y_test)"
   ]
  },
  {
   "cell_type": "code",
   "execution_count": 19,
   "metadata": {
    "ExecuteTime": {
     "end_time": "2023-01-06T20:31:43.787426Z",
     "start_time": "2023-01-06T20:31:40.252328Z"
    }
   },
   "outputs": [
    {
     "data": {
      "image/png": "[encoded data removed]",
      "text/plain": [
       "<Figure size 1440x720 with 1 Axes>"
      ]
     },
     "metadata": {
      "needs_background": "light"
     },
     "output_type": "display_data"
    }
   ],
   "source": [
    "# view the decision tree\n",
    "plt.figure(figsize = (20, 10))\n",
    "plot_tree(dt_test.best_estimator_[\"model\"])\n",
    "plt.show()"
   ]
  },
  {
   "cell_type": "markdown",
   "metadata": {},
   "source": [
    "## Gradient Boosting Regressor"
   ]
  },
  {
   "cell_type": "code",
   "execution_count": 20,
   "metadata": {
    "ExecuteTime": {
     "end_time": "2023-01-06T20:31:43.802978Z",
     "start_time": "2023-01-06T20:31:43.788986Z"
    }
   },
   "outputs": [],
   "source": [
    "# set up gradient boosting model\n",
    "regress_gb = GradientBoostingRegressor(random_state = 123, ccp_alpha = 0.01)"
   ]
  },
  {
   "cell_type": "code",
   "execution_count": 21,
   "metadata": {
    "ExecuteTime": {
     "end_time": "2023-01-06T20:32:43.367847Z",
     "start_time": "2023-01-06T20:31:43.805605Z"
    }
   },
   "outputs": [
    {
     "data": {
      "text/plain": [
       "{'model__max_depth': 3,\n",
       " 'model__max_features': 'sqrt',\n",
       " 'model__min_samples_leaf': 1,\n",
       " 'model__min_samples_split': 20}"
      ]
     },
     "execution_count": 21,
     "metadata": {},
     "output_type": "execute_result"
    }
   ],
   "source": [
    "# decision tree pipeline\n",
    "gb = pipeMaker(regress_gb)\n",
    "\n",
    "# determine best parameters\n",
    "param_grid = {\n",
    "    'model__max_depth': [3, 5, 10],\n",
    "    'model__min_samples_split': [5, 10, 20],\n",
    "    'model__min_samples_leaf':[1, 5, 10, 15],\n",
    "    'model__max_features':[\"auto\", \"sqrt\", \"log2\"],\n",
    "}\n",
    "\n",
    "# use gridsearchCV to determine which model params lead to the best model\n",
    "# based on RMSE\n",
    "gb_test = GridSearchCV(gb, param_grid, cv=10, scoring = \"neg_mean_squared_error\")\n",
    "gb_test.fit(X_train, y_train)\n",
    "gb_test.best_params_"
   ]
  },
  {
   "cell_type": "code",
   "execution_count": 22,
   "metadata": {
    "ExecuteTime": {
     "end_time": "2023-01-06T20:32:44.343687Z",
     "start_time": "2023-01-06T20:32:43.382363Z"
    }
   },
   "outputs": [
    {
     "data": {
      "image/png": "[encoded data removed]",
      "text/plain": [
       "<Figure size 720x360 with 1 Axes>"
      ]
     },
     "metadata": {
      "needs_background": "light"
     },
     "output_type": "display_data"
    }
   ],
   "source": [
    "scores = cross_val_score(gb_test.best_estimator_, X_test, y_test, scoring = \"neg_mean_squared_error\", cv = 25)\n",
    "RMSEs = (-1 * scores)**0.5\n",
    "\n",
    "plt.figure(figsize = (10, 5))\n",
    "sb.boxplot(x = RMSEs)\n",
    "plt.xlabel(\"RMSE (AUD)\")\n",
    "plt.show()"
   ]
  },
  {
   "cell_type": "code",
   "execution_count": 23,
   "metadata": {
    "ExecuteTime": {
     "end_time": "2023-01-06T20:32:44.374808Z",
     "start_time": "2023-01-06T20:32:44.347809Z"
    }
   },
   "outputs": [
    {
     "name": "stdout",
     "output_type": "stream",
     "text": [
      "Gradient Boosting Model Performance\n",
      "\n",
      "Training\n",
      "RMSE: 80903.03003981354\n",
      "MAE: 62168.32768203028\n",
      "\n",
      "Test\n",
      "RMSE: 87969.36918240116\n",
      "MAE: 68884.80788929528\n"
     ]
    }
   ],
   "source": [
    "# best gradient boosting model according to gridsearchCV in both RMSE and MAE\n",
    "# improved performance over decision tree, and no overfitting\n",
    "getModelPerf(\"Gradient Boosting Model\", gb_test, X_train, y_train, X_test, y_test)"
   ]
  },
  {
   "cell_type": "code",
   "execution_count": 24,
   "metadata": {
    "ExecuteTime": {
     "end_time": "2023-01-06T20:32:44.391177Z",
     "start_time": "2023-01-06T20:32:44.378298Z"
    }
   },
   "outputs": [],
   "source": [
    "# make the following adjustments to reduce overfitting:\n",
    "# - add subsample = 0.5 (regularization to reduce variance)\n",
    "regress_gb2 = GradientBoostingRegressor(random_state = 123, ccp_alpha = 0.01, \n",
    "                                     max_depth = 3, min_samples_leaf = 1, \n",
    "                                    min_samples_split = 20, max_features = \"sqrt\",\n",
    "                                       subsample = 0.5)\n",
    "gb2 = pipeMaker(regress_gb2)"
   ]
  },
  {
   "cell_type": "code",
   "execution_count": 25,
   "metadata": {
    "ExecuteTime": {
     "end_time": "2023-01-06T20:32:45.461689Z",
     "start_time": "2023-01-06T20:32:44.393958Z"
    }
   },
   "outputs": [
    {
     "data": {
      "image/png": "[encoded data removed]",
      "text/plain": [
       "<Figure size 720x360 with 1 Axes>"
      ]
     },
     "metadata": {
      "needs_background": "light"
     },
     "output_type": "display_data"
    }
   ],
   "source": [
    "scores = cross_val_score(gb2, X_test, y_test, scoring = \"neg_mean_squared_error\", cv = 25)\n",
    "RMSEs = (-1 * scores)**0.5\n",
    "\n",
    "plt.figure(figsize = (10, 5))\n",
    "sb.boxplot(x = RMSEs)\n",
    "plt.xlabel(\"RMSE (AUD)\")\n",
    "plt.show()"
   ]
  },
  {
   "cell_type": "code",
   "execution_count": 26,
   "metadata": {
    "ExecuteTime": {
     "end_time": "2023-01-06T20:32:45.539252Z",
     "start_time": "2023-01-06T20:32:45.464454Z"
    }
   },
   "outputs": [
    {
     "name": "stdout",
     "output_type": "stream",
     "text": [
      "Gradient Boosting Model (Subsampled) Performance\n",
      "\n",
      "Training\n",
      "RMSE: 81767.37901169198\n",
      "MAE: 63618.012762477236\n",
      "\n",
      "Test\n",
      "RMSE: 85967.02244773197\n",
      "MAE: 65196.84907461885\n"
     ]
    }
   ],
   "source": [
    "# improved performance - model generalizes better on the testing data\n",
    "# testing performance improved over the original best model\n",
    "gb2.fit(X_train, y_train)\n",
    "getModelPerf(\"Gradient Boosting Model (Subsampled)\", gb2, X_train, y_train, X_test, y_test)"
   ]
  },
  {
   "cell_type": "code",
   "execution_count": null,
   "metadata": {},
   "outputs": [],
   "source": []
  }
 ],
 "metadata": {
  "kernelspec": {
   "display_name": "Python (learn-env)",
   "language": "python",
   "name": "learn-env"
  },
  "language_info": {
   "codemirror_mode": {
    "name": "ipython",
    "version": 3
   },
   "file_extension": ".py",
   "mimetype": "text/x-python",
   "name": "python",
   "nbconvert_exporter": "python",
   "pygments_lexer": "ipython3",
   "version": "3.8.5"
  },
  "toc": {
   "base_numbering": 1,
   "nav_menu": {},
   "number_sections": true,
   "sideBar": true,
   "skip_h1_title": false,
   "title_cell": "Table of Contents",
   "title_sidebar": "Contents",
   "toc_cell": false,
   "toc_position": {},
   "toc_section_display": true,
   "toc_window_display": false
  },
  "varInspector": {
   "cols": {
    "lenName": 16,
    "lenType": 16,
    "lenVar": 40
   },
   "kernels_config": {
    "python": {
     "delete_cmd_postfix": "",
     "delete_cmd_prefix": "del ",
     "library": "var_list.py",
     "varRefreshCmd": "print(var_dic_list())"
    },
    "r": {
     "delete_cmd_postfix": ") ",
     "delete_cmd_prefix": "rm(",
     "library": "var_list.r",
     "varRefreshCmd": "cat(var_dic_list()) "
    }
   },
   "types_to_exclude": [
    "module",
    "function",
    "builtin_function_or_method",
    "instance",
    "_Feature"
   ],
   "window_display": false
  }
 },
 "nbformat": 4,
 "nbformat_minor": 4
}
