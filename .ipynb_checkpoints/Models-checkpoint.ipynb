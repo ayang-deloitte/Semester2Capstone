{
 "cells": [
  {
   "cell_type": "code",
   "execution_count": 1,
   "metadata": {
    "ExecuteTime": {
     "end_time": "2023-01-05T04:19:36.551137Z",
     "start_time": "2023-01-05T04:19:36.166710Z"
    }
   },
   "outputs": [],
   "source": [
    "import pandas as pd\n",
    "import numpy as np\n",
    "import matplotlib.pyplot as plt"
   ]
  },
  {
   "cell_type": "code",
   "execution_count": 8,
   "metadata": {
    "ExecuteTime": {
     "end_time": "2023-01-05T04:19:37.517636Z",
     "start_time": "2023-01-05T04:19:36.664503Z"
    }
   },
   "outputs": [],
   "source": [
    "from sklearn.preprocessing import StandardScaler, OneHotEncoder\n",
    "from sklearn.compose import ColumnTransformer\n",
    "from sklearn.model_selection import train_test_split\n",
    "from sklearn.pipeline import Pipeline\n",
    "from sklearn.linear_model import LinearRegression\n",
    "from sklearn.metrics import mean_squared_error, mean_absolute_error\n",
    "\n",
    "from sklearn.tree import DecisionTreeRegressor, plot_tree\n",
    "from sklearn.model_selection import GridSearchCV\n",
    "from sklearn.ensemble import GradientBoostingRegressor"
   ]
  },
  {
   "cell_type": "markdown",
   "metadata": {},
   "source": [
    "# Import Data"
   ]
  },
  {
   "cell_type": "code",
   "execution_count": 2,
   "metadata": {
    "ExecuteTime": {
     "end_time": "2023-01-05T04:19:36.566881Z",
     "start_time": "2023-01-05T04:19:36.552697Z"
    }
   },
   "outputs": [],
   "source": [
    "data = pd.read_csv(\"data/data_clean.csv\", index_col = False)"
   ]
  },
  {
   "cell_type": "code",
   "execution_count": 3,
   "metadata": {
    "ExecuteTime": {
     "end_time": "2023-01-05T04:19:36.583010Z",
     "start_time": "2023-01-05T04:19:36.568864Z"
    }
   },
   "outputs": [],
   "source": [
    "categories = [\"property_type\",\"product_depth\"]\n",
    "data[categories] = data[categories].apply(lambda x: x.astype(\"category\"))"
   ]
  },
  {
   "cell_type": "code",
   "execution_count": 4,
   "metadata": {
    "ExecuteTime": {
     "end_time": "2023-01-05T04:19:36.598706Z",
     "start_time": "2023-01-05T04:19:36.584024Z"
    }
   },
   "outputs": [
    {
     "data": {
      "text/plain": [
       "building_size      float64\n",
       "land_size          float64\n",
       "price              float64\n",
       "bedroom_count      float64\n",
       "bathroom_count     float64\n",
       "parking_count      float64\n",
       "property_type     category\n",
       "product_depth     category\n",
       "dtype: object"
      ]
     },
     "execution_count": 4,
     "metadata": {},
     "output_type": "execute_result"
    }
   ],
   "source": [
    "data.dtypes"
   ]
  },
  {
   "cell_type": "code",
   "execution_count": 5,
   "metadata": {
    "ExecuteTime": {
     "end_time": "2023-01-05T04:19:36.629736Z",
     "start_time": "2023-01-05T04:19:36.600419Z"
    }
   },
   "outputs": [
    {
     "data": {
      "text/html": [
       "<div>\n",
       "<style scoped>\n",
       "    .dataframe tbody tr th:only-of-type {\n",
       "        vertical-align: middle;\n",
       "    }\n",
       "\n",
       "    .dataframe tbody tr th {\n",
       "        vertical-align: top;\n",
       "    }\n",
       "\n",
       "    .dataframe thead th {\n",
       "        text-align: right;\n",
       "    }\n",
       "</style>\n",
       "<table border=\"1\" class=\"dataframe\">\n",
       "  <thead>\n",
       "    <tr style=\"text-align: right;\">\n",
       "      <th></th>\n",
       "      <th>building_size</th>\n",
       "      <th>land_size</th>\n",
       "      <th>price</th>\n",
       "      <th>bedroom_count</th>\n",
       "      <th>bathroom_count</th>\n",
       "      <th>parking_count</th>\n",
       "      <th>property_type</th>\n",
       "      <th>product_depth</th>\n",
       "    </tr>\n",
       "  </thead>\n",
       "  <tbody>\n",
       "    <tr>\n",
       "      <th>0</th>\n",
       "      <td>213.0</td>\n",
       "      <td>801.0</td>\n",
       "      <td>435000.0</td>\n",
       "      <td>2.0</td>\n",
       "      <td>1.0</td>\n",
       "      <td>1.0</td>\n",
       "      <td>House</td>\n",
       "      <td>premiere</td>\n",
       "    </tr>\n",
       "    <tr>\n",
       "      <th>1</th>\n",
       "      <td>171.0</td>\n",
       "      <td>164.5</td>\n",
       "      <td>320000.0</td>\n",
       "      <td>3.0</td>\n",
       "      <td>2.0</td>\n",
       "      <td>2.0</td>\n",
       "      <td>Apartment</td>\n",
       "      <td>premiere</td>\n",
       "    </tr>\n",
       "    <tr>\n",
       "      <th>2</th>\n",
       "      <td>98.0</td>\n",
       "      <td>127.0</td>\n",
       "      <td>310000.0</td>\n",
       "      <td>2.0</td>\n",
       "      <td>1.0</td>\n",
       "      <td>1.0</td>\n",
       "      <td>Unit</td>\n",
       "      <td>premiere</td>\n",
       "    </tr>\n",
       "    <tr>\n",
       "      <th>3</th>\n",
       "      <td>213.0</td>\n",
       "      <td>801.0</td>\n",
       "      <td>259000.0</td>\n",
       "      <td>1.0</td>\n",
       "      <td>1.0</td>\n",
       "      <td>0.0</td>\n",
       "      <td>House</td>\n",
       "      <td>premiere</td>\n",
       "    </tr>\n",
       "    <tr>\n",
       "      <th>4</th>\n",
       "      <td>201.0</td>\n",
       "      <td>127.0</td>\n",
       "      <td>439000.0</td>\n",
       "      <td>3.0</td>\n",
       "      <td>2.0</td>\n",
       "      <td>2.0</td>\n",
       "      <td>Unit</td>\n",
       "      <td>premiere</td>\n",
       "    </tr>\n",
       "    <tr>\n",
       "      <th>...</th>\n",
       "      <td>...</td>\n",
       "      <td>...</td>\n",
       "      <td>...</td>\n",
       "      <td>...</td>\n",
       "      <td>...</td>\n",
       "      <td>...</td>\n",
       "      <td>...</td>\n",
       "      <td>...</td>\n",
       "    </tr>\n",
       "    <tr>\n",
       "      <th>671</th>\n",
       "      <td>213.0</td>\n",
       "      <td>801.0</td>\n",
       "      <td>495000.0</td>\n",
       "      <td>4.0</td>\n",
       "      <td>2.0</td>\n",
       "      <td>2.0</td>\n",
       "      <td>House</td>\n",
       "      <td>feature</td>\n",
       "    </tr>\n",
       "    <tr>\n",
       "      <th>672</th>\n",
       "      <td>203.0</td>\n",
       "      <td>600.0</td>\n",
       "      <td>601000.0</td>\n",
       "      <td>4.0</td>\n",
       "      <td>2.0</td>\n",
       "      <td>2.0</td>\n",
       "      <td>House</td>\n",
       "      <td>standard</td>\n",
       "    </tr>\n",
       "    <tr>\n",
       "      <th>673</th>\n",
       "      <td>209.6</td>\n",
       "      <td>800.0</td>\n",
       "      <td>655000.0</td>\n",
       "      <td>4.0</td>\n",
       "      <td>2.0</td>\n",
       "      <td>2.0</td>\n",
       "      <td>House</td>\n",
       "      <td>standard</td>\n",
       "    </tr>\n",
       "    <tr>\n",
       "      <th>674</th>\n",
       "      <td>180.0</td>\n",
       "      <td>450.0</td>\n",
       "      <td>675000.0</td>\n",
       "      <td>4.0</td>\n",
       "      <td>2.0</td>\n",
       "      <td>3.0</td>\n",
       "      <td>House</td>\n",
       "      <td>standard</td>\n",
       "    </tr>\n",
       "    <tr>\n",
       "      <th>675</th>\n",
       "      <td>120.0</td>\n",
       "      <td>127.0</td>\n",
       "      <td>399000.0</td>\n",
       "      <td>2.0</td>\n",
       "      <td>2.0</td>\n",
       "      <td>2.0</td>\n",
       "      <td>Unit</td>\n",
       "      <td>feature</td>\n",
       "    </tr>\n",
       "  </tbody>\n",
       "</table>\n",
       "<p>676 rows × 8 columns</p>\n",
       "</div>"
      ],
      "text/plain": [
       "     building_size  land_size     price  bedroom_count  bathroom_count  \\\n",
       "0            213.0      801.0  435000.0            2.0             1.0   \n",
       "1            171.0      164.5  320000.0            3.0             2.0   \n",
       "2             98.0      127.0  310000.0            2.0             1.0   \n",
       "3            213.0      801.0  259000.0            1.0             1.0   \n",
       "4            201.0      127.0  439000.0            3.0             2.0   \n",
       "..             ...        ...       ...            ...             ...   \n",
       "671          213.0      801.0  495000.0            4.0             2.0   \n",
       "672          203.0      600.0  601000.0            4.0             2.0   \n",
       "673          209.6      800.0  655000.0            4.0             2.0   \n",
       "674          180.0      450.0  675000.0            4.0             2.0   \n",
       "675          120.0      127.0  399000.0            2.0             2.0   \n",
       "\n",
       "     parking_count property_type product_depth  \n",
       "0              1.0         House      premiere  \n",
       "1              2.0     Apartment      premiere  \n",
       "2              1.0          Unit      premiere  \n",
       "3              0.0         House      premiere  \n",
       "4              2.0          Unit      premiere  \n",
       "..             ...           ...           ...  \n",
       "671            2.0         House       feature  \n",
       "672            2.0         House      standard  \n",
       "673            2.0         House      standard  \n",
       "674            3.0         House      standard  \n",
       "675            2.0          Unit       feature  \n",
       "\n",
       "[676 rows x 8 columns]"
      ]
     },
     "execution_count": 5,
     "metadata": {},
     "output_type": "execute_result"
    }
   ],
   "source": [
    "data"
   ]
  },
  {
   "cell_type": "code",
   "execution_count": 6,
   "metadata": {
    "ExecuteTime": {
     "end_time": "2023-01-05T04:19:36.645580Z",
     "start_time": "2023-01-05T04:19:36.631782Z"
    }
   },
   "outputs": [],
   "source": [
    "X = data.drop(\"price\", axis = 1)\n",
    "y = data[\"price\"]"
   ]
  },
  {
   "cell_type": "code",
   "execution_count": 7,
   "metadata": {
    "ExecuteTime": {
     "end_time": "2023-01-05T04:19:36.661409Z",
     "start_time": "2023-01-05T04:19:36.647581Z"
    }
   },
   "outputs": [
    {
     "data": {
      "text/plain": [
       "building_size     0\n",
       "land_size         0\n",
       "price             0\n",
       "bedroom_count     0\n",
       "bathroom_count    0\n",
       "parking_count     0\n",
       "property_type     0\n",
       "product_depth     0\n",
       "dtype: int64"
      ]
     },
     "execution_count": 7,
     "metadata": {},
     "output_type": "execute_result"
    }
   ],
   "source": [
    "data.isna().sum()"
   ]
  },
  {
   "cell_type": "markdown",
   "metadata": {},
   "source": [
    "# Data Pipeline(s)"
   ]
  },
  {
   "cell_type": "code",
   "execution_count": 9,
   "metadata": {
    "ExecuteTime": {
     "end_time": "2023-01-05T04:19:37.532338Z",
     "start_time": "2023-01-05T04:19:37.520175Z"
    }
   },
   "outputs": [],
   "source": [
    "X_train, X_test, y_train, y_test = train_test_split(X, y, test_size = 0.25, random_state = 123)"
   ]
  },
  {
   "cell_type": "code",
   "execution_count": 10,
   "metadata": {
    "ExecuteTime": {
     "end_time": "2023-01-05T04:19:37.548102Z",
     "start_time": "2023-01-05T04:19:37.534698Z"
    }
   },
   "outputs": [],
   "source": [
    "# train, test, validation set\n",
    "#X_train, X_combo, y_train, y_combo = train_test_split(X, y, test_size = 0.25, random_state = 123)\n",
    "#X_val, X_test, y_val, y_test = train_test_split(X_combo, y_combo, test_size = 0.5, random_state = 123)"
   ]
  },
  {
   "cell_type": "code",
   "execution_count": 11,
   "metadata": {
    "ExecuteTime": {
     "end_time": "2023-01-05T04:19:37.563584Z",
     "start_time": "2023-01-05T04:19:37.549088Z"
    }
   },
   "outputs": [
    {
     "data": {
      "text/html": [
       "<div>\n",
       "<style scoped>\n",
       "    .dataframe tbody tr th:only-of-type {\n",
       "        vertical-align: middle;\n",
       "    }\n",
       "\n",
       "    .dataframe tbody tr th {\n",
       "        vertical-align: top;\n",
       "    }\n",
       "\n",
       "    .dataframe thead th {\n",
       "        text-align: right;\n",
       "    }\n",
       "</style>\n",
       "<table border=\"1\" class=\"dataframe\">\n",
       "  <thead>\n",
       "    <tr style=\"text-align: right;\">\n",
       "      <th></th>\n",
       "      <th>building_size</th>\n",
       "      <th>land_size</th>\n",
       "      <th>bedroom_count</th>\n",
       "      <th>bathroom_count</th>\n",
       "      <th>parking_count</th>\n",
       "      <th>property_type</th>\n",
       "      <th>product_depth</th>\n",
       "    </tr>\n",
       "  </thead>\n",
       "  <tbody>\n",
       "    <tr>\n",
       "      <th>36</th>\n",
       "      <td>130.0</td>\n",
       "      <td>164.5</td>\n",
       "      <td>2.0</td>\n",
       "      <td>2.0</td>\n",
       "      <td>2.0</td>\n",
       "      <td>Apartment</td>\n",
       "      <td>premiere</td>\n",
       "    </tr>\n",
       "    <tr>\n",
       "      <th>45</th>\n",
       "      <td>135.0</td>\n",
       "      <td>164.5</td>\n",
       "      <td>2.0</td>\n",
       "      <td>2.0</td>\n",
       "      <td>1.0</td>\n",
       "      <td>Apartment</td>\n",
       "      <td>feature</td>\n",
       "    </tr>\n",
       "    <tr>\n",
       "      <th>628</th>\n",
       "      <td>213.0</td>\n",
       "      <td>801.0</td>\n",
       "      <td>3.0</td>\n",
       "      <td>1.0</td>\n",
       "      <td>2.0</td>\n",
       "      <td>House</td>\n",
       "      <td>premiere</td>\n",
       "    </tr>\n",
       "    <tr>\n",
       "      <th>156</th>\n",
       "      <td>213.0</td>\n",
       "      <td>450.0</td>\n",
       "      <td>4.0</td>\n",
       "      <td>2.0</td>\n",
       "      <td>2.0</td>\n",
       "      <td>House</td>\n",
       "      <td>premiere</td>\n",
       "    </tr>\n",
       "    <tr>\n",
       "      <th>41</th>\n",
       "      <td>135.0</td>\n",
       "      <td>260.0</td>\n",
       "      <td>3.0</td>\n",
       "      <td>2.0</td>\n",
       "      <td>2.0</td>\n",
       "      <td>Apartment</td>\n",
       "      <td>premiere</td>\n",
       "    </tr>\n",
       "  </tbody>\n",
       "</table>\n",
       "</div>"
      ],
      "text/plain": [
       "     building_size  land_size  bedroom_count  bathroom_count  parking_count  \\\n",
       "36           130.0      164.5            2.0             2.0            2.0   \n",
       "45           135.0      164.5            2.0             2.0            1.0   \n",
       "628          213.0      801.0            3.0             1.0            2.0   \n",
       "156          213.0      450.0            4.0             2.0            2.0   \n",
       "41           135.0      260.0            3.0             2.0            2.0   \n",
       "\n",
       "    property_type product_depth  \n",
       "36      Apartment      premiere  \n",
       "45      Apartment       feature  \n",
       "628         House      premiere  \n",
       "156         House      premiere  \n",
       "41      Apartment      premiere  "
      ]
     },
     "execution_count": 11,
     "metadata": {},
     "output_type": "execute_result"
    }
   ],
   "source": [
    "X_train.head()"
   ]
  },
  {
   "cell_type": "code",
   "execution_count": 12,
   "metadata": {
    "ExecuteTime": {
     "end_time": "2023-01-05T04:19:37.578872Z",
     "start_time": "2023-01-05T04:19:37.564566Z"
    }
   },
   "outputs": [],
   "source": [
    "# set up scaling step for numerical columns\n",
    "nums = X.drop(categories, axis = 1).columns\n",
    "num_trans = Pipeline(\n",
    "    steps = [(\"scaler\", StandardScaler())]\n",
    ")"
   ]
  },
  {
   "cell_type": "code",
   "execution_count": 13,
   "metadata": {
    "ExecuteTime": {
     "end_time": "2023-01-05T04:19:37.594469Z",
     "start_time": "2023-01-05T04:19:37.582351Z"
    }
   },
   "outputs": [],
   "source": [
    "# set up one hot encoder for categorical variables\n",
    "cat_trans = OneHotEncoder(handle_unknown = \"ignore\")"
   ]
  },
  {
   "cell_type": "code",
   "execution_count": 14,
   "metadata": {
    "ExecuteTime": {
     "end_time": "2023-01-05T04:19:37.610203Z",
     "start_time": "2023-01-05T04:19:37.596101Z"
    }
   },
   "outputs": [],
   "source": [
    "# combine scaling and encoding into a single column transformer\n",
    "processor = ColumnTransformer(\n",
    "    transformers = [\n",
    "        (\"num\", num_trans, nums),\n",
    "        (\"cat\", cat_trans, categories)\n",
    "    ]\n",
    ")"
   ]
  },
  {
   "cell_type": "markdown",
   "metadata": {
    "ExecuteTime": {
     "end_time": "2023-01-03T21:54:03.980418Z",
     "start_time": "2023-01-03T21:54:03.962603Z"
    }
   },
   "source": [
    "# Models"
   ]
  },
  {
   "cell_type": "code",
   "execution_count": 15,
   "metadata": {
    "ExecuteTime": {
     "end_time": "2023-01-05T04:19:37.625715Z",
     "start_time": "2023-01-05T04:19:37.612008Z"
    }
   },
   "outputs": [],
   "source": [
    "def pipeMaker(model):\n",
    "    pipe = Pipeline(\n",
    "        steps = [(\"preprocessor\", processor), (\"model\", model)]\n",
    "    ) \n",
    "    return pipe"
   ]
  },
  {
   "cell_type": "code",
   "execution_count": 16,
   "metadata": {
    "ExecuteTime": {
     "end_time": "2023-01-05T04:19:37.641238Z",
     "start_time": "2023-01-05T04:19:37.628673Z"
    }
   },
   "outputs": [],
   "source": [
    "def getModelPerf(string, pipe, X_train, y_train, X_test, y_test):\n",
    "    y_train_pred = pipe.predict(X_train)\n",
    "    y_test_pred = pipe.predict(X_test)\n",
    "    print(string + \" Performance\")\n",
    "    print(\"\\nTraining\")\n",
    "    print(\"RMSE: \"+ str(mean_squared_error(y_train, y_train_pred, squared = False)))\n",
    "    print(\"MAE: \"+ str(mean_absolute_error(y_train, y_train_pred)))\n",
    "    print(\"\\nTest\")\n",
    "    print(\"RMSE: \"+ str(mean_squared_error(y_test, y_test_pred, squared = False)))\n",
    "    print(\"MAE: \"+ str(mean_absolute_error(y_test, y_test_pred)))"
   ]
  },
  {
   "cell_type": "code",
   "execution_count": 17,
   "metadata": {
    "ExecuteTime": {
     "end_time": "2023-01-05T04:19:37.656988Z",
     "start_time": "2023-01-05T04:19:37.643332Z"
    }
   },
   "outputs": [],
   "source": [
    "def getModelPerfVal(string, pipe, X_train, y_train, X_val, y_val, X_test, y_test):\n",
    "    y_train_pred = pipe.predict(X_train)\n",
    "    y_val_pred = pipe.predict(X_val)\n",
    "    y_test_pred = pipe.predict(X_test)\n",
    "    print(string + \" Performance\")\n",
    "    print(\"\\nTraining\")\n",
    "    print(\"RMSE: \"+ str(mean_squared_error(y_train, y_train_pred, squared = False)))\n",
    "    print(\"MAE: \"+ str(mean_absolute_error(y_train, y_train_pred)))\n",
    "    print(\"\\nValidation\")\n",
    "    print(\"RMSE: \"+ str(mean_squared_error(y_val, y_val_pred, squared = False)))\n",
    "    print(\"MAE: \"+ str(mean_absolute_error(y_val, y_val_pred)))\n",
    "    print(\"\\nTest\")\n",
    "    print(\"RMSE: \"+ str(mean_squared_error(y_test, y_test_pred, squared = False)))\n",
    "    print(\"MAE: \"+ str(mean_absolute_error(y_test, y_test_pred)))"
   ]
  },
  {
   "cell_type": "markdown",
   "metadata": {
    "ExecuteTime": {
     "end_time": "2023-01-04T23:56:16.455102Z",
     "start_time": "2023-01-04T23:56:16.448535Z"
    }
   },
   "source": [
    "## Baseline Model (median)"
   ]
  },
  {
   "cell_type": "code",
   "execution_count": 19,
   "metadata": {
    "ExecuteTime": {
     "end_time": "2023-01-05T04:20:20.798781Z",
     "start_time": "2023-01-05T04:20:20.787069Z"
    }
   },
   "outputs": [],
   "source": [
    "pred_train = [np.median(data[\"price\"])] * len(y_train)\n",
    "#pred_val = [np.median(data[\"price\"])] * len(y_val)\n",
    "pred_test = [np.median(data[\"price\"])] * len(y_test)"
   ]
  },
  {
   "cell_type": "code",
   "execution_count": 20,
   "metadata": {
    "ExecuteTime": {
     "end_time": "2023-01-05T04:20:21.734085Z",
     "start_time": "2023-01-05T04:20:21.720801Z"
    }
   },
   "outputs": [
    {
     "name": "stdout",
     "output_type": "stream",
     "text": [
      "Baseline Model\n",
      "\n",
      "Training\n",
      "RMSE: 160011.4735931757\n",
      "MAE: 126587.47534516765\n",
      "\n",
      "Test\n",
      "RMSE: 158382.67735206115\n",
      "MAE: 123281.0650887574\n"
     ]
    }
   ],
   "source": [
    "print(\"Baseline Model\")\n",
    "\n",
    "print(\"\\nTraining\")\n",
    "print(\"RMSE: \"+ str(mean_squared_error(y_train, pred_train, squared = False)))\n",
    "print(\"MAE: \"+ str(mean_absolute_error(y_train, pred_train)))\n",
    "\n",
    "#print(\"\\nValidation\")\n",
    "#print(\"RMSE: \"+ str(mean_squared_error(y_val, pred_val, squared = False)))\n",
    "#print(\"MAE: \"+ str(mean_absolute_error(y_val, pred_val)))\n",
    "\n",
    "print(\"\\nTest\")\n",
    "print(\"RMSE: \"+ str(mean_squared_error(y_test, pred_test, squared = False)))\n",
    "print(\"MAE: \"+ str(mean_absolute_error(y_test, pred_test)))"
   ]
  },
  {
   "cell_type": "markdown",
   "metadata": {},
   "source": [
    "## Decision Tree"
   ]
  },
  {
   "cell_type": "code",
   "execution_count": 61,
   "metadata": {
    "ExecuteTime": {
     "end_time": "2023-01-05T04:55:40.927092Z",
     "start_time": "2023-01-05T04:54:52.191634Z"
    }
   },
   "outputs": [
    {
     "data": {
      "text/plain": [
       "{'model__ccp_alpha': 0.01,\n",
       " 'model__max_depth': 5,\n",
       " 'model__max_features': 'auto',\n",
       " 'model__min_samples_leaf': 5,\n",
       " 'model__min_samples_split': 5}"
      ]
     },
     "execution_count": 61,
     "metadata": {},
     "output_type": "execute_result"
    }
   ],
   "source": [
    "# decision tree pipeline\n",
    "regress_dt = DecisionTreeRegressor(random_state = 123)\n",
    "dt = pipeMaker(regress_dt)\n",
    "\n",
    "# determine best parameters\n",
    "param_grid = {\n",
    "    'model__ccp_alpha': [0.01, 0.02, 0.03],\n",
    "    'model__max_depth': [3, 5, 10],\n",
    "    'model__min_samples_split': [5, 10, 20],\n",
    "    'model__min_samples_leaf':[5, 10, 15],\n",
    "    'model__max_features':[\"auto\", \"sqrt\", \"log2\"] \n",
    "}\n",
    "\n",
    "dt_test = GridSearchCV(dt, param_grid, cv=10)\n",
    "dt_test.fit(X_train, y_train)\n",
    "\n",
    "dt_test.best_params_"
   ]
  },
  {
   "cell_type": "code",
   "execution_count": 62,
   "metadata": {
    "ExecuteTime": {
     "end_time": "2023-01-05T04:56:54.389661Z",
     "start_time": "2023-01-05T04:56:54.379215Z"
    }
   },
   "outputs": [],
   "source": [
    "# building pipeline with best params\n",
    "regress_dt2 = DecisionTreeRegressor(ccp_alpha = 0.01, max_depth = 5, min_samples_split = 5, \n",
    "                                 min_samples_leaf = 5, random_state = 123)\n",
    "dt2 = pipeMaker(regress_dt2)"
   ]
  },
  {
   "cell_type": "code",
   "execution_count": 63,
   "metadata": {
    "ExecuteTime": {
     "end_time": "2023-01-05T04:57:00.658805Z",
     "start_time": "2023-01-05T04:57:00.615693Z"
    }
   },
   "outputs": [
    {
     "name": "stdout",
     "output_type": "stream",
     "text": [
      "Decision Tree Model Performance\n",
      "\n",
      "Training\n",
      "RMSE: 96245.68702406327\n",
      "MAE: 74615.46621719285\n",
      "\n",
      "Test\n",
      "RMSE: 111673.37204407943\n",
      "MAE: 84716.99114663064\n"
     ]
    }
   ],
   "source": [
    "# fitting data + performance\n",
    "# significant overfitting between training and test- need to implement regularization\n",
    "dt2.fit(X_train, y_train)\n",
    "getModelPerf(\"Decision Tree Model\", dt2, X_train, y_train, X_test, y_test)\n",
    "#getModelPerfVal(\"Decision Tree Model\", dt2, X_train, y_train, X_val, y_val, X_test, y_test)"
   ]
  },
  {
   "cell_type": "code",
   "execution_count": 70,
   "metadata": {
    "ExecuteTime": {
     "end_time": "2023-01-05T04:59:07.977855Z",
     "start_time": "2023-01-05T04:59:05.900936Z"
    }
   },
   "outputs": [
    {
     "data": {
      "image/png": "[encoded data removed]",
      "text/plain": [
       "<Figure size 1440x720 with 1 Axes>"
      ]
     },
     "metadata": {
      "needs_background": "light"
     },
     "output_type": "display_data"
    }
   ],
   "source": [
    "# viewing model\n",
    "plt.figure(figsize = (20, 10))\n",
    "plot_tree(dt2[\"model\"])\n",
    "plt.show()"
   ]
  },
  {
   "cell_type": "code",
   "execution_count": 68,
   "metadata": {
    "ExecuteTime": {
     "end_time": "2023-01-05T04:58:47.095880Z",
     "start_time": "2023-01-05T04:58:47.084185Z"
    }
   },
   "outputs": [],
   "source": [
    "# switch max features to \"sqrt\"\n",
    "regress_dt3 = DecisionTreeRegressor(ccp_alpha = 0.01, max_depth = 5, min_samples_split = 5, \n",
    "                                 min_samples_leaf = 5, max_features = \"sqrt\", random_state = 123)\n",
    "dt3 = pipeMaker(regress_dt3)"
   ]
  },
  {
   "cell_type": "code",
   "execution_count": 69,
   "metadata": {
    "ExecuteTime": {
     "end_time": "2023-01-05T04:58:53.393598Z",
     "start_time": "2023-01-05T04:58:53.363593Z"
    }
   },
   "outputs": [
    {
     "name": "stdout",
     "output_type": "stream",
     "text": [
      "Decision Tree (Pruned) Model Performance\n",
      "\n",
      "Training\n",
      "RMSE: 108152.21705995806\n",
      "MAE: 81835.7449985421\n",
      "\n",
      "Test\n",
      "RMSE: 112037.69901470105\n",
      "MAE: 89741.74250398984\n"
     ]
    }
   ],
   "source": [
    "# fitting and performance\n",
    "dt3.fit(X_train, y_train)\n",
    "getModelPerf(\"Decision Tree (Pruned) Model\", dt3, X_train, y_train, X_test, y_test)\n",
    "#getModelPerfVal(\"Decision Tree (Pruned) Model\", dt3, X_train, y_train, X_val, y_val, X_test, y_test)"
   ]
  },
  {
   "cell_type": "code",
   "execution_count": 71,
   "metadata": {
    "ExecuteTime": {
     "end_time": "2023-01-05T04:59:16.206440Z",
     "start_time": "2023-01-05T04:59:14.484822Z"
    }
   },
   "outputs": [
    {
     "data": {
      "image/png": "[encoded data removed]",
      "text/plain": [
       "<Figure size 1440x720 with 1 Axes>"
      ]
     },
     "metadata": {
      "needs_background": "light"
     },
     "output_type": "display_data"
    }
   ],
   "source": [
    "# viewing model\n",
    "plt.figure(figsize = (20, 10))\n",
    "plot_tree(dt3[\"model\"])\n",
    "plt.show()"
   ]
  },
  {
   "cell_type": "markdown",
   "metadata": {},
   "source": [
    "## Gradient Boosting Regressor"
   ]
  },
  {
   "cell_type": "code",
   "execution_count": 36,
   "metadata": {
    "ExecuteTime": {
     "end_time": "2023-01-05T04:27:01.751513Z",
     "start_time": "2023-01-05T04:27:01.739373Z"
    }
   },
   "outputs": [],
   "source": [
    "regress_gb = GradientBoostingRegressor(random_state = 123)"
   ]
  },
  {
   "cell_type": "code",
   "execution_count": 93,
   "metadata": {
    "ExecuteTime": {
     "end_time": "2023-01-05T05:19:42.856556Z",
     "start_time": "2023-01-05T05:16:46.584034Z"
    }
   },
   "outputs": [
    {
     "data": {
      "text/plain": [
       "{'model__ccp_alpha': 0.01,\n",
       " 'model__max_depth': 3,\n",
       " 'model__max_features': 'sqrt',\n",
       " 'model__min_samples_leaf': 10,\n",
       " 'model__min_samples_split': 5}"
      ]
     },
     "execution_count": 93,
     "metadata": {},
     "output_type": "execute_result"
    }
   ],
   "source": [
    "# decision tree pipeline\n",
    "gb = pipeMaker(regress_gb)\n",
    "\n",
    "# determine best parameters\n",
    "param_grid = {\n",
    "    'model__ccp_alpha': [0.01, 0.02, 0.03],\n",
    "    'model__max_depth': [3, 5, 10],\n",
    "    'model__min_samples_split': [5, 10, 20],\n",
    "    'model__min_samples_leaf':[5, 10, 15],\n",
    "    'model__max_features':[\"auto\", \"sqrt\", \"log2\"],\n",
    "}\n",
    "\n",
    "gb_test = GridSearchCV(gb, param_grid, cv=10)\n",
    "gb_test.fit(X_train, y_train)\n",
    "\n",
    "gb_test.best_params_"
   ]
  },
  {
   "cell_type": "code",
   "execution_count": 94,
   "metadata": {
    "ExecuteTime": {
     "end_time": "2023-01-05T05:23:06.314037Z",
     "start_time": "2023-01-05T05:23:06.301645Z"
    }
   },
   "outputs": [],
   "source": [
    "regress_gb2 = GradientBoostingRegressor(random_state = 123, ccp_alpha = 0.01, \n",
    "                                     max_depth = 3, min_samples_leaf = 10, \n",
    "                                    min_samples_split = 5, max_features = \"sqrt\")\n",
    "gb2 = pipeMaker(regress_gb2)"
   ]
  },
  {
   "cell_type": "code",
   "execution_count": 95,
   "metadata": {
    "ExecuteTime": {
     "end_time": "2023-01-05T05:23:13.063577Z",
     "start_time": "2023-01-05T05:23:12.988609Z"
    }
   },
   "outputs": [
    {
     "name": "stdout",
     "output_type": "stream",
     "text": [
      "Gradient Boosting Model Performance\n",
      "\n",
      "Training\n",
      "RMSE: 88269.18763369895\n",
      "MAE: 68137.7521340652\n",
      "\n",
      "Test\n",
      "RMSE: 102861.74624704328\n",
      "MAE: 78727.19974179254\n"
     ]
    }
   ],
   "source": [
    "# minimal overfitting\n",
    "gb2.fit(X_train, y_train)\n",
    "getModelPerf(\"Gradient Boosting Model\", gb2, X_train, y_train, X_test, y_test)\n",
    "#getModelPerfVal(\"Gradient Boosting Model\", gb2, X_train, y_train, X_val, y_val, X_test, y_test)"
   ]
  },
  {
   "cell_type": "code",
   "execution_count": 114,
   "metadata": {
    "ExecuteTime": {
     "end_time": "2023-01-05T05:47:37.209746Z",
     "start_time": "2023-01-05T05:47:37.201710Z"
    }
   },
   "outputs": [],
   "source": [
    "# add subsample to experiment\n",
    "regress_gb3 = GradientBoostingRegressor(random_state = 123, ccp_alpha = 0.01, \n",
    "                                     max_depth = 3, min_samples_leaf = 10, \n",
    "                                    min_samples_split = 5, max_features = \"sqrt\",\n",
    "                                       subsample = 0.15)\n",
    "gb3 = pipeMaker(regress_gb3)"
   ]
  },
  {
   "cell_type": "code",
   "execution_count": 115,
   "metadata": {
    "ExecuteTime": {
     "end_time": "2023-01-05T05:47:43.837862Z",
     "start_time": "2023-01-05T05:47:43.732873Z"
    }
   },
   "outputs": [
    {
     "name": "stdout",
     "output_type": "stream",
     "text": [
      "Gradient Boosting Model (Pruned) Performance\n",
      "\n",
      "Training\n",
      "RMSE: 101714.45284272054\n",
      "MAE: 79482.88118825326\n",
      "\n",
      "Test\n",
      "RMSE: 108900.8450086353\n",
      "MAE: 84507.4059299413\n"
     ]
    }
   ],
   "source": [
    "# overfitting resolved\n",
    "gb3.fit(X_train, y_train)\n",
    "getModelPerf(\"Gradient Boosting Model (Pruned)\", gb3, X_train, y_train, X_test, y_test)\n",
    "#getModelPerfVal(\"Gradient Boosting Model (Pruned)\", gb3, X_train, y_train, X_val, y_val, X_test, y_test)"
   ]
  },
  {
   "cell_type": "code",
   "execution_count": null,
   "metadata": {},
   "outputs": [],
   "source": []
  }
 ],
 "metadata": {
  "kernelspec": {
   "display_name": "Python (learn-env)",
   "language": "python",
   "name": "learn-env"
  },
  "language_info": {
   "codemirror_mode": {
    "name": "ipython",
    "version": 3
   },
   "file_extension": ".py",
   "mimetype": "text/x-python",
   "name": "python",
   "nbconvert_exporter": "python",
   "pygments_lexer": "ipython3",
   "version": "3.8.5"
  },
  "toc": {
   "base_numbering": 1,
   "nav_menu": {},
   "number_sections": true,
   "sideBar": true,
   "skip_h1_title": false,
   "title_cell": "Table of Contents",
   "title_sidebar": "Contents",
   "toc_cell": false,
   "toc_position": {},
   "toc_section_display": true,
   "toc_window_display": false
  },
  "varInspector": {
   "cols": {
    "lenName": 16,
    "lenType": 16,
    "lenVar": 40
   },
   "kernels_config": {
    "python": {
     "delete_cmd_postfix": "",
     "delete_cmd_prefix": "del ",
     "library": "var_list.py",
     "varRefreshCmd": "print(var_dic_list())"
    },
    "r": {
     "delete_cmd_postfix": ") ",
     "delete_cmd_prefix": "rm(",
     "library": "var_list.r",
     "varRefreshCmd": "cat(var_dic_list()) "
    }
   },
   "types_to_exclude": [
    "module",
    "function",
    "builtin_function_or_method",
    "instance",
    "_Feature"
   ],
   "window_display": false
  }
 },
 "nbformat": 4,
 "nbformat_minor": 4
}
