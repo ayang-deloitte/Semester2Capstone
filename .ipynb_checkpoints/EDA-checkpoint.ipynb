{
 "cells": [
  {
   "cell_type": "code",
   "execution_count": 47,
   "metadata": {
    "ExecuteTime": {
     "end_time": "2023-01-01T21:07:43.579713Z",
     "start_time": "2023-01-01T21:07:43.566747Z"
    }
   },
   "outputs": [],
   "source": [
    "import pandas as pd\n",
    "import re"
   ]
  },
  {
   "cell_type": "code",
   "execution_count": 53,
   "metadata": {
    "ExecuteTime": {
     "end_time": "2023-01-01T21:14:41.114171Z",
     "start_time": "2023-01-01T21:14:41.083632Z"
    }
   },
   "outputs": [],
   "source": [
    "data = pd.read_csv(\"data/RealEstateAU_1000_Samples.csv\")"
   ]
  },
  {
   "cell_type": "code",
   "execution_count": 54,
   "metadata": {
    "ExecuteTime": {
     "end_time": "2023-01-01T21:14:41.424176Z",
     "start_time": "2023-01-01T21:14:41.382675Z"
    },
    "scrolled": true
   },
   "outputs": [
    {
     "data": {
      "text/html": [
       "<div>\n",
       "<style scoped>\n",
       "    .dataframe tbody tr th:only-of-type {\n",
       "        vertical-align: middle;\n",
       "    }\n",
       "\n",
       "    .dataframe tbody tr th {\n",
       "        vertical-align: top;\n",
       "    }\n",
       "\n",
       "    .dataframe thead th {\n",
       "        text-align: right;\n",
       "    }\n",
       "</style>\n",
       "<table border=\"1\" class=\"dataframe\">\n",
       "  <thead>\n",
       "    <tr style=\"text-align: right;\">\n",
       "      <th></th>\n",
       "      <th>index</th>\n",
       "      <th>TID</th>\n",
       "      <th>breadcrumb</th>\n",
       "      <th>category_name</th>\n",
       "      <th>property_type</th>\n",
       "      <th>building_size</th>\n",
       "      <th>land_size</th>\n",
       "      <th>preferred_size</th>\n",
       "      <th>open_date</th>\n",
       "      <th>listing_agency</th>\n",
       "      <th>...</th>\n",
       "      <th>state</th>\n",
       "      <th>zip_code</th>\n",
       "      <th>phone</th>\n",
       "      <th>latitude</th>\n",
       "      <th>longitude</th>\n",
       "      <th>product_depth</th>\n",
       "      <th>bedroom_count</th>\n",
       "      <th>bathroom_count</th>\n",
       "      <th>parking_count</th>\n",
       "      <th>RunDate</th>\n",
       "    </tr>\n",
       "  </thead>\n",
       "  <tbody>\n",
       "    <tr>\n",
       "      <th>0</th>\n",
       "      <td>0</td>\n",
       "      <td>1350988</td>\n",
       "      <td>Buy&gt;NT&gt;DARWIN CITY</td>\n",
       "      <td>Real Estate &amp; Property for sale in DARWIN CITY...</td>\n",
       "      <td>House</td>\n",
       "      <td>NaN</td>\n",
       "      <td>NaN</td>\n",
       "      <td>NaN</td>\n",
       "      <td>Added 2 hours ago</td>\n",
       "      <td>Professionals - DARWIN CITY</td>\n",
       "      <td>...</td>\n",
       "      <td>NT</td>\n",
       "      <td>800</td>\n",
       "      <td>08 8941 8289</td>\n",
       "      <td>NaN</td>\n",
       "      <td>NaN</td>\n",
       "      <td>premiere</td>\n",
       "      <td>2.0</td>\n",
       "      <td>1.0</td>\n",
       "      <td>1.0</td>\n",
       "      <td>2022-05-27 15:54:05</td>\n",
       "    </tr>\n",
       "    <tr>\n",
       "      <th>1</th>\n",
       "      <td>1</td>\n",
       "      <td>1350989</td>\n",
       "      <td>Buy&gt;NT&gt;DARWIN CITY</td>\n",
       "      <td>Real Estate &amp; Property for sale in DARWIN CITY...</td>\n",
       "      <td>Apartment</td>\n",
       "      <td>171m²</td>\n",
       "      <td>NaN</td>\n",
       "      <td>171m²</td>\n",
       "      <td>Added 7 hours ago</td>\n",
       "      <td>Nick Mousellis Real Estate - Eview Group Member</td>\n",
       "      <td>...</td>\n",
       "      <td>NT</td>\n",
       "      <td>800</td>\n",
       "      <td>0411724000</td>\n",
       "      <td>NaN</td>\n",
       "      <td>NaN</td>\n",
       "      <td>premiere</td>\n",
       "      <td>3.0</td>\n",
       "      <td>2.0</td>\n",
       "      <td>2.0</td>\n",
       "      <td>2022-05-27 15:54:05</td>\n",
       "    </tr>\n",
       "    <tr>\n",
       "      <th>2</th>\n",
       "      <td>2</td>\n",
       "      <td>1350990</td>\n",
       "      <td>Buy&gt;NT&gt;DARWIN CITY</td>\n",
       "      <td>Real Estate &amp; Property for sale in DARWIN CITY...</td>\n",
       "      <td>Unit</td>\n",
       "      <td>NaN</td>\n",
       "      <td>NaN</td>\n",
       "      <td>NaN</td>\n",
       "      <td>Added 22 hours ago</td>\n",
       "      <td>Habitat Real Estate - THE GARDENS</td>\n",
       "      <td>...</td>\n",
       "      <td>NT</td>\n",
       "      <td>800</td>\n",
       "      <td>08 8981 0080</td>\n",
       "      <td>NaN</td>\n",
       "      <td>NaN</td>\n",
       "      <td>premiere</td>\n",
       "      <td>2.0</td>\n",
       "      <td>1.0</td>\n",
       "      <td>1.0</td>\n",
       "      <td>2022-05-27 15:54:05</td>\n",
       "    </tr>\n",
       "    <tr>\n",
       "      <th>3</th>\n",
       "      <td>3</td>\n",
       "      <td>1350991</td>\n",
       "      <td>Buy&gt;NT&gt;DARWIN CITY</td>\n",
       "      <td>Real Estate &amp; Property for sale in DARWIN CITY...</td>\n",
       "      <td>House</td>\n",
       "      <td>NaN</td>\n",
       "      <td>NaN</td>\n",
       "      <td>NaN</td>\n",
       "      <td>Added yesterday</td>\n",
       "      <td>Ray White - NIGHTCLIFF</td>\n",
       "      <td>...</td>\n",
       "      <td>NT</td>\n",
       "      <td>800</td>\n",
       "      <td>08 8982 2403</td>\n",
       "      <td>NaN</td>\n",
       "      <td>NaN</td>\n",
       "      <td>premiere</td>\n",
       "      <td>1.0</td>\n",
       "      <td>1.0</td>\n",
       "      <td>0.0</td>\n",
       "      <td>2022-05-27 15:54:05</td>\n",
       "    </tr>\n",
       "    <tr>\n",
       "      <th>4</th>\n",
       "      <td>4</td>\n",
       "      <td>1350992</td>\n",
       "      <td>Buy&gt;NT&gt;DARWIN CITY</td>\n",
       "      <td>Real Estate &amp; Property for sale in DARWIN CITY...</td>\n",
       "      <td>Unit</td>\n",
       "      <td>201m²</td>\n",
       "      <td>NaN</td>\n",
       "      <td>201m²</td>\n",
       "      <td>Added yesterday</td>\n",
       "      <td>Carol Need Real Estate - Fannie Bay</td>\n",
       "      <td>...</td>\n",
       "      <td>NT</td>\n",
       "      <td>800</td>\n",
       "      <td>0418885966</td>\n",
       "      <td>NaN</td>\n",
       "      <td>NaN</td>\n",
       "      <td>premiere</td>\n",
       "      <td>3.0</td>\n",
       "      <td>2.0</td>\n",
       "      <td>2.0</td>\n",
       "      <td>2022-05-27 15:54:05</td>\n",
       "    </tr>\n",
       "  </tbody>\n",
       "</table>\n",
       "<p>5 rows × 27 columns</p>\n",
       "</div>"
      ],
      "text/plain": [
       "   index      TID          breadcrumb  \\\n",
       "0      0  1350988  Buy>NT>DARWIN CITY   \n",
       "1      1  1350989  Buy>NT>DARWIN CITY   \n",
       "2      2  1350990  Buy>NT>DARWIN CITY   \n",
       "3      3  1350991  Buy>NT>DARWIN CITY   \n",
       "4      4  1350992  Buy>NT>DARWIN CITY   \n",
       "\n",
       "                                       category_name property_type  \\\n",
       "0  Real Estate & Property for sale in DARWIN CITY...         House   \n",
       "1  Real Estate & Property for sale in DARWIN CITY...     Apartment   \n",
       "2  Real Estate & Property for sale in DARWIN CITY...          Unit   \n",
       "3  Real Estate & Property for sale in DARWIN CITY...         House   \n",
       "4  Real Estate & Property for sale in DARWIN CITY...          Unit   \n",
       "\n",
       "  building_size land_size preferred_size           open_date  \\\n",
       "0           NaN       NaN            NaN   Added 2 hours ago   \n",
       "1         171m²       NaN          171m²   Added 7 hours ago   \n",
       "2           NaN       NaN            NaN  Added 22 hours ago   \n",
       "3           NaN       NaN            NaN     Added yesterday   \n",
       "4         201m²       NaN          201m²     Added yesterday   \n",
       "\n",
       "                                    listing_agency  ... state  zip_code  \\\n",
       "0                      Professionals - DARWIN CITY  ...    NT       800   \n",
       "1  Nick Mousellis Real Estate - Eview Group Member  ...    NT       800   \n",
       "2                Habitat Real Estate - THE GARDENS  ...    NT       800   \n",
       "3                           Ray White - NIGHTCLIFF  ...    NT       800   \n",
       "4              Carol Need Real Estate - Fannie Bay  ...    NT       800   \n",
       "\n",
       "          phone latitude longitude product_depth bedroom_count bathroom_count  \\\n",
       "0  08 8941 8289      NaN       NaN      premiere           2.0            1.0   \n",
       "1    0411724000      NaN       NaN      premiere           3.0            2.0   \n",
       "2  08 8981 0080      NaN       NaN      premiere           2.0            1.0   \n",
       "3  08 8982 2403      NaN       NaN      premiere           1.0            1.0   \n",
       "4    0418885966      NaN       NaN      premiere           3.0            2.0   \n",
       "\n",
       "   parking_count              RunDate  \n",
       "0            1.0  2022-05-27 15:54:05  \n",
       "1            2.0  2022-05-27 15:54:05  \n",
       "2            1.0  2022-05-27 15:54:05  \n",
       "3            0.0  2022-05-27 15:54:05  \n",
       "4            2.0  2022-05-27 15:54:05  \n",
       "\n",
       "[5 rows x 27 columns]"
      ]
     },
     "execution_count": 54,
     "metadata": {},
     "output_type": "execute_result"
    }
   ],
   "source": [
    "data.head()"
   ]
  },
  {
   "cell_type": "code",
   "execution_count": 50,
   "metadata": {
    "ExecuteTime": {
     "end_time": "2023-01-01T21:07:55.845076Z",
     "start_time": "2023-01-01T21:07:55.827395Z"
    }
   },
   "outputs": [
    {
     "data": {
      "text/plain": [
       "index                 0\n",
       "TID                   0\n",
       "breadcrumb            0\n",
       "category_name         0\n",
       "property_type         0\n",
       "building_size       720\n",
       "land_size           467\n",
       "preferred_size      391\n",
       "open_date           698\n",
       "listing_agency        0\n",
       "price                 0\n",
       "location_number       0\n",
       "location_type         0\n",
       "location_name         0\n",
       "address              12\n",
       "address_1            12\n",
       "city                  0\n",
       "state                 0\n",
       "zip_code              0\n",
       "phone                 0\n",
       "latitude           1000\n",
       "longitude          1000\n",
       "product_depth         0\n",
       "bedroom_count        33\n",
       "bathroom_count       33\n",
       "parking_count        33\n",
       "RunDate               0\n",
       "dtype: int64"
      ]
     },
     "execution_count": 50,
     "metadata": {},
     "output_type": "execute_result"
    }
   ],
   "source": [
    "data.isnull().sum()"
   ]
  },
  {
   "cell_type": "markdown",
   "metadata": {},
   "source": [
    "index, TID, breadcrumb, cateogry_name, open_date, RunDate - these columns represent information about the listing or the dataset, not the house itself\n",
    "\n",
    "listing_agency- while useful, the sheer number of categories and the time constraint make this difficult to properly clean; would be useful to see if certain agencies are correlated to housing premiums/discounts\n",
    "\n",
    "location_number, location_type, location_name- these columns do not provide information on the housing itself\n",
    "\n",
    "address, address_1, city, state, zip_code, phone - these columns involve largely information unique to the housing and listing/lister. \n",
    "\n",
    "latitude, longitude - these columns are solely filled with null values\n"
   ]
  },
  {
   "cell_type": "code",
   "execution_count": 75,
   "metadata": {
    "ExecuteTime": {
     "end_time": "2023-01-01T22:02:05.005438Z",
     "start_time": "2023-01-01T22:02:04.993747Z"
    }
   },
   "outputs": [],
   "source": [
    "removeCol = [\"index\", \"TID\", \"breadcrumb\", \"category_name\", \"open_date\", \n",
    "             \"listing_agency\",\n",
    "             \"location_number\", \"location_type\", \"location_name\", \"address\",\n",
    "            \"address_1\", \"city\", \"state\", \"zip_code\", \"phone\", \"latitude\",\n",
    "            \"longitude\", \"RunDate\"]"
   ]
  },
  {
   "cell_type": "code",
   "execution_count": 76,
   "metadata": {
    "ExecuteTime": {
     "end_time": "2023-01-01T22:02:05.348600Z",
     "start_time": "2023-01-01T22:02:05.321884Z"
    }
   },
   "outputs": [
    {
     "data": {
      "text/html": [
       "<div>\n",
       "<style scoped>\n",
       "    .dataframe tbody tr th:only-of-type {\n",
       "        vertical-align: middle;\n",
       "    }\n",
       "\n",
       "    .dataframe tbody tr th {\n",
       "        vertical-align: top;\n",
       "    }\n",
       "\n",
       "    .dataframe thead th {\n",
       "        text-align: right;\n",
       "    }\n",
       "</style>\n",
       "<table border=\"1\" class=\"dataframe\">\n",
       "  <thead>\n",
       "    <tr style=\"text-align: right;\">\n",
       "      <th></th>\n",
       "      <th>property_type</th>\n",
       "      <th>building_size</th>\n",
       "      <th>land_size</th>\n",
       "      <th>preferred_size</th>\n",
       "      <th>price</th>\n",
       "      <th>product_depth</th>\n",
       "      <th>bedroom_count</th>\n",
       "      <th>bathroom_count</th>\n",
       "      <th>parking_count</th>\n",
       "    </tr>\n",
       "  </thead>\n",
       "  <tbody>\n",
       "    <tr>\n",
       "      <th>0</th>\n",
       "      <td>House</td>\n",
       "      <td>NaN</td>\n",
       "      <td>NaN</td>\n",
       "      <td>NaN</td>\n",
       "      <td>$435,000</td>\n",
       "      <td>premiere</td>\n",
       "      <td>2.0</td>\n",
       "      <td>1.0</td>\n",
       "      <td>1.0</td>\n",
       "    </tr>\n",
       "    <tr>\n",
       "      <th>1</th>\n",
       "      <td>Apartment</td>\n",
       "      <td>171m²</td>\n",
       "      <td>NaN</td>\n",
       "      <td>171m²</td>\n",
       "      <td>Offers Over $320,000</td>\n",
       "      <td>premiere</td>\n",
       "      <td>3.0</td>\n",
       "      <td>2.0</td>\n",
       "      <td>2.0</td>\n",
       "    </tr>\n",
       "    <tr>\n",
       "      <th>2</th>\n",
       "      <td>Unit</td>\n",
       "      <td>NaN</td>\n",
       "      <td>NaN</td>\n",
       "      <td>NaN</td>\n",
       "      <td>$310,000</td>\n",
       "      <td>premiere</td>\n",
       "      <td>2.0</td>\n",
       "      <td>1.0</td>\n",
       "      <td>1.0</td>\n",
       "    </tr>\n",
       "    <tr>\n",
       "      <th>3</th>\n",
       "      <td>House</td>\n",
       "      <td>NaN</td>\n",
       "      <td>NaN</td>\n",
       "      <td>NaN</td>\n",
       "      <td>$259,000</td>\n",
       "      <td>premiere</td>\n",
       "      <td>1.0</td>\n",
       "      <td>1.0</td>\n",
       "      <td>0.0</td>\n",
       "    </tr>\n",
       "    <tr>\n",
       "      <th>4</th>\n",
       "      <td>Unit</td>\n",
       "      <td>201m²</td>\n",
       "      <td>NaN</td>\n",
       "      <td>201m²</td>\n",
       "      <td>$439,000</td>\n",
       "      <td>premiere</td>\n",
       "      <td>3.0</td>\n",
       "      <td>2.0</td>\n",
       "      <td>2.0</td>\n",
       "    </tr>\n",
       "  </tbody>\n",
       "</table>\n",
       "</div>"
      ],
      "text/plain": [
       "  property_type building_size land_size preferred_size                 price  \\\n",
       "0         House           NaN       NaN            NaN              $435,000   \n",
       "1     Apartment         171m²       NaN          171m²  Offers Over $320,000   \n",
       "2          Unit           NaN       NaN            NaN              $310,000   \n",
       "3         House           NaN       NaN            NaN              $259,000   \n",
       "4          Unit         201m²       NaN          201m²              $439,000   \n",
       "\n",
       "  product_depth  bedroom_count  bathroom_count  parking_count  \n",
       "0      premiere            2.0             1.0            1.0  \n",
       "1      premiere            3.0             2.0            2.0  \n",
       "2      premiere            2.0             1.0            1.0  \n",
       "3      premiere            1.0             1.0            0.0  \n",
       "4      premiere            3.0             2.0            2.0  "
      ]
     },
     "execution_count": 76,
     "metadata": {},
     "output_type": "execute_result"
    }
   ],
   "source": [
    "data_dropped = data.drop(removeCol, axis = 1)\n",
    "data_dropped.head()"
   ]
  },
  {
   "cell_type": "code",
   "execution_count": 77,
   "metadata": {
    "ExecuteTime": {
     "end_time": "2023-01-01T22:02:12.030861Z",
     "start_time": "2023-01-01T22:02:12.013828Z"
    }
   },
   "outputs": [
    {
     "data": {
      "text/plain": [
       "property_type       0\n",
       "building_size     720\n",
       "land_size         467\n",
       "preferred_size    391\n",
       "price               0\n",
       "product_depth       0\n",
       "bedroom_count      33\n",
       "bathroom_count     33\n",
       "parking_count      33\n",
       "dtype: int64"
      ]
     },
     "execution_count": 77,
     "metadata": {},
     "output_type": "execute_result"
    }
   ],
   "source": [
    "data_dropped.isnull().sum()"
   ]
  },
  {
   "cell_type": "code",
   "execution_count": 79,
   "metadata": {
    "ExecuteTime": {
     "end_time": "2023-01-01T22:02:42.996682Z",
     "start_time": "2023-01-01T22:02:42.977405Z"
    }
   },
   "outputs": [
    {
     "data": {
      "text/plain": [
       "House                   441\n",
       "Unit                    230\n",
       "Apartment               212\n",
       "Townhouse                38\n",
       "Residential Land         33\n",
       "Duplex/Semi-detached     19\n",
       "Acreage                   9\n",
       "Block Of Units            6\n",
       "Villa                     4\n",
       "Other                     4\n",
       "Studio                    2\n",
       "Lifestyle                 1\n",
       "Warehouse                 1\n",
       "Name: property_type, dtype: int64"
      ]
     },
     "execution_count": 79,
     "metadata": {},
     "output_type": "execute_result"
    }
   ],
   "source": [
    "data_dropped[\"property_type\"].value_counts()"
   ]
  },
  {
   "cell_type": "code",
   "execution_count": null,
   "metadata": {},
   "outputs": [],
   "source": []
  },
  {
   "cell_type": "code",
   "execution_count": 26,
   "metadata": {
    "ExecuteTime": {
     "end_time": "2023-01-01T20:20:11.137885Z",
     "start_time": "2023-01-01T20:20:11.119828Z"
    }
   },
   "outputs": [
    {
     "data": {
      "text/plain": [
       "0                  $435,000\n",
       "1      Offers Over $320,000\n",
       "2                  $310,000\n",
       "3                  $259,000\n",
       "4                  $439,000\n",
       "               ...         \n",
       "995             2 Residence\n",
       "996                $601,000\n",
       "997                $655,000\n",
       "998                $675,000\n",
       "999                $399,000\n",
       "Name: price, Length: 1000, dtype: object"
      ]
     },
     "execution_count": 26,
     "metadata": {},
     "output_type": "execute_result"
    }
   ],
   "source": [
    "prices = data[\"price\"]\n",
    "prices"
   ]
  },
  {
   "cell_type": "code",
   "execution_count": 31,
   "metadata": {
    "ExecuteTime": {
     "end_time": "2023-01-01T20:20:54.238711Z",
     "start_time": "2023-01-01T20:20:54.230896Z"
    }
   },
   "outputs": [],
   "source": [
    "def removeAlphabetic(string):\n",
    "    return re.sub(\"[a-zA-Z,]\", \"\", string)"
   ]
  },
  {
   "cell_type": "code",
   "execution_count": 32,
   "metadata": {
    "ExecuteTime": {
     "end_time": "2023-01-01T20:20:54.723803Z",
     "start_time": "2023-01-01T20:20:54.710031Z"
    }
   },
   "outputs": [
    {
     "data": {
      "text/plain": [
       "0        $435000\n",
       "1        $320000\n",
       "2        $310000\n",
       "3        $259000\n",
       "4        $439000\n",
       "         ...    \n",
       "995           2 \n",
       "996      $601000\n",
       "997      $655000\n",
       "998      $675000\n",
       "999      $399000\n",
       "Name: price, Length: 1000, dtype: object"
      ]
     },
     "execution_count": 32,
     "metadata": {},
     "output_type": "execute_result"
    }
   ],
   "source": [
    "data[\"price\"].apply(removeAlphabetic)"
   ]
  },
  {
   "cell_type": "code",
   "execution_count": 33,
   "metadata": {
    "ExecuteTime": {
     "end_time": "2023-01-01T20:21:06.598090Z",
     "start_time": "2023-01-01T20:21:06.582215Z"
    }
   },
   "outputs": [
    {
     "data": {
      "text/plain": [
       "0                   $435,000\n",
       "1       Offers Over $320,000\n",
       "2                   $310,000\n",
       "3                   $259,000\n",
       "4                   $439,000\n",
       "               ...          \n",
       "95      Offers over $450,000\n",
       "96                Negotiable\n",
       "97                  $380,000\n",
       "98                  $275,000\n",
       "99    PRICE GUIDE $1,070,000\n",
       "Name: price, Length: 100, dtype: object"
      ]
     },
     "execution_count": 33,
     "metadata": {},
     "output_type": "execute_result"
    }
   ],
   "source": [
    "data[\"price\"].head(100)"
   ]
  },
  {
   "cell_type": "code",
   "execution_count": null,
   "metadata": {},
   "outputs": [],
   "source": []
  }
 ],
 "metadata": {
  "kernelspec": {
   "display_name": "Python 3",
   "language": "python",
   "name": "python3"
  },
  "language_info": {
   "codemirror_mode": {
    "name": "ipython",
    "version": 3
   },
   "file_extension": ".py",
   "mimetype": "text/x-python",
   "name": "python",
   "nbconvert_exporter": "python",
   "pygments_lexer": "ipython3",
   "version": "3.8.5"
  },
  "toc": {
   "base_numbering": 1,
   "nav_menu": {},
   "number_sections": true,
   "sideBar": true,
   "skip_h1_title": false,
   "title_cell": "Table of Contents",
   "title_sidebar": "Contents",
   "toc_cell": false,
   "toc_position": {},
   "toc_section_display": true,
   "toc_window_display": false
  },
  "varInspector": {
   "cols": {
    "lenName": 16,
    "lenType": 16,
    "lenVar": 40
   },
   "kernels_config": {
    "python": {
     "delete_cmd_postfix": "",
     "delete_cmd_prefix": "del ",
     "library": "var_list.py",
     "varRefreshCmd": "print(var_dic_list())"
    },
    "r": {
     "delete_cmd_postfix": ") ",
     "delete_cmd_prefix": "rm(",
     "library": "var_list.r",
     "varRefreshCmd": "cat(var_dic_list()) "
    }
   },
   "types_to_exclude": [
    "module",
    "function",
    "builtin_function_or_method",
    "instance",
    "_Feature"
   ],
   "window_display": false
  }
 },
 "nbformat": 4,
 "nbformat_minor": 4
}
