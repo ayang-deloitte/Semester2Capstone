{
 "cells": [
  {
   "cell_type": "code",
   "execution_count": 1,
   "metadata": {
    "ExecuteTime": {
     "end_time": "2023-01-09T21:34:43.644002Z",
     "start_time": "2023-01-09T21:34:41.701898Z"
    }
   },
   "outputs": [],
   "source": [
    "import pandas as pd\n",
    "import numpy as np\n",
    "import re\n",
    "import matplotlib.pyplot as plt\n",
    "import seaborn as sb\n",
    "from numpy import median"
   ]
  },
  {
   "cell_type": "markdown",
   "metadata": {},
   "source": [
    "# Import data"
   ]
  },
  {
   "cell_type": "code",
   "execution_count": 2,
   "metadata": {
    "ExecuteTime": {
     "end_time": "2023-01-09T21:34:43.690822Z",
     "start_time": "2023-01-09T21:34:43.647135Z"
    }
   },
   "outputs": [
    {
     "data": {
      "text/html": [
       "<div>\n",
       "<style scoped>\n",
       "    .dataframe tbody tr th:only-of-type {\n",
       "        vertical-align: middle;\n",
       "    }\n",
       "\n",
       "    .dataframe tbody tr th {\n",
       "        vertical-align: top;\n",
       "    }\n",
       "\n",
       "    .dataframe thead th {\n",
       "        text-align: right;\n",
       "    }\n",
       "</style>\n",
       "<table border=\"1\" class=\"dataframe\">\n",
       "  <thead>\n",
       "    <tr style=\"text-align: right;\">\n",
       "      <th></th>\n",
       "      <th>index</th>\n",
       "      <th>TID</th>\n",
       "      <th>breadcrumb</th>\n",
       "      <th>category_name</th>\n",
       "      <th>property_type</th>\n",
       "      <th>building_size</th>\n",
       "      <th>land_size</th>\n",
       "      <th>preferred_size</th>\n",
       "      <th>open_date</th>\n",
       "      <th>listing_agency</th>\n",
       "      <th>...</th>\n",
       "      <th>state</th>\n",
       "      <th>zip_code</th>\n",
       "      <th>phone</th>\n",
       "      <th>latitude</th>\n",
       "      <th>longitude</th>\n",
       "      <th>product_depth</th>\n",
       "      <th>bedroom_count</th>\n",
       "      <th>bathroom_count</th>\n",
       "      <th>parking_count</th>\n",
       "      <th>RunDate</th>\n",
       "    </tr>\n",
       "  </thead>\n",
       "  <tbody>\n",
       "    <tr>\n",
       "      <th>0</th>\n",
       "      <td>0</td>\n",
       "      <td>1350988</td>\n",
       "      <td>Buy&gt;NT&gt;DARWIN CITY</td>\n",
       "      <td>Real Estate &amp; Property for sale in DARWIN CITY...</td>\n",
       "      <td>House</td>\n",
       "      <td>NaN</td>\n",
       "      <td>NaN</td>\n",
       "      <td>NaN</td>\n",
       "      <td>Added 2 hours ago</td>\n",
       "      <td>Professionals - DARWIN CITY</td>\n",
       "      <td>...</td>\n",
       "      <td>NT</td>\n",
       "      <td>800</td>\n",
       "      <td>08 8941 8289</td>\n",
       "      <td>NaN</td>\n",
       "      <td>NaN</td>\n",
       "      <td>premiere</td>\n",
       "      <td>2.0</td>\n",
       "      <td>1.0</td>\n",
       "      <td>1.0</td>\n",
       "      <td>2022-05-27 15:54:05</td>\n",
       "    </tr>\n",
       "    <tr>\n",
       "      <th>1</th>\n",
       "      <td>1</td>\n",
       "      <td>1350989</td>\n",
       "      <td>Buy&gt;NT&gt;DARWIN CITY</td>\n",
       "      <td>Real Estate &amp; Property for sale in DARWIN CITY...</td>\n",
       "      <td>Apartment</td>\n",
       "      <td>171m²</td>\n",
       "      <td>NaN</td>\n",
       "      <td>171m²</td>\n",
       "      <td>Added 7 hours ago</td>\n",
       "      <td>Nick Mousellis Real Estate - Eview Group Member</td>\n",
       "      <td>...</td>\n",
       "      <td>NT</td>\n",
       "      <td>800</td>\n",
       "      <td>0411724000</td>\n",
       "      <td>NaN</td>\n",
       "      <td>NaN</td>\n",
       "      <td>premiere</td>\n",
       "      <td>3.0</td>\n",
       "      <td>2.0</td>\n",
       "      <td>2.0</td>\n",
       "      <td>2022-05-27 15:54:05</td>\n",
       "    </tr>\n",
       "    <tr>\n",
       "      <th>2</th>\n",
       "      <td>2</td>\n",
       "      <td>1350990</td>\n",
       "      <td>Buy&gt;NT&gt;DARWIN CITY</td>\n",
       "      <td>Real Estate &amp; Property for sale in DARWIN CITY...</td>\n",
       "      <td>Unit</td>\n",
       "      <td>NaN</td>\n",
       "      <td>NaN</td>\n",
       "      <td>NaN</td>\n",
       "      <td>Added 22 hours ago</td>\n",
       "      <td>Habitat Real Estate - THE GARDENS</td>\n",
       "      <td>...</td>\n",
       "      <td>NT</td>\n",
       "      <td>800</td>\n",
       "      <td>08 8981 0080</td>\n",
       "      <td>NaN</td>\n",
       "      <td>NaN</td>\n",
       "      <td>premiere</td>\n",
       "      <td>2.0</td>\n",
       "      <td>1.0</td>\n",
       "      <td>1.0</td>\n",
       "      <td>2022-05-27 15:54:05</td>\n",
       "    </tr>\n",
       "    <tr>\n",
       "      <th>3</th>\n",
       "      <td>3</td>\n",
       "      <td>1350991</td>\n",
       "      <td>Buy&gt;NT&gt;DARWIN CITY</td>\n",
       "      <td>Real Estate &amp; Property for sale in DARWIN CITY...</td>\n",
       "      <td>House</td>\n",
       "      <td>NaN</td>\n",
       "      <td>NaN</td>\n",
       "      <td>NaN</td>\n",
       "      <td>Added yesterday</td>\n",
       "      <td>Ray White - NIGHTCLIFF</td>\n",
       "      <td>...</td>\n",
       "      <td>NT</td>\n",
       "      <td>800</td>\n",
       "      <td>08 8982 2403</td>\n",
       "      <td>NaN</td>\n",
       "      <td>NaN</td>\n",
       "      <td>premiere</td>\n",
       "      <td>1.0</td>\n",
       "      <td>1.0</td>\n",
       "      <td>0.0</td>\n",
       "      <td>2022-05-27 15:54:05</td>\n",
       "    </tr>\n",
       "    <tr>\n",
       "      <th>4</th>\n",
       "      <td>4</td>\n",
       "      <td>1350992</td>\n",
       "      <td>Buy&gt;NT&gt;DARWIN CITY</td>\n",
       "      <td>Real Estate &amp; Property for sale in DARWIN CITY...</td>\n",
       "      <td>Unit</td>\n",
       "      <td>201m²</td>\n",
       "      <td>NaN</td>\n",
       "      <td>201m²</td>\n",
       "      <td>Added yesterday</td>\n",
       "      <td>Carol Need Real Estate - Fannie Bay</td>\n",
       "      <td>...</td>\n",
       "      <td>NT</td>\n",
       "      <td>800</td>\n",
       "      <td>0418885966</td>\n",
       "      <td>NaN</td>\n",
       "      <td>NaN</td>\n",
       "      <td>premiere</td>\n",
       "      <td>3.0</td>\n",
       "      <td>2.0</td>\n",
       "      <td>2.0</td>\n",
       "      <td>2022-05-27 15:54:05</td>\n",
       "    </tr>\n",
       "  </tbody>\n",
       "</table>\n",
       "<p>5 rows × 27 columns</p>\n",
       "</div>"
      ],
      "text/plain": [
       "   index      TID          breadcrumb  \\\n",
       "0      0  1350988  Buy>NT>DARWIN CITY   \n",
       "1      1  1350989  Buy>NT>DARWIN CITY   \n",
       "2      2  1350990  Buy>NT>DARWIN CITY   \n",
       "3      3  1350991  Buy>NT>DARWIN CITY   \n",
       "4      4  1350992  Buy>NT>DARWIN CITY   \n",
       "\n",
       "                                       category_name property_type  \\\n",
       "0  Real Estate & Property for sale in DARWIN CITY...         House   \n",
       "1  Real Estate & Property for sale in DARWIN CITY...     Apartment   \n",
       "2  Real Estate & Property for sale in DARWIN CITY...          Unit   \n",
       "3  Real Estate & Property for sale in DARWIN CITY...         House   \n",
       "4  Real Estate & Property for sale in DARWIN CITY...          Unit   \n",
       "\n",
       "  building_size land_size preferred_size           open_date  \\\n",
       "0           NaN       NaN            NaN   Added 2 hours ago   \n",
       "1         171m²       NaN          171m²   Added 7 hours ago   \n",
       "2           NaN       NaN            NaN  Added 22 hours ago   \n",
       "3           NaN       NaN            NaN     Added yesterday   \n",
       "4         201m²       NaN          201m²     Added yesterday   \n",
       "\n",
       "                                    listing_agency  ... state  zip_code  \\\n",
       "0                      Professionals - DARWIN CITY  ...    NT       800   \n",
       "1  Nick Mousellis Real Estate - Eview Group Member  ...    NT       800   \n",
       "2                Habitat Real Estate - THE GARDENS  ...    NT       800   \n",
       "3                           Ray White - NIGHTCLIFF  ...    NT       800   \n",
       "4              Carol Need Real Estate - Fannie Bay  ...    NT       800   \n",
       "\n",
       "          phone latitude longitude product_depth bedroom_count bathroom_count  \\\n",
       "0  08 8941 8289      NaN       NaN      premiere           2.0            1.0   \n",
       "1    0411724000      NaN       NaN      premiere           3.0            2.0   \n",
       "2  08 8981 0080      NaN       NaN      premiere           2.0            1.0   \n",
       "3  08 8982 2403      NaN       NaN      premiere           1.0            1.0   \n",
       "4    0418885966      NaN       NaN      premiere           3.0            2.0   \n",
       "\n",
       "   parking_count              RunDate  \n",
       "0            1.0  2022-05-27 15:54:05  \n",
       "1            2.0  2022-05-27 15:54:05  \n",
       "2            1.0  2022-05-27 15:54:05  \n",
       "3            0.0  2022-05-27 15:54:05  \n",
       "4            2.0  2022-05-27 15:54:05  \n",
       "\n",
       "[5 rows x 27 columns]"
      ]
     },
     "execution_count": 2,
     "metadata": {},
     "output_type": "execute_result"
    }
   ],
   "source": [
    "data = pd.read_csv(\"data/RealEstateAU_1000_Samples.csv\")\n",
    "data.head()"
   ]
  },
  {
   "cell_type": "markdown",
   "metadata": {},
   "source": [
    "# Data Cleaning"
   ]
  },
  {
   "cell_type": "code",
   "execution_count": 3,
   "metadata": {
    "ExecuteTime": {
     "end_time": "2023-01-09T21:34:43.706523Z",
     "start_time": "2023-01-09T21:34:43.695707Z"
    }
   },
   "outputs": [
    {
     "data": {
      "text/plain": [
       "index                 0\n",
       "TID                   0\n",
       "breadcrumb            0\n",
       "category_name         0\n",
       "property_type         0\n",
       "building_size       720\n",
       "land_size           467\n",
       "preferred_size      391\n",
       "open_date           698\n",
       "listing_agency        0\n",
       "price                 0\n",
       "location_number       0\n",
       "location_type         0\n",
       "location_name         0\n",
       "address              12\n",
       "address_1            12\n",
       "city                  0\n",
       "state                 0\n",
       "zip_code              0\n",
       "phone                 0\n",
       "latitude           1000\n",
       "longitude          1000\n",
       "product_depth         0\n",
       "bedroom_count        33\n",
       "bathroom_count       33\n",
       "parking_count        33\n",
       "RunDate               0\n",
       "dtype: int64"
      ]
     },
     "execution_count": 3,
     "metadata": {},
     "output_type": "execute_result"
    }
   ],
   "source": [
    "data.isnull().sum()"
   ]
  },
  {
   "cell_type": "markdown",
   "metadata": {},
   "source": [
    "index, TID, breadcrumb, cateogry_name, open_date, RunDate - these columns represent information about the listing or the dataset, not the house itself\n",
    "\n",
    "listing_agency- while useful, the sheer number of categories and the time constraint make this difficult to properly clean; would be useful to see if certain agencies are correlated to housing premiums/discounts\n",
    "\n",
    "location_number, location_type, location_name- these columns do not provide information on the housing itself\n",
    "\n",
    "address, address_1, city, state, zip_code, phone - these columns involve largely information unique to the housing and listing/lister. \n",
    "\n",
    "latitude, longitude - these columns are solely filled with null values\n",
    "\n",
    "preferred_size - not particularly useful; preferred size isn't a true statistic of the house\n"
   ]
  },
  {
   "cell_type": "code",
   "execution_count": 4,
   "metadata": {
    "ExecuteTime": {
     "end_time": "2023-01-09T21:34:43.737625Z",
     "start_time": "2023-01-09T21:34:43.708548Z"
    }
   },
   "outputs": [],
   "source": [
    "removeCol = [\"index\", \"TID\", \"breadcrumb\", \"category_name\", \"open_date\", \n",
    "             \"preferred_size\", \"listing_agency\",\n",
    "             \"location_number\", \"location_type\", \"location_name\", \"address\",\n",
    "            \"address_1\", \"city\", \"state\", \"zip_code\", \"phone\", \"latitude\",\n",
    "            \"longitude\", \"RunDate\"]"
   ]
  },
  {
   "cell_type": "code",
   "execution_count": 5,
   "metadata": {
    "ExecuteTime": {
     "end_time": "2023-01-09T21:34:43.768988Z",
     "start_time": "2023-01-09T21:34:43.740076Z"
    }
   },
   "outputs": [
    {
     "data": {
      "text/html": [
       "<div>\n",
       "<style scoped>\n",
       "    .dataframe tbody tr th:only-of-type {\n",
       "        vertical-align: middle;\n",
       "    }\n",
       "\n",
       "    .dataframe tbody tr th {\n",
       "        vertical-align: top;\n",
       "    }\n",
       "\n",
       "    .dataframe thead th {\n",
       "        text-align: right;\n",
       "    }\n",
       "</style>\n",
       "<table border=\"1\" class=\"dataframe\">\n",
       "  <thead>\n",
       "    <tr style=\"text-align: right;\">\n",
       "      <th></th>\n",
       "      <th>property_type</th>\n",
       "      <th>building_size</th>\n",
       "      <th>land_size</th>\n",
       "      <th>price</th>\n",
       "      <th>product_depth</th>\n",
       "      <th>bedroom_count</th>\n",
       "      <th>bathroom_count</th>\n",
       "      <th>parking_count</th>\n",
       "    </tr>\n",
       "  </thead>\n",
       "  <tbody>\n",
       "    <tr>\n",
       "      <th>0</th>\n",
       "      <td>House</td>\n",
       "      <td>NaN</td>\n",
       "      <td>NaN</td>\n",
       "      <td>$435,000</td>\n",
       "      <td>premiere</td>\n",
       "      <td>2.0</td>\n",
       "      <td>1.0</td>\n",
       "      <td>1.0</td>\n",
       "    </tr>\n",
       "    <tr>\n",
       "      <th>1</th>\n",
       "      <td>Apartment</td>\n",
       "      <td>171m²</td>\n",
       "      <td>NaN</td>\n",
       "      <td>Offers Over $320,000</td>\n",
       "      <td>premiere</td>\n",
       "      <td>3.0</td>\n",
       "      <td>2.0</td>\n",
       "      <td>2.0</td>\n",
       "    </tr>\n",
       "    <tr>\n",
       "      <th>2</th>\n",
       "      <td>Unit</td>\n",
       "      <td>NaN</td>\n",
       "      <td>NaN</td>\n",
       "      <td>$310,000</td>\n",
       "      <td>premiere</td>\n",
       "      <td>2.0</td>\n",
       "      <td>1.0</td>\n",
       "      <td>1.0</td>\n",
       "    </tr>\n",
       "    <tr>\n",
       "      <th>3</th>\n",
       "      <td>House</td>\n",
       "      <td>NaN</td>\n",
       "      <td>NaN</td>\n",
       "      <td>$259,000</td>\n",
       "      <td>premiere</td>\n",
       "      <td>1.0</td>\n",
       "      <td>1.0</td>\n",
       "      <td>0.0</td>\n",
       "    </tr>\n",
       "    <tr>\n",
       "      <th>4</th>\n",
       "      <td>Unit</td>\n",
       "      <td>201m²</td>\n",
       "      <td>NaN</td>\n",
       "      <td>$439,000</td>\n",
       "      <td>premiere</td>\n",
       "      <td>3.0</td>\n",
       "      <td>2.0</td>\n",
       "      <td>2.0</td>\n",
       "    </tr>\n",
       "  </tbody>\n",
       "</table>\n",
       "</div>"
      ],
      "text/plain": [
       "  property_type building_size land_size                 price product_depth  \\\n",
       "0         House           NaN       NaN              $435,000      premiere   \n",
       "1     Apartment         171m²       NaN  Offers Over $320,000      premiere   \n",
       "2          Unit           NaN       NaN              $310,000      premiere   \n",
       "3         House           NaN       NaN              $259,000      premiere   \n",
       "4          Unit         201m²       NaN              $439,000      premiere   \n",
       "\n",
       "   bedroom_count  bathroom_count  parking_count  \n",
       "0            2.0             1.0            1.0  \n",
       "1            3.0             2.0            2.0  \n",
       "2            2.0             1.0            1.0  \n",
       "3            1.0             1.0            0.0  \n",
       "4            3.0             2.0            2.0  "
      ]
     },
     "execution_count": 5,
     "metadata": {},
     "output_type": "execute_result"
    }
   ],
   "source": [
    "data_c = data.drop(removeCol, axis = 1)\n",
    "data_c.head()"
   ]
  },
  {
   "cell_type": "code",
   "execution_count": 6,
   "metadata": {
    "ExecuteTime": {
     "end_time": "2023-01-09T21:34:43.784784Z",
     "start_time": "2023-01-09T21:34:43.772116Z"
    }
   },
   "outputs": [
    {
     "data": {
      "text/plain": [
       "House                   441\n",
       "Unit                    230\n",
       "Apartment               212\n",
       "Townhouse                38\n",
       "Residential Land         33\n",
       "Duplex/Semi-detached     19\n",
       "Acreage                   9\n",
       "Block Of Units            6\n",
       "Other                     4\n",
       "Villa                     4\n",
       "Studio                    2\n",
       "Lifestyle                 1\n",
       "Warehouse                 1\n",
       "Name: property_type, dtype: int64"
      ]
     },
     "execution_count": 6,
     "metadata": {},
     "output_type": "execute_result"
    }
   ],
   "source": [
    "# remove acreage, block of units, other, villa, studio, lifestyle, and warehouse- represent minimal portion of the dataset\n",
    "# and are in such small numbers to be inpractical for modeling\n",
    "\n",
    "# remove residential land - there are no amenities included, difficult to estimate missing values\n",
    "\n",
    "data_c[\"property_type\"].value_counts()"
   ]
  },
  {
   "cell_type": "code",
   "execution_count": 7,
   "metadata": {
    "ExecuteTime": {
     "end_time": "2023-01-09T21:34:43.800374Z",
     "start_time": "2023-01-09T21:34:43.788381Z"
    }
   },
   "outputs": [
    {
     "data": {
      "text/plain": [
       "premiere    659\n",
       "feature     172\n",
       "standard    162\n",
       "midtier       7\n",
       "Name: product_depth, dtype: int64"
      ]
     },
     "execution_count": 7,
     "metadata": {},
     "output_type": "execute_result"
    }
   ],
   "source": [
    "# remove midtier- very few housing in this category, better to remove and prevent issues from occuring\n",
    "data_c[\"product_depth\"].value_counts()"
   ]
  },
  {
   "cell_type": "code",
   "execution_count": 8,
   "metadata": {
    "ExecuteTime": {
     "end_time": "2023-01-09T21:34:43.831173Z",
     "start_time": "2023-01-09T21:34:43.802395Z"
    }
   },
   "outputs": [
    {
     "data": {
      "text/html": [
       "<div>\n",
       "<style scoped>\n",
       "    .dataframe tbody tr th:only-of-type {\n",
       "        vertical-align: middle;\n",
       "    }\n",
       "\n",
       "    .dataframe tbody tr th {\n",
       "        vertical-align: top;\n",
       "    }\n",
       "\n",
       "    .dataframe thead th {\n",
       "        text-align: right;\n",
       "    }\n",
       "</style>\n",
       "<table border=\"1\" class=\"dataframe\">\n",
       "  <thead>\n",
       "    <tr style=\"text-align: right;\">\n",
       "      <th></th>\n",
       "      <th>property_type</th>\n",
       "      <th>building_size</th>\n",
       "      <th>land_size</th>\n",
       "      <th>price</th>\n",
       "      <th>product_depth</th>\n",
       "      <th>bedroom_count</th>\n",
       "      <th>bathroom_count</th>\n",
       "      <th>parking_count</th>\n",
       "    </tr>\n",
       "  </thead>\n",
       "  <tbody>\n",
       "    <tr>\n",
       "      <th>0</th>\n",
       "      <td>House</td>\n",
       "      <td>NaN</td>\n",
       "      <td>NaN</td>\n",
       "      <td>$435,000</td>\n",
       "      <td>premiere</td>\n",
       "      <td>2.0</td>\n",
       "      <td>1.0</td>\n",
       "      <td>1.0</td>\n",
       "    </tr>\n",
       "    <tr>\n",
       "      <th>1</th>\n",
       "      <td>Apartment</td>\n",
       "      <td>171m²</td>\n",
       "      <td>NaN</td>\n",
       "      <td>Offers Over $320,000</td>\n",
       "      <td>premiere</td>\n",
       "      <td>3.0</td>\n",
       "      <td>2.0</td>\n",
       "      <td>2.0</td>\n",
       "    </tr>\n",
       "    <tr>\n",
       "      <th>2</th>\n",
       "      <td>Unit</td>\n",
       "      <td>NaN</td>\n",
       "      <td>NaN</td>\n",
       "      <td>$310,000</td>\n",
       "      <td>premiere</td>\n",
       "      <td>2.0</td>\n",
       "      <td>1.0</td>\n",
       "      <td>1.0</td>\n",
       "    </tr>\n",
       "    <tr>\n",
       "      <th>3</th>\n",
       "      <td>House</td>\n",
       "      <td>NaN</td>\n",
       "      <td>NaN</td>\n",
       "      <td>$259,000</td>\n",
       "      <td>premiere</td>\n",
       "      <td>1.0</td>\n",
       "      <td>1.0</td>\n",
       "      <td>0.0</td>\n",
       "    </tr>\n",
       "    <tr>\n",
       "      <th>4</th>\n",
       "      <td>Unit</td>\n",
       "      <td>201m²</td>\n",
       "      <td>NaN</td>\n",
       "      <td>$439,000</td>\n",
       "      <td>premiere</td>\n",
       "      <td>3.0</td>\n",
       "      <td>2.0</td>\n",
       "      <td>2.0</td>\n",
       "    </tr>\n",
       "    <tr>\n",
       "      <th>...</th>\n",
       "      <td>...</td>\n",
       "      <td>...</td>\n",
       "      <td>...</td>\n",
       "      <td>...</td>\n",
       "      <td>...</td>\n",
       "      <td>...</td>\n",
       "      <td>...</td>\n",
       "      <td>...</td>\n",
       "    </tr>\n",
       "    <tr>\n",
       "      <th>995</th>\n",
       "      <td>House</td>\n",
       "      <td>NaN</td>\n",
       "      <td>9.17ha</td>\n",
       "      <td>2 Residence</td>\n",
       "      <td>feature</td>\n",
       "      <td>4.0</td>\n",
       "      <td>3.0</td>\n",
       "      <td>6.0</td>\n",
       "    </tr>\n",
       "    <tr>\n",
       "      <th>996</th>\n",
       "      <td>House</td>\n",
       "      <td>203m²</td>\n",
       "      <td>600m²</td>\n",
       "      <td>$601,000</td>\n",
       "      <td>standard</td>\n",
       "      <td>4.0</td>\n",
       "      <td>2.0</td>\n",
       "      <td>2.0</td>\n",
       "    </tr>\n",
       "    <tr>\n",
       "      <th>997</th>\n",
       "      <td>House</td>\n",
       "      <td>209.6m²</td>\n",
       "      <td>800m²</td>\n",
       "      <td>$655,000</td>\n",
       "      <td>standard</td>\n",
       "      <td>4.0</td>\n",
       "      <td>2.0</td>\n",
       "      <td>2.0</td>\n",
       "    </tr>\n",
       "    <tr>\n",
       "      <th>998</th>\n",
       "      <td>House</td>\n",
       "      <td>180m²</td>\n",
       "      <td>450m²</td>\n",
       "      <td>$675,000</td>\n",
       "      <td>standard</td>\n",
       "      <td>4.0</td>\n",
       "      <td>2.0</td>\n",
       "      <td>3.0</td>\n",
       "    </tr>\n",
       "    <tr>\n",
       "      <th>999</th>\n",
       "      <td>Unit</td>\n",
       "      <td>120m²</td>\n",
       "      <td>NaN</td>\n",
       "      <td>$399,000</td>\n",
       "      <td>feature</td>\n",
       "      <td>2.0</td>\n",
       "      <td>2.0</td>\n",
       "      <td>2.0</td>\n",
       "    </tr>\n",
       "  </tbody>\n",
       "</table>\n",
       "<p>934 rows × 8 columns</p>\n",
       "</div>"
      ],
      "text/plain": [
       "    property_type building_size land_size                 price product_depth  \\\n",
       "0           House           NaN       NaN              $435,000      premiere   \n",
       "1       Apartment         171m²       NaN  Offers Over $320,000      premiere   \n",
       "2            Unit           NaN       NaN              $310,000      premiere   \n",
       "3           House           NaN       NaN              $259,000      premiere   \n",
       "4            Unit         201m²       NaN              $439,000      premiere   \n",
       "..            ...           ...       ...                   ...           ...   \n",
       "995         House           NaN    9.17ha           2 Residence       feature   \n",
       "996         House         203m²     600m²              $601,000      standard   \n",
       "997         House       209.6m²     800m²              $655,000      standard   \n",
       "998         House         180m²     450m²              $675,000      standard   \n",
       "999          Unit         120m²       NaN              $399,000       feature   \n",
       "\n",
       "     bedroom_count  bathroom_count  parking_count  \n",
       "0              2.0             1.0            1.0  \n",
       "1              3.0             2.0            2.0  \n",
       "2              2.0             1.0            1.0  \n",
       "3              1.0             1.0            0.0  \n",
       "4              3.0             2.0            2.0  \n",
       "..             ...             ...            ...  \n",
       "995            4.0             3.0            6.0  \n",
       "996            4.0             2.0            2.0  \n",
       "997            4.0             2.0            2.0  \n",
       "998            4.0             2.0            3.0  \n",
       "999            2.0             2.0            2.0  \n",
       "\n",
       "[934 rows x 8 columns]"
      ]
     },
     "execution_count": 8,
     "metadata": {},
     "output_type": "execute_result"
    }
   ],
   "source": [
    "removePropType = [\"Residential Land\", \"Acreage\", \"Block Of Units\", \"Other\", \n",
    "                  \"Villa\", \"Studio\", \"Lifestyle\", \"Warehouse\"]\n",
    "\n",
    "data_c2 = data_c[~data_c[\"property_type\"].isin(removePropType)]\n",
    "data_c2 = data_c2[data_c2[\"product_depth\"] != \"midtier\"]\n",
    "\n",
    "data_c2"
   ]
  },
  {
   "cell_type": "markdown",
   "metadata": {},
   "source": [
    "## First pass of size predictors"
   ]
  },
  {
   "cell_type": "code",
   "execution_count": 9,
   "metadata": {
    "ExecuteTime": {
     "end_time": "2023-01-09T21:34:43.846707Z",
     "start_time": "2023-01-09T21:34:43.832960Z"
    }
   },
   "outputs": [],
   "source": [
    "def removeMeters(string):\n",
    "    if(pd.isna(string)): \n",
    "        return\n",
    "    else: \n",
    "        return string.replace(\"m²\",\"\")"
   ]
  },
  {
   "cell_type": "code",
   "execution_count": 10,
   "metadata": {
    "ExecuteTime": {
     "end_time": "2023-01-09T21:34:43.862465Z",
     "start_time": "2023-01-09T21:34:43.848895Z"
    }
   },
   "outputs": [],
   "source": [
    "# some units are hectare, others meters squared- corrects numbers to be in meteres squared\n",
    "def correctSize(string):\n",
    "    if(pd.isna(string)): \n",
    "        return\n",
    "    else: \n",
    "        if \"ha\" in string:\n",
    "            return float(re.sub(\"[a-zA-Z,]\", \"\", string))*10000\n",
    "        else:\n",
    "            string2 = string.replace(\"m²\",\"\")\n",
    "            return float(re.sub(\"[a-zA-Z,]\", \"\", string2))"
   ]
  },
  {
   "cell_type": "code",
   "execution_count": 11,
   "metadata": {
    "ExecuteTime": {
     "end_time": "2023-01-09T21:34:43.878374Z",
     "start_time": "2023-01-09T21:34:43.864424Z"
    }
   },
   "outputs": [],
   "source": [
    "sizePredictors = [\"building_size\",\"land_size\"]"
   ]
  },
  {
   "cell_type": "code",
   "execution_count": 12,
   "metadata": {
    "ExecuteTime": {
     "end_time": "2023-01-09T21:34:43.893542Z",
     "start_time": "2023-01-09T21:34:43.879904Z"
    }
   },
   "outputs": [],
   "source": [
    "data_c3 = data_c2.copy()\n",
    "data_c3[\"building_size\"] = data_c3[\"building_size\"].apply(correctSize)\n",
    "data_c3[\"land_size\"] = data_c3[\"land_size\"].apply(correctSize)"
   ]
  },
  {
   "cell_type": "code",
   "execution_count": 13,
   "metadata": {
    "ExecuteTime": {
     "end_time": "2023-01-09T21:34:43.926100Z",
     "start_time": "2023-01-09T21:34:43.894542Z"
    }
   },
   "outputs": [
    {
     "data": {
      "text/html": [
       "<div>\n",
       "<style scoped>\n",
       "    .dataframe tbody tr th:only-of-type {\n",
       "        vertical-align: middle;\n",
       "    }\n",
       "\n",
       "    .dataframe tbody tr th {\n",
       "        vertical-align: top;\n",
       "    }\n",
       "\n",
       "    .dataframe thead th {\n",
       "        text-align: right;\n",
       "    }\n",
       "</style>\n",
       "<table border=\"1\" class=\"dataframe\">\n",
       "  <thead>\n",
       "    <tr style=\"text-align: right;\">\n",
       "      <th></th>\n",
       "      <th>property_type</th>\n",
       "      <th>building_size</th>\n",
       "      <th>land_size</th>\n",
       "      <th>price</th>\n",
       "      <th>product_depth</th>\n",
       "      <th>bedroom_count</th>\n",
       "      <th>bathroom_count</th>\n",
       "      <th>parking_count</th>\n",
       "    </tr>\n",
       "  </thead>\n",
       "  <tbody>\n",
       "    <tr>\n",
       "      <th>0</th>\n",
       "      <td>House</td>\n",
       "      <td>NaN</td>\n",
       "      <td>NaN</td>\n",
       "      <td>$435,000</td>\n",
       "      <td>premiere</td>\n",
       "      <td>2.0</td>\n",
       "      <td>1.0</td>\n",
       "      <td>1.0</td>\n",
       "    </tr>\n",
       "    <tr>\n",
       "      <th>1</th>\n",
       "      <td>Apartment</td>\n",
       "      <td>171.0</td>\n",
       "      <td>NaN</td>\n",
       "      <td>Offers Over $320,000</td>\n",
       "      <td>premiere</td>\n",
       "      <td>3.0</td>\n",
       "      <td>2.0</td>\n",
       "      <td>2.0</td>\n",
       "    </tr>\n",
       "    <tr>\n",
       "      <th>2</th>\n",
       "      <td>Unit</td>\n",
       "      <td>NaN</td>\n",
       "      <td>NaN</td>\n",
       "      <td>$310,000</td>\n",
       "      <td>premiere</td>\n",
       "      <td>2.0</td>\n",
       "      <td>1.0</td>\n",
       "      <td>1.0</td>\n",
       "    </tr>\n",
       "    <tr>\n",
       "      <th>3</th>\n",
       "      <td>House</td>\n",
       "      <td>NaN</td>\n",
       "      <td>NaN</td>\n",
       "      <td>$259,000</td>\n",
       "      <td>premiere</td>\n",
       "      <td>1.0</td>\n",
       "      <td>1.0</td>\n",
       "      <td>0.0</td>\n",
       "    </tr>\n",
       "    <tr>\n",
       "      <th>4</th>\n",
       "      <td>Unit</td>\n",
       "      <td>201.0</td>\n",
       "      <td>NaN</td>\n",
       "      <td>$439,000</td>\n",
       "      <td>premiere</td>\n",
       "      <td>3.0</td>\n",
       "      <td>2.0</td>\n",
       "      <td>2.0</td>\n",
       "    </tr>\n",
       "    <tr>\n",
       "      <th>...</th>\n",
       "      <td>...</td>\n",
       "      <td>...</td>\n",
       "      <td>...</td>\n",
       "      <td>...</td>\n",
       "      <td>...</td>\n",
       "      <td>...</td>\n",
       "      <td>...</td>\n",
       "      <td>...</td>\n",
       "    </tr>\n",
       "    <tr>\n",
       "      <th>995</th>\n",
       "      <td>House</td>\n",
       "      <td>NaN</td>\n",
       "      <td>91700.0</td>\n",
       "      <td>2 Residence</td>\n",
       "      <td>feature</td>\n",
       "      <td>4.0</td>\n",
       "      <td>3.0</td>\n",
       "      <td>6.0</td>\n",
       "    </tr>\n",
       "    <tr>\n",
       "      <th>996</th>\n",
       "      <td>House</td>\n",
       "      <td>203.0</td>\n",
       "      <td>600.0</td>\n",
       "      <td>$601,000</td>\n",
       "      <td>standard</td>\n",
       "      <td>4.0</td>\n",
       "      <td>2.0</td>\n",
       "      <td>2.0</td>\n",
       "    </tr>\n",
       "    <tr>\n",
       "      <th>997</th>\n",
       "      <td>House</td>\n",
       "      <td>209.6</td>\n",
       "      <td>800.0</td>\n",
       "      <td>$655,000</td>\n",
       "      <td>standard</td>\n",
       "      <td>4.0</td>\n",
       "      <td>2.0</td>\n",
       "      <td>2.0</td>\n",
       "    </tr>\n",
       "    <tr>\n",
       "      <th>998</th>\n",
       "      <td>House</td>\n",
       "      <td>180.0</td>\n",
       "      <td>450.0</td>\n",
       "      <td>$675,000</td>\n",
       "      <td>standard</td>\n",
       "      <td>4.0</td>\n",
       "      <td>2.0</td>\n",
       "      <td>3.0</td>\n",
       "    </tr>\n",
       "    <tr>\n",
       "      <th>999</th>\n",
       "      <td>Unit</td>\n",
       "      <td>120.0</td>\n",
       "      <td>NaN</td>\n",
       "      <td>$399,000</td>\n",
       "      <td>feature</td>\n",
       "      <td>2.0</td>\n",
       "      <td>2.0</td>\n",
       "      <td>2.0</td>\n",
       "    </tr>\n",
       "  </tbody>\n",
       "</table>\n",
       "<p>934 rows × 8 columns</p>\n",
       "</div>"
      ],
      "text/plain": [
       "    property_type  building_size  land_size                 price  \\\n",
       "0           House            NaN        NaN              $435,000   \n",
       "1       Apartment          171.0        NaN  Offers Over $320,000   \n",
       "2            Unit            NaN        NaN              $310,000   \n",
       "3           House            NaN        NaN              $259,000   \n",
       "4            Unit          201.0        NaN              $439,000   \n",
       "..            ...            ...        ...                   ...   \n",
       "995         House            NaN    91700.0           2 Residence   \n",
       "996         House          203.0      600.0              $601,000   \n",
       "997         House          209.6      800.0              $655,000   \n",
       "998         House          180.0      450.0              $675,000   \n",
       "999          Unit          120.0        NaN              $399,000   \n",
       "\n",
       "    product_depth  bedroom_count  bathroom_count  parking_count  \n",
       "0        premiere            2.0             1.0            1.0  \n",
       "1        premiere            3.0             2.0            2.0  \n",
       "2        premiere            2.0             1.0            1.0  \n",
       "3        premiere            1.0             1.0            0.0  \n",
       "4        premiere            3.0             2.0            2.0  \n",
       "..            ...            ...             ...            ...  \n",
       "995       feature            4.0             3.0            6.0  \n",
       "996      standard            4.0             2.0            2.0  \n",
       "997      standard            4.0             2.0            2.0  \n",
       "998      standard            4.0             2.0            3.0  \n",
       "999       feature            2.0             2.0            2.0  \n",
       "\n",
       "[934 rows x 8 columns]"
      ]
     },
     "execution_count": 13,
     "metadata": {},
     "output_type": "execute_result"
    }
   ],
   "source": [
    "data_c3"
   ]
  },
  {
   "cell_type": "markdown",
   "metadata": {},
   "source": [
    "## Price Cleaning"
   ]
  },
  {
   "cell_type": "code",
   "execution_count": 14,
   "metadata": {
    "ExecuteTime": {
     "end_time": "2023-01-09T21:34:43.941253Z",
     "start_time": "2023-01-09T21:34:43.928117Z"
    }
   },
   "outputs": [],
   "source": [
    "def isPrice(string):\n",
    "    if \"$\" in string: \n",
    "        return True\n",
    "    else: \n",
    "        return False"
   ]
  },
  {
   "cell_type": "code",
   "execution_count": 15,
   "metadata": {
    "ExecuteTime": {
     "end_time": "2023-01-09T21:34:43.958233Z",
     "start_time": "2023-01-09T21:34:43.944655Z"
    }
   },
   "outputs": [],
   "source": [
    "def removeAlphabetic(string):\n",
    "    if(pd.isna(string)): \n",
    "        return np.nan\n",
    "    string2 = re.sub(\"[a-zA-Z,$]\", \"\", string)\n",
    "    try:\n",
    "        return float(string2.replace(\" \",\"\"))\n",
    "    except:\n",
    "        return np.nan"
   ]
  },
  {
   "cell_type": "code",
   "execution_count": 16,
   "metadata": {
    "ExecuteTime": {
     "end_time": "2023-01-09T21:34:43.972579Z",
     "start_time": "2023-01-09T21:34:43.960701Z"
    }
   },
   "outputs": [],
   "source": [
    "# data imputation version for price - may not do: worsens model performance\n",
    "# additionally, many of these \"prices\" are negotiable, under contract, etc: \n",
    "    #more or less unknowable, and most likely higher than the median price\n",
    "\n",
    "data_c3.loc[~data_c3[\"price\"].apply(isPrice), \"price\"] = np.nan\n",
    "data_c3\n",
    "data_c4 = data_c3.copy()"
   ]
  },
  {
   "cell_type": "code",
   "execution_count": 17,
   "metadata": {
    "ExecuteTime": {
     "end_time": "2023-01-09T21:34:43.987683Z",
     "start_time": "2023-01-09T21:34:43.974777Z"
    }
   },
   "outputs": [],
   "source": [
    "# remove all rows that do not have a numerical \"price\"\n",
    "# these \"prices\" are often \"UNDER CONTRACT\", \"Negotiable\", \"Contact Agent\"\n",
    "#data_c4 = data_c3.loc[data_c3[\"price\"].apply(isPrice)]"
   ]
  },
  {
   "cell_type": "code",
   "execution_count": 18,
   "metadata": {
    "ExecuteTime": {
     "end_time": "2023-01-09T21:34:44.003399Z",
     "start_time": "2023-01-09T21:34:43.989383Z"
    }
   },
   "outputs": [],
   "source": [
    "data_c4[\"price\"] = data_c4[\"price\"].apply(removeAlphabetic).copy()"
   ]
  },
  {
   "cell_type": "code",
   "execution_count": 19,
   "metadata": {
    "ExecuteTime": {
     "end_time": "2023-01-09T21:34:44.034778Z",
     "start_time": "2023-01-09T21:34:44.005187Z"
    }
   },
   "outputs": [
    {
     "data": {
      "text/html": [
       "<div>\n",
       "<style scoped>\n",
       "    .dataframe tbody tr th:only-of-type {\n",
       "        vertical-align: middle;\n",
       "    }\n",
       "\n",
       "    .dataframe tbody tr th {\n",
       "        vertical-align: top;\n",
       "    }\n",
       "\n",
       "    .dataframe thead th {\n",
       "        text-align: right;\n",
       "    }\n",
       "</style>\n",
       "<table border=\"1\" class=\"dataframe\">\n",
       "  <thead>\n",
       "    <tr style=\"text-align: right;\">\n",
       "      <th></th>\n",
       "      <th>property_type</th>\n",
       "      <th>building_size</th>\n",
       "      <th>land_size</th>\n",
       "      <th>price</th>\n",
       "      <th>product_depth</th>\n",
       "      <th>bedroom_count</th>\n",
       "      <th>bathroom_count</th>\n",
       "      <th>parking_count</th>\n",
       "    </tr>\n",
       "  </thead>\n",
       "  <tbody>\n",
       "    <tr>\n",
       "      <th>0</th>\n",
       "      <td>House</td>\n",
       "      <td>NaN</td>\n",
       "      <td>NaN</td>\n",
       "      <td>435000.0</td>\n",
       "      <td>premiere</td>\n",
       "      <td>2.0</td>\n",
       "      <td>1.0</td>\n",
       "      <td>1.0</td>\n",
       "    </tr>\n",
       "    <tr>\n",
       "      <th>1</th>\n",
       "      <td>Apartment</td>\n",
       "      <td>171.0</td>\n",
       "      <td>NaN</td>\n",
       "      <td>320000.0</td>\n",
       "      <td>premiere</td>\n",
       "      <td>3.0</td>\n",
       "      <td>2.0</td>\n",
       "      <td>2.0</td>\n",
       "    </tr>\n",
       "    <tr>\n",
       "      <th>2</th>\n",
       "      <td>Unit</td>\n",
       "      <td>NaN</td>\n",
       "      <td>NaN</td>\n",
       "      <td>310000.0</td>\n",
       "      <td>premiere</td>\n",
       "      <td>2.0</td>\n",
       "      <td>1.0</td>\n",
       "      <td>1.0</td>\n",
       "    </tr>\n",
       "    <tr>\n",
       "      <th>3</th>\n",
       "      <td>House</td>\n",
       "      <td>NaN</td>\n",
       "      <td>NaN</td>\n",
       "      <td>259000.0</td>\n",
       "      <td>premiere</td>\n",
       "      <td>1.0</td>\n",
       "      <td>1.0</td>\n",
       "      <td>0.0</td>\n",
       "    </tr>\n",
       "    <tr>\n",
       "      <th>4</th>\n",
       "      <td>Unit</td>\n",
       "      <td>201.0</td>\n",
       "      <td>NaN</td>\n",
       "      <td>439000.0</td>\n",
       "      <td>premiere</td>\n",
       "      <td>3.0</td>\n",
       "      <td>2.0</td>\n",
       "      <td>2.0</td>\n",
       "    </tr>\n",
       "    <tr>\n",
       "      <th>...</th>\n",
       "      <td>...</td>\n",
       "      <td>...</td>\n",
       "      <td>...</td>\n",
       "      <td>...</td>\n",
       "      <td>...</td>\n",
       "      <td>...</td>\n",
       "      <td>...</td>\n",
       "      <td>...</td>\n",
       "    </tr>\n",
       "    <tr>\n",
       "      <th>995</th>\n",
       "      <td>House</td>\n",
       "      <td>NaN</td>\n",
       "      <td>91700.0</td>\n",
       "      <td>NaN</td>\n",
       "      <td>feature</td>\n",
       "      <td>4.0</td>\n",
       "      <td>3.0</td>\n",
       "      <td>6.0</td>\n",
       "    </tr>\n",
       "    <tr>\n",
       "      <th>996</th>\n",
       "      <td>House</td>\n",
       "      <td>203.0</td>\n",
       "      <td>600.0</td>\n",
       "      <td>601000.0</td>\n",
       "      <td>standard</td>\n",
       "      <td>4.0</td>\n",
       "      <td>2.0</td>\n",
       "      <td>2.0</td>\n",
       "    </tr>\n",
       "    <tr>\n",
       "      <th>997</th>\n",
       "      <td>House</td>\n",
       "      <td>209.6</td>\n",
       "      <td>800.0</td>\n",
       "      <td>655000.0</td>\n",
       "      <td>standard</td>\n",
       "      <td>4.0</td>\n",
       "      <td>2.0</td>\n",
       "      <td>2.0</td>\n",
       "    </tr>\n",
       "    <tr>\n",
       "      <th>998</th>\n",
       "      <td>House</td>\n",
       "      <td>180.0</td>\n",
       "      <td>450.0</td>\n",
       "      <td>675000.0</td>\n",
       "      <td>standard</td>\n",
       "      <td>4.0</td>\n",
       "      <td>2.0</td>\n",
       "      <td>3.0</td>\n",
       "    </tr>\n",
       "    <tr>\n",
       "      <th>999</th>\n",
       "      <td>Unit</td>\n",
       "      <td>120.0</td>\n",
       "      <td>NaN</td>\n",
       "      <td>399000.0</td>\n",
       "      <td>feature</td>\n",
       "      <td>2.0</td>\n",
       "      <td>2.0</td>\n",
       "      <td>2.0</td>\n",
       "    </tr>\n",
       "  </tbody>\n",
       "</table>\n",
       "<p>934 rows × 8 columns</p>\n",
       "</div>"
      ],
      "text/plain": [
       "    property_type  building_size  land_size     price product_depth  \\\n",
       "0           House            NaN        NaN  435000.0      premiere   \n",
       "1       Apartment          171.0        NaN  320000.0      premiere   \n",
       "2            Unit            NaN        NaN  310000.0      premiere   \n",
       "3           House            NaN        NaN  259000.0      premiere   \n",
       "4            Unit          201.0        NaN  439000.0      premiere   \n",
       "..            ...            ...        ...       ...           ...   \n",
       "995         House            NaN    91700.0       NaN       feature   \n",
       "996         House          203.0      600.0  601000.0      standard   \n",
       "997         House          209.6      800.0  655000.0      standard   \n",
       "998         House          180.0      450.0  675000.0      standard   \n",
       "999          Unit          120.0        NaN  399000.0       feature   \n",
       "\n",
       "     bedroom_count  bathroom_count  parking_count  \n",
       "0              2.0             1.0            1.0  \n",
       "1              3.0             2.0            2.0  \n",
       "2              2.0             1.0            1.0  \n",
       "3              1.0             1.0            0.0  \n",
       "4              3.0             2.0            2.0  \n",
       "..             ...             ...            ...  \n",
       "995            4.0             3.0            6.0  \n",
       "996            4.0             2.0            2.0  \n",
       "997            4.0             2.0            2.0  \n",
       "998            4.0             2.0            3.0  \n",
       "999            2.0             2.0            2.0  \n",
       "\n",
       "[934 rows x 8 columns]"
      ]
     },
     "execution_count": 19,
     "metadata": {},
     "output_type": "execute_result"
    }
   ],
   "source": [
    "data_c4"
   ]
  },
  {
   "cell_type": "code",
   "execution_count": 20,
   "metadata": {
    "ExecuteTime": {
     "end_time": "2023-01-09T21:34:44.050356Z",
     "start_time": "2023-01-09T21:34:44.037903Z"
    }
   },
   "outputs": [
    {
     "data": {
      "text/plain": [
       "property_type     0.000000\n",
       "building_size     0.711991\n",
       "land_size         0.482869\n",
       "price             0.268737\n",
       "product_depth     0.000000\n",
       "bedroom_count     0.000000\n",
       "bathroom_count    0.000000\n",
       "parking_count     0.000000\n",
       "dtype: float64"
      ]
     },
     "execution_count": 20,
     "metadata": {},
     "output_type": "execute_result"
    }
   ],
   "source": [
    "data_c4.isnull().sum()/len(data_c4)"
   ]
  },
  {
   "cell_type": "markdown",
   "metadata": {},
   "source": [
    "## Data imputation"
   ]
  },
  {
   "cell_type": "code",
   "execution_count": 21,
   "metadata": {
    "ExecuteTime": {
     "end_time": "2023-01-09T21:34:44.266097Z",
     "start_time": "2023-01-09T21:34:44.051945Z"
    }
   },
   "outputs": [
    {
     "data": {
      "text/plain": [
       "<AxesSubplot:>"
      ]
     },
     "execution_count": 21,
     "metadata": {},
     "output_type": "execute_result"
    },
    {
     "data": {
      "image/png": "[encoded data removed]",
      "text/plain": [
       "<Figure size 432x288 with 1 Axes>"
      ]
     },
     "metadata": {
      "needs_background": "light"
     },
     "output_type": "display_data"
    }
   ],
   "source": [
    "# distribution is unbalanced, use median to impute values\n",
    "data_c4[\"building_size\"].hist()"
   ]
  },
  {
   "cell_type": "code",
   "execution_count": 22,
   "metadata": {
    "ExecuteTime": {
     "end_time": "2023-01-09T21:34:44.453657Z",
     "start_time": "2023-01-09T21:34:44.270950Z"
    }
   },
   "outputs": [
    {
     "data": {
      "text/plain": [
       "<AxesSubplot:>"
      ]
     },
     "execution_count": 22,
     "metadata": {},
     "output_type": "execute_result"
    },
    {
     "data": {
      "image/png": "[encoded data removed]",
      "text/plain": [
       "<Figure size 432x288 with 1 Axes>"
      ]
     },
     "metadata": {
      "needs_background": "light"
     },
     "output_type": "display_data"
    }
   ],
   "source": [
    "# distribution is unbalanced, use median to impute values\n",
    "data_c4[\"land_size\"].hist()"
   ]
  },
  {
   "cell_type": "code",
   "execution_count": 23,
   "metadata": {
    "ExecuteTime": {
     "end_time": "2023-01-09T21:34:44.610611Z",
     "start_time": "2023-01-09T21:34:44.457226Z"
    }
   },
   "outputs": [
    {
     "data": {
      "text/plain": [
       "<AxesSubplot:>"
      ]
     },
     "execution_count": 23,
     "metadata": {},
     "output_type": "execute_result"
    },
    {
     "data": {
      "image/png": "[encoded data removed]",
      "text/plain": [
       "<Figure size 432x288 with 1 Axes>"
      ]
     },
     "metadata": {
      "needs_background": "light"
     },
     "output_type": "display_data"
    }
   ],
   "source": [
    "# distribution is unbalanced, use median to impute values\n",
    "data_c4[\"price\"].hist()"
   ]
  },
  {
   "cell_type": "code",
   "execution_count": 24,
   "metadata": {
    "ExecuteTime": {
     "end_time": "2023-01-09T21:34:44.642222Z",
     "start_time": "2023-01-09T21:34:44.611947Z"
    }
   },
   "outputs": [
    {
     "data": {
      "text/html": [
       "<div>\n",
       "<style scoped>\n",
       "    .dataframe tbody tr th:only-of-type {\n",
       "        vertical-align: middle;\n",
       "    }\n",
       "\n",
       "    .dataframe tbody tr th {\n",
       "        vertical-align: top;\n",
       "    }\n",
       "\n",
       "    .dataframe thead th {\n",
       "        text-align: right;\n",
       "    }\n",
       "</style>\n",
       "<table border=\"1\" class=\"dataframe\">\n",
       "  <thead>\n",
       "    <tr style=\"text-align: right;\">\n",
       "      <th></th>\n",
       "      <th>building_size</th>\n",
       "      <th>land_size</th>\n",
       "      <th>price</th>\n",
       "      <th>bedroom_count</th>\n",
       "      <th>bathroom_count</th>\n",
       "      <th>parking_count</th>\n",
       "    </tr>\n",
       "    <tr>\n",
       "      <th>property_type</th>\n",
       "      <th></th>\n",
       "      <th></th>\n",
       "      <th></th>\n",
       "      <th></th>\n",
       "      <th></th>\n",
       "      <th></th>\n",
       "    </tr>\n",
       "  </thead>\n",
       "  <tbody>\n",
       "    <tr>\n",
       "      <th>Apartment</th>\n",
       "      <td>135.0</td>\n",
       "      <td>178.0</td>\n",
       "      <td>450000.0</td>\n",
       "      <td>2.0</td>\n",
       "      <td>2.0</td>\n",
       "      <td>2.0</td>\n",
       "    </tr>\n",
       "    <tr>\n",
       "      <th>Duplex/Semi-detached</th>\n",
       "      <td>354.0</td>\n",
       "      <td>352.0</td>\n",
       "      <td>450000.0</td>\n",
       "      <td>3.0</td>\n",
       "      <td>2.0</td>\n",
       "      <td>2.0</td>\n",
       "    </tr>\n",
       "    <tr>\n",
       "      <th>House</th>\n",
       "      <td>210.0</td>\n",
       "      <td>804.0</td>\n",
       "      <td>555000.0</td>\n",
       "      <td>4.0</td>\n",
       "      <td>2.0</td>\n",
       "      <td>2.0</td>\n",
       "    </tr>\n",
       "    <tr>\n",
       "      <th>Townhouse</th>\n",
       "      <td>99.5</td>\n",
       "      <td>294.5</td>\n",
       "      <td>645000.0</td>\n",
       "      <td>3.0</td>\n",
       "      <td>2.0</td>\n",
       "      <td>2.0</td>\n",
       "    </tr>\n",
       "    <tr>\n",
       "      <th>Unit</th>\n",
       "      <td>107.0</td>\n",
       "      <td>153.0</td>\n",
       "      <td>377500.0</td>\n",
       "      <td>2.0</td>\n",
       "      <td>1.0</td>\n",
       "      <td>2.0</td>\n",
       "    </tr>\n",
       "  </tbody>\n",
       "</table>\n",
       "</div>"
      ],
      "text/plain": [
       "                      building_size  land_size     price  bedroom_count  \\\n",
       "property_type                                                             \n",
       "Apartment                     135.0      178.0  450000.0            2.0   \n",
       "Duplex/Semi-detached          354.0      352.0  450000.0            3.0   \n",
       "House                         210.0      804.0  555000.0            4.0   \n",
       "Townhouse                      99.5      294.5  645000.0            3.0   \n",
       "Unit                          107.0      153.0  377500.0            2.0   \n",
       "\n",
       "                      bathroom_count  parking_count  \n",
       "property_type                                        \n",
       "Apartment                        2.0            2.0  \n",
       "Duplex/Semi-detached             2.0            2.0  \n",
       "House                            2.0            2.0  \n",
       "Townhouse                        2.0            2.0  \n",
       "Unit                             1.0            2.0  "
      ]
     },
     "execution_count": 24,
     "metadata": {},
     "output_type": "execute_result"
    }
   ],
   "source": [
    "median_df = data_c4.groupby(\"property_type\").median()\n",
    "median_df"
   ]
  },
  {
   "cell_type": "code",
   "execution_count": 25,
   "metadata": {
    "ExecuteTime": {
     "end_time": "2023-01-09T21:34:44.672862Z",
     "start_time": "2023-01-09T21:34:44.643677Z"
    }
   },
   "outputs": [
    {
     "data": {
      "text/html": [
       "<div>\n",
       "<style scoped>\n",
       "    .dataframe tbody tr th:only-of-type {\n",
       "        vertical-align: middle;\n",
       "    }\n",
       "\n",
       "    .dataframe tbody tr th {\n",
       "        vertical-align: top;\n",
       "    }\n",
       "\n",
       "    .dataframe thead th {\n",
       "        text-align: right;\n",
       "    }\n",
       "</style>\n",
       "<table border=\"1\" class=\"dataframe\">\n",
       "  <thead>\n",
       "    <tr style=\"text-align: right;\">\n",
       "      <th></th>\n",
       "      <th>building_size</th>\n",
       "      <th>land_size</th>\n",
       "      <th>price</th>\n",
       "      <th>bedroom_count</th>\n",
       "      <th>bathroom_count</th>\n",
       "      <th>parking_count</th>\n",
       "      <th>property_type</th>\n",
       "      <th>product_depth</th>\n",
       "    </tr>\n",
       "  </thead>\n",
       "  <tbody>\n",
       "    <tr>\n",
       "      <th>0</th>\n",
       "      <td>210.0</td>\n",
       "      <td>804.0</td>\n",
       "      <td>435000.0</td>\n",
       "      <td>2.0</td>\n",
       "      <td>1.0</td>\n",
       "      <td>1.0</td>\n",
       "      <td>House</td>\n",
       "      <td>premiere</td>\n",
       "    </tr>\n",
       "    <tr>\n",
       "      <th>1</th>\n",
       "      <td>171.0</td>\n",
       "      <td>178.0</td>\n",
       "      <td>320000.0</td>\n",
       "      <td>3.0</td>\n",
       "      <td>2.0</td>\n",
       "      <td>2.0</td>\n",
       "      <td>Apartment</td>\n",
       "      <td>premiere</td>\n",
       "    </tr>\n",
       "    <tr>\n",
       "      <th>2</th>\n",
       "      <td>107.0</td>\n",
       "      <td>153.0</td>\n",
       "      <td>310000.0</td>\n",
       "      <td>2.0</td>\n",
       "      <td>1.0</td>\n",
       "      <td>1.0</td>\n",
       "      <td>Unit</td>\n",
       "      <td>premiere</td>\n",
       "    </tr>\n",
       "    <tr>\n",
       "      <th>3</th>\n",
       "      <td>210.0</td>\n",
       "      <td>804.0</td>\n",
       "      <td>259000.0</td>\n",
       "      <td>1.0</td>\n",
       "      <td>1.0</td>\n",
       "      <td>0.0</td>\n",
       "      <td>House</td>\n",
       "      <td>premiere</td>\n",
       "    </tr>\n",
       "    <tr>\n",
       "      <th>4</th>\n",
       "      <td>201.0</td>\n",
       "      <td>153.0</td>\n",
       "      <td>439000.0</td>\n",
       "      <td>3.0</td>\n",
       "      <td>2.0</td>\n",
       "      <td>2.0</td>\n",
       "      <td>Unit</td>\n",
       "      <td>premiere</td>\n",
       "    </tr>\n",
       "  </tbody>\n",
       "</table>\n",
       "</div>"
      ],
      "text/plain": [
       "   building_size  land_size     price  bedroom_count  bathroom_count  \\\n",
       "0          210.0      804.0  435000.0            2.0             1.0   \n",
       "1          171.0      178.0  320000.0            3.0             2.0   \n",
       "2          107.0      153.0  310000.0            2.0             1.0   \n",
       "3          210.0      804.0  259000.0            1.0             1.0   \n",
       "4          201.0      153.0  439000.0            3.0             2.0   \n",
       "\n",
       "   parking_count property_type product_depth  \n",
       "0            1.0         House      premiere  \n",
       "1            2.0     Apartment      premiere  \n",
       "2            1.0          Unit      premiere  \n",
       "3            0.0         House      premiere  \n",
       "4            2.0          Unit      premiere  "
      ]
     },
     "execution_count": 25,
     "metadata": {},
     "output_type": "execute_result"
    }
   ],
   "source": [
    "data_c5 = data_c4.groupby(\"property_type\").transform(lambda x: x.fillna(x.median()))\n",
    "data_c5[\"property_type\"] = data_c4[\"property_type\"]\n",
    "data_c5[\"product_depth\"] = data_c4[\"product_depth\"]\n",
    "data_c5.head()"
   ]
  },
  {
   "cell_type": "code",
   "execution_count": 26,
   "metadata": {
    "ExecuteTime": {
     "end_time": "2023-01-09T21:34:44.688826Z",
     "start_time": "2023-01-09T21:34:44.674575Z"
    }
   },
   "outputs": [
    {
     "data": {
      "text/plain": [
       "building_size     0.0\n",
       "land_size         0.0\n",
       "price             0.0\n",
       "bedroom_count     0.0\n",
       "bathroom_count    0.0\n",
       "parking_count     0.0\n",
       "property_type     0.0\n",
       "product_depth     0.0\n",
       "dtype: float64"
      ]
     },
     "execution_count": 26,
     "metadata": {},
     "output_type": "execute_result"
    }
   ],
   "source": [
    "data_c5.isnull().sum()/len(data_c4)"
   ]
  },
  {
   "cell_type": "markdown",
   "metadata": {
    "ExecuteTime": {
     "end_time": "2023-01-03T04:31:10.198453Z",
     "start_time": "2023-01-03T04:31:10.188381Z"
    }
   },
   "source": [
    "## Price Outlier Cleaning"
   ]
  },
  {
   "cell_type": "code",
   "execution_count": 27,
   "metadata": {
    "ExecuteTime": {
     "end_time": "2023-01-09T21:34:44.704428Z",
     "start_time": "2023-01-09T21:34:44.691686Z"
    }
   },
   "outputs": [],
   "source": [
    "def getQuantiles(column):\n",
    "    quantiles = np.quantile(column, [0, 0.25, 0.5, 0.75, 1])\n",
    "    q1 = quantiles[1]\n",
    "    q3 = quantiles[3]\n",
    "    return [q1, q3]"
   ]
  },
  {
   "cell_type": "code",
   "execution_count": 28,
   "metadata": {
    "ExecuteTime": {
     "end_time": "2023-01-09T21:34:44.718971Z",
     "start_time": "2023-01-09T21:34:44.709377Z"
    }
   },
   "outputs": [],
   "source": [
    "quantiles = getQuantiles(data_c5[\"price\"])\n",
    "iqr = quantiles[1]-quantiles[0]\n",
    "data_c6 = data_c5.loc[(data_c5[\"price\"] <= quantiles[1] + 1.5*iqr) & \n",
    "                      (data_c5[\"price\"] >= 0) &\n",
    "                     (data_c5[\"price\"] >= quantiles[0] - 1.5*iqr)]\n",
    "#data_c7 = data_c6.loc[data_c6[\"price\"] >= priceQ[0] - 1.5*iqr]"
   ]
  },
  {
   "cell_type": "code",
   "execution_count": 29,
   "metadata": {
    "ExecuteTime": {
     "end_time": "2023-01-09T21:34:44.827201Z",
     "start_time": "2023-01-09T21:34:44.721690Z"
    }
   },
   "outputs": [
    {
     "data": {
      "text/plain": [
       "<AxesSubplot:xlabel='price'>"
      ]
     },
     "execution_count": 29,
     "metadata": {},
     "output_type": "execute_result"
    },
    {
     "data": {
      "image/png": "[encoded data removed]",
      "text/plain": [
       "<Figure size 432x288 with 1 Axes>"
      ]
     },
     "metadata": {
      "needs_background": "light"
     },
     "output_type": "display_data"
    }
   ],
   "source": [
    "sb.boxplot(data = data_c6, x = \"price\")"
   ]
  },
  {
   "cell_type": "code",
   "execution_count": 30,
   "metadata": {
    "ExecuteTime": {
     "end_time": "2023-01-09T21:34:44.843054Z",
     "start_time": "2023-01-09T21:34:44.828837Z"
    }
   },
   "outputs": [],
   "source": [
    "quantiles = getQuantiles(data_c6[\"building_size\"])\n",
    "iqr = quantiles[1]-quantiles[0]\n",
    "data_c7 = data_c6.loc[(data_c6[\"building_size\"] <= quantiles[1] + 1.5*iqr) & \n",
    "                      (data_c6[\"building_size\"] >= 0) &\n",
    "                     (data_c6[\"building_size\"] >= quantiles[0] - 1.5*iqr)]"
   ]
  },
  {
   "cell_type": "code",
   "execution_count": 31,
   "metadata": {
    "ExecuteTime": {
     "end_time": "2023-01-09T21:34:44.967370Z",
     "start_time": "2023-01-09T21:34:44.845120Z"
    }
   },
   "outputs": [
    {
     "data": {
      "text/plain": [
       "<AxesSubplot:xlabel='building_size'>"
      ]
     },
     "execution_count": 31,
     "metadata": {},
     "output_type": "execute_result"
    },
    {
     "data": {
      "image/png": "[encoded data removed]",
      "text/plain": [
       "<Figure size 432x288 with 1 Axes>"
      ]
     },
     "metadata": {
      "needs_background": "light"
     },
     "output_type": "display_data"
    }
   ],
   "source": [
    "sb.boxplot(data = data_c7, x = \"building_size\")"
   ]
  },
  {
   "cell_type": "code",
   "execution_count": 32,
   "metadata": {
    "ExecuteTime": {
     "end_time": "2023-01-09T21:34:44.982829Z",
     "start_time": "2023-01-09T21:34:44.968754Z"
    }
   },
   "outputs": [],
   "source": [
    "quantiles = getQuantiles(data_c7[\"land_size\"])\n",
    "iqr = quantiles[1]-quantiles[0]\n",
    "data_c8 = data_c7.loc[(data_c7[\"land_size\"] <= quantiles[1] + 1.5*iqr) & \n",
    "                      (data_c7[\"land_size\"] >= 0) &\n",
    "                     (data_c7[\"land_size\"] >= quantiles[0] - 1.5*iqr)]"
   ]
  },
  {
   "cell_type": "code",
   "execution_count": 33,
   "metadata": {
    "ExecuteTime": {
     "end_time": "2023-01-09T21:34:45.092161Z",
     "start_time": "2023-01-09T21:34:44.984381Z"
    }
   },
   "outputs": [
    {
     "data": {
      "text/plain": [
       "<AxesSubplot:xlabel='land_size'>"
      ]
     },
     "execution_count": 33,
     "metadata": {},
     "output_type": "execute_result"
    },
    {
     "data": {
      "image/png": "[encoded data removed]",
      "text/plain": [
       "<Figure size 432x288 with 1 Axes>"
      ]
     },
     "metadata": {
      "needs_background": "light"
     },
     "output_type": "display_data"
    }
   ],
   "source": [
    "sb.boxplot(data = data_c8, x = \"land_size\")"
   ]
  },
  {
   "cell_type": "code",
   "execution_count": 34,
   "metadata": {
    "ExecuteTime": {
     "end_time": "2023-01-09T21:34:45.108420Z",
     "start_time": "2023-01-09T21:34:45.095992Z"
    }
   },
   "outputs": [],
   "source": [
    "data_clean = data_c8.copy()"
   ]
  },
  {
   "cell_type": "markdown",
   "metadata": {},
   "source": [
    "# EDA"
   ]
  },
  {
   "cell_type": "code",
   "execution_count": 35,
   "metadata": {
    "ExecuteTime": {
     "end_time": "2023-01-09T21:34:45.124074Z",
     "start_time": "2023-01-09T21:34:45.110032Z"
    }
   },
   "outputs": [
    {
     "data": {
      "text/plain": [
       "(843, 8)"
      ]
     },
     "execution_count": 35,
     "metadata": {},
     "output_type": "execute_result"
    }
   ],
   "source": [
    "# 876 observations, 8 variables (7 predictors, 1 target)\n",
    "data_clean.shape"
   ]
  },
  {
   "cell_type": "code",
   "execution_count": 36,
   "metadata": {
    "ExecuteTime": {
     "end_time": "2023-01-09T21:34:45.155269Z",
     "start_time": "2023-01-09T21:34:45.125389Z"
    }
   },
   "outputs": [
    {
     "data": {
      "text/html": [
       "<div>\n",
       "<style scoped>\n",
       "    .dataframe tbody tr th:only-of-type {\n",
       "        vertical-align: middle;\n",
       "    }\n",
       "\n",
       "    .dataframe tbody tr th {\n",
       "        vertical-align: top;\n",
       "    }\n",
       "\n",
       "    .dataframe thead th {\n",
       "        text-align: right;\n",
       "    }\n",
       "</style>\n",
       "<table border=\"1\" class=\"dataframe\">\n",
       "  <thead>\n",
       "    <tr style=\"text-align: right;\">\n",
       "      <th></th>\n",
       "      <th>building_size</th>\n",
       "      <th>land_size</th>\n",
       "      <th>price</th>\n",
       "      <th>bedroom_count</th>\n",
       "      <th>bathroom_count</th>\n",
       "      <th>parking_count</th>\n",
       "    </tr>\n",
       "  </thead>\n",
       "  <tbody>\n",
       "    <tr>\n",
       "      <th>count</th>\n",
       "      <td>843.000000</td>\n",
       "      <td>843.000000</td>\n",
       "      <td>843.000000</td>\n",
       "      <td>843.000000</td>\n",
       "      <td>843.000000</td>\n",
       "      <td>843.000000</td>\n",
       "    </tr>\n",
       "    <tr>\n",
       "      <th>mean</th>\n",
       "      <td>164.373796</td>\n",
       "      <td>435.195374</td>\n",
       "      <td>483623.665480</td>\n",
       "      <td>2.774614</td>\n",
       "      <td>1.690391</td>\n",
       "      <td>1.981020</td>\n",
       "    </tr>\n",
       "    <tr>\n",
       "      <th>std</th>\n",
       "      <td>61.302913</td>\n",
       "      <td>309.209014</td>\n",
       "      <td>136946.012692</td>\n",
       "      <td>1.093696</td>\n",
       "      <td>0.583006</td>\n",
       "      <td>1.183666</td>\n",
       "    </tr>\n",
       "    <tr>\n",
       "      <th>min</th>\n",
       "      <td>12.000000</td>\n",
       "      <td>1.000000</td>\n",
       "      <td>99950.000000</td>\n",
       "      <td>0.000000</td>\n",
       "      <td>1.000000</td>\n",
       "      <td>0.000000</td>\n",
       "    </tr>\n",
       "    <tr>\n",
       "      <th>25%</th>\n",
       "      <td>107.000000</td>\n",
       "      <td>154.000000</td>\n",
       "      <td>377500.000000</td>\n",
       "      <td>2.000000</td>\n",
       "      <td>1.000000</td>\n",
       "      <td>1.000000</td>\n",
       "    </tr>\n",
       "    <tr>\n",
       "      <th>50%</th>\n",
       "      <td>147.000000</td>\n",
       "      <td>294.500000</td>\n",
       "      <td>485000.000000</td>\n",
       "      <td>3.000000</td>\n",
       "      <td>2.000000</td>\n",
       "      <td>2.000000</td>\n",
       "    </tr>\n",
       "    <tr>\n",
       "      <th>75%</th>\n",
       "      <td>210.000000</td>\n",
       "      <td>804.000000</td>\n",
       "      <td>555000.000000</td>\n",
       "      <td>3.000000</td>\n",
       "      <td>2.000000</td>\n",
       "      <td>2.000000</td>\n",
       "    </tr>\n",
       "    <tr>\n",
       "      <th>max</th>\n",
       "      <td>356.000000</td>\n",
       "      <td>1550.000000</td>\n",
       "      <td>850000.000000</td>\n",
       "      <td>9.000000</td>\n",
       "      <td>4.000000</td>\n",
       "      <td>10.000000</td>\n",
       "    </tr>\n",
       "  </tbody>\n",
       "</table>\n",
       "</div>"
      ],
      "text/plain": [
       "       building_size    land_size          price  bedroom_count  \\\n",
       "count     843.000000   843.000000     843.000000     843.000000   \n",
       "mean      164.373796   435.195374  483623.665480       2.774614   \n",
       "std        61.302913   309.209014  136946.012692       1.093696   \n",
       "min        12.000000     1.000000   99950.000000       0.000000   \n",
       "25%       107.000000   154.000000  377500.000000       2.000000   \n",
       "50%       147.000000   294.500000  485000.000000       3.000000   \n",
       "75%       210.000000   804.000000  555000.000000       3.000000   \n",
       "max       356.000000  1550.000000  850000.000000       9.000000   \n",
       "\n",
       "       bathroom_count  parking_count  \n",
       "count      843.000000     843.000000  \n",
       "mean         1.690391       1.981020  \n",
       "std          0.583006       1.183666  \n",
       "min          1.000000       0.000000  \n",
       "25%          1.000000       1.000000  \n",
       "50%          2.000000       2.000000  \n",
       "75%          2.000000       2.000000  \n",
       "max          4.000000      10.000000  "
      ]
     },
     "execution_count": 36,
     "metadata": {},
     "output_type": "execute_result"
    }
   ],
   "source": [
    "# view the statistics of the dataset\n",
    "data_clean.describe()"
   ]
  },
  {
   "cell_type": "code",
   "execution_count": 37,
   "metadata": {
    "ExecuteTime": {
     "end_time": "2023-01-09T21:34:45.185693Z",
     "start_time": "2023-01-09T21:34:45.156497Z"
    }
   },
   "outputs": [],
   "source": [
    "summaryStats =  data_clean.describe()"
   ]
  },
  {
   "cell_type": "code",
   "execution_count": 38,
   "metadata": {
    "ExecuteTime": {
     "end_time": "2023-01-09T21:34:45.200893Z",
     "start_time": "2023-01-09T21:34:45.188068Z"
    }
   },
   "outputs": [],
   "source": [
    "iqr = summaryStats.loc[\"75%\"] - summaryStats.loc[\"25%\"]"
   ]
  },
  {
   "cell_type": "code",
   "execution_count": 39,
   "metadata": {
    "ExecuteTime": {
     "end_time": "2023-01-09T21:34:45.216345Z",
     "start_time": "2023-01-09T21:34:45.203020Z"
    }
   },
   "outputs": [
    {
     "data": {
      "text/plain": [
       "building_size        147.0\n",
       "land_size            294.5\n",
       "price             485000.0\n",
       "bedroom_count          3.0\n",
       "bathroom_count         2.0\n",
       "parking_count          2.0\n",
       "Name: 50%, dtype: float64"
      ]
     },
     "execution_count": 39,
     "metadata": {},
     "output_type": "execute_result"
    }
   ],
   "source": [
    "summaryStats.loc[\"50%\"]"
   ]
  },
  {
   "cell_type": "code",
   "execution_count": 40,
   "metadata": {
    "ExecuteTime": {
     "end_time": "2023-01-09T21:34:45.231696Z",
     "start_time": "2023-01-09T21:34:45.217593Z"
    }
   },
   "outputs": [
    {
     "data": {
      "text/plain": [
       "building_size        103.0\n",
       "land_size            650.0\n",
       "price             177500.0\n",
       "bedroom_count          1.0\n",
       "bathroom_count         1.0\n",
       "parking_count          1.0\n",
       "dtype: float64"
      ]
     },
     "execution_count": 40,
     "metadata": {},
     "output_type": "execute_result"
    }
   ],
   "source": [
    "iqr"
   ]
  },
  {
   "cell_type": "code",
   "execution_count": 41,
   "metadata": {
    "ExecuteTime": {
     "end_time": "2023-01-09T21:34:45.246462Z",
     "start_time": "2023-01-09T21:34:45.234615Z"
    }
   },
   "outputs": [
    {
     "data": {
      "text/plain": [
       "House                   375\n",
       "Unit                    221\n",
       "Apartment               192\n",
       "Townhouse                36\n",
       "Duplex/Semi-detached     19\n",
       "Name: property_type, dtype: int64"
      ]
     },
     "execution_count": 41,
     "metadata": {},
     "output_type": "execute_result"
    }
   ],
   "source": [
    "data_clean[\"property_type\"].value_counts()"
   ]
  },
  {
   "cell_type": "code",
   "execution_count": 42,
   "metadata": {
    "ExecuteTime": {
     "end_time": "2023-01-09T21:34:45.262446Z",
     "start_time": "2023-01-09T21:34:45.249058Z"
    }
   },
   "outputs": [
    {
     "data": {
      "text/plain": [
       "premiere    563\n",
       "feature     154\n",
       "standard    126\n",
       "Name: product_depth, dtype: int64"
      ]
     },
     "execution_count": 42,
     "metadata": {},
     "output_type": "execute_result"
    }
   ],
   "source": [
    "data_clean[\"product_depth\"].value_counts()"
   ]
  },
  {
   "cell_type": "code",
   "execution_count": 43,
   "metadata": {
    "ExecuteTime": {
     "end_time": "2023-01-09T21:34:45.309365Z",
     "start_time": "2023-01-09T21:34:45.264958Z"
    }
   },
   "outputs": [
    {
     "data": {
      "text/html": [
       "<div>\n",
       "<style scoped>\n",
       "    .dataframe tbody tr th:only-of-type {\n",
       "        vertical-align: middle;\n",
       "    }\n",
       "\n",
       "    .dataframe tbody tr th {\n",
       "        vertical-align: top;\n",
       "    }\n",
       "\n",
       "    .dataframe thead th {\n",
       "        text-align: right;\n",
       "    }\n",
       "</style>\n",
       "<table border=\"1\" class=\"dataframe\">\n",
       "  <thead>\n",
       "    <tr style=\"text-align: right;\">\n",
       "      <th>product_depth</th>\n",
       "      <th>feature</th>\n",
       "      <th>premiere</th>\n",
       "      <th>standard</th>\n",
       "      <th>All</th>\n",
       "    </tr>\n",
       "    <tr>\n",
       "      <th>property_type</th>\n",
       "      <th></th>\n",
       "      <th></th>\n",
       "      <th></th>\n",
       "      <th></th>\n",
       "    </tr>\n",
       "  </thead>\n",
       "  <tbody>\n",
       "    <tr>\n",
       "      <th>Apartment</th>\n",
       "      <td>58</td>\n",
       "      <td>100</td>\n",
       "      <td>34</td>\n",
       "      <td>192</td>\n",
       "    </tr>\n",
       "    <tr>\n",
       "      <th>Duplex/Semi-detached</th>\n",
       "      <td>2</td>\n",
       "      <td>12</td>\n",
       "      <td>5</td>\n",
       "      <td>19</td>\n",
       "    </tr>\n",
       "    <tr>\n",
       "      <th>House</th>\n",
       "      <td>49</td>\n",
       "      <td>282</td>\n",
       "      <td>44</td>\n",
       "      <td>375</td>\n",
       "    </tr>\n",
       "    <tr>\n",
       "      <th>Townhouse</th>\n",
       "      <td>3</td>\n",
       "      <td>29</td>\n",
       "      <td>4</td>\n",
       "      <td>36</td>\n",
       "    </tr>\n",
       "    <tr>\n",
       "      <th>Unit</th>\n",
       "      <td>42</td>\n",
       "      <td>140</td>\n",
       "      <td>39</td>\n",
       "      <td>221</td>\n",
       "    </tr>\n",
       "    <tr>\n",
       "      <th>All</th>\n",
       "      <td>154</td>\n",
       "      <td>563</td>\n",
       "      <td>126</td>\n",
       "      <td>843</td>\n",
       "    </tr>\n",
       "  </tbody>\n",
       "</table>\n",
       "</div>"
      ],
      "text/plain": [
       "product_depth         feature  premiere  standard  All\n",
       "property_type                                         \n",
       "Apartment                  58       100        34  192\n",
       "Duplex/Semi-detached        2        12         5   19\n",
       "House                      49       282        44  375\n",
       "Townhouse                   3        29         4   36\n",
       "Unit                       42       140        39  221\n",
       "All                       154       563       126  843"
      ]
     },
     "execution_count": 43,
     "metadata": {},
     "output_type": "execute_result"
    }
   ],
   "source": [
    "pd.crosstab(data_clean[\"property_type\"],data_clean[\"product_depth\"], \n",
    "            margins = True)"
   ]
  },
  {
   "cell_type": "code",
   "execution_count": 44,
   "metadata": {
    "ExecuteTime": {
     "end_time": "2023-01-09T21:34:45.325344Z",
     "start_time": "2023-01-09T21:34:45.311970Z"
    }
   },
   "outputs": [],
   "source": [
    "filepath = \"visualizations/\""
   ]
  },
  {
   "cell_type": "code",
   "execution_count": 45,
   "metadata": {
    "ExecuteTime": {
     "end_time": "2023-01-09T21:34:45.650865Z",
     "start_time": "2023-01-09T21:34:45.326861Z"
    }
   },
   "outputs": [
    {
     "data": {
      "image/png": "[encoded data removed]",
      "text/plain": [
       "<Figure size 720x360 with 1 Axes>"
      ]
     },
     "metadata": {
      "needs_background": "light"
     },
     "output_type": "display_data"
    }
   ],
   "source": [
    "# product depth - somewhat similar median housing prices, but the median price of premier is highest\n",
    "plt.figure(figsize = (10, 5))\n",
    "sb.barplot(x = \"product_depth\",y = \"price\", data = data_clean, \n",
    "           estimator = median)\n",
    "plt.xlabel(\"Product Depth\")\n",
    "plt.ylabel(\"Median Price (AUD)\")\n",
    "plt.savefig(filepath + 'productDepth_price.png')\n",
    "plt.show()"
   ]
  },
  {
   "cell_type": "code",
   "execution_count": 46,
   "metadata": {
    "ExecuteTime": {
     "end_time": "2023-01-09T21:34:45.993784Z",
     "start_time": "2023-01-09T21:34:45.652393Z"
    }
   },
   "outputs": [
    {
     "data": {
      "image/png": "[encoded data removed]",
      "text/plain": [
       "<Figure size 720x360 with 1 Axes>"
      ]
     },
     "metadata": {
      "needs_background": "light"
     },
     "output_type": "display_data"
    }
   ],
   "source": [
    "# product depth - premiere properties have the largest median building size\n",
    "plt.figure(figsize = (10, 5))\n",
    "sb.barplot(x = \"product_depth\",y = \"building_size\", data = data_clean, \n",
    "           estimator = median)\n",
    "plt.xlabel(\"Product Depth\")\n",
    "plt.ylabel(\"Median Building Size (sq. meters)\")\n",
    "plt.savefig(filepath + 'productDepth_building.png')\n",
    "plt.show()"
   ]
  },
  {
   "cell_type": "code",
   "execution_count": 47,
   "metadata": {
    "ExecuteTime": {
     "end_time": "2023-01-09T21:34:46.458677Z",
     "start_time": "2023-01-09T21:34:45.995966Z"
    }
   },
   "outputs": [
    {
     "data": {
      "image/png": "[encoded data removed]",
      "text/plain": [
       "<Figure size 720x360 with 1 Axes>"
      ]
     },
     "metadata": {
      "needs_background": "light"
     },
     "output_type": "display_data"
    }
   ],
   "source": [
    "# property type - townhouses and houses have the highest median prices, units the lowest\n",
    "plt.figure(figsize = (10, 5))\n",
    "sb.barplot(x = \"property_type\",y = \"price\", data = data_clean, estimator = median)\n",
    "plt.xlabel(\"Property Type\")\n",
    "plt.ylabel(\"Median Price (AUD)\")\n",
    "plt.savefig(filepath + 'propType_price.png')\n",
    "plt.show()"
   ]
  },
  {
   "cell_type": "code",
   "execution_count": 48,
   "metadata": {
    "ExecuteTime": {
     "end_time": "2023-01-09T21:34:47.064455Z",
     "start_time": "2023-01-09T21:34:46.459894Z"
    }
   },
   "outputs": [
    {
     "data": {
      "image/png": "[encoded data removed]",
      "text/plain": [
       "<Figure size 720x360 with 1 Axes>"
      ]
     },
     "metadata": {
      "needs_background": "light"
     },
     "output_type": "display_data"
    }
   ],
   "source": [
    "# property type - houses have the largest land size\n",
    "plt.figure(figsize = (10, 5))\n",
    "sb.barplot(x = \"property_type\",y = \"land_size\", data = data_clean, estimator = median)\n",
    "plt.xlabel(\"Property Type\")\n",
    "plt.ylabel(\"Median Land Size (sq. meters)\")\n",
    "plt.savefig(filepath + 'propType_land.png')\n",
    "plt.show()"
   ]
  },
  {
   "cell_type": "code",
   "execution_count": 49,
   "metadata": {
    "ExecuteTime": {
     "end_time": "2023-01-09T21:34:47.530632Z",
     "start_time": "2023-01-09T21:34:47.066983Z"
    }
   },
   "outputs": [
    {
     "data": {
      "image/png": "[encoded data removed]",
      "text/plain": [
       "<Figure size 720x360 with 1 Axes>"
      ]
     },
     "metadata": {
      "needs_background": "light"
     },
     "output_type": "display_data"
    }
   ],
   "source": [
    "# property type - duplex get the biggest building sizes\n",
    "plt.figure(figsize = (10, 5))\n",
    "sb.barplot(x = \"property_type\",y = \"building_size\", data = data_clean, estimator = median)\n",
    "plt.xlabel(\"Property Type\")\n",
    "plt.ylabel(\"Median Building Size (sq. meters)\")\n",
    "plt.savefig(filepath + 'propType_building.png')\n",
    "plt.show()"
   ]
  },
  {
   "cell_type": "code",
   "execution_count": 50,
   "metadata": {
    "ExecuteTime": {
     "end_time": "2023-01-09T21:34:47.763221Z",
     "start_time": "2023-01-09T21:34:47.533651Z"
    }
   },
   "outputs": [
    {
     "data": {
      "image/png": "[encoded data removed]",
      "text/plain": [
       "<Figure size 720x360 with 1 Axes>"
      ]
     },
     "metadata": {
      "needs_background": "light"
     },
     "output_type": "display_data"
    }
   ],
   "source": [
    "# general trend- more bedrooms increases housing price\n",
    "plt.figure(figsize = (10, 5))\n",
    "sb.scatterplot(x = \"bedroom_count\",y = \"price\", data = data_clean)\n",
    "plt.xlabel(\"Bedrooms\")\n",
    "plt.ylabel(\"Price (AUD)\")\n",
    "plt.savefig(filepath + 'bedroom_price.png')\n",
    "plt.show()"
   ]
  },
  {
   "cell_type": "code",
   "execution_count": 51,
   "metadata": {
    "ExecuteTime": {
     "end_time": "2023-01-09T21:34:48.011201Z",
     "start_time": "2023-01-09T21:34:47.765386Z"
    }
   },
   "outputs": [
    {
     "data": {
      "image/png": "[encoded data removed]",
      "text/plain": [
       "<Figure size 720x360 with 1 Axes>"
      ]
     },
     "metadata": {
      "needs_background": "light"
     },
     "output_type": "display_data"
    }
   ],
   "source": [
    "# general trend- more bathrooms increases housing price\n",
    "plt.figure(figsize = (10, 5))\n",
    "sb.scatterplot(x = \"bathroom_count\",y = \"price\", data = data_clean)\n",
    "plt.xlabel(\"Bathrooms\")\n",
    "plt.ylabel(\"Price (AUD)\")\n",
    "plt.savefig(filepath + 'bathroom_price.png')\n",
    "plt.show()"
   ]
  },
  {
   "cell_type": "code",
   "execution_count": 52,
   "metadata": {
    "ExecuteTime": {
     "end_time": "2023-01-09T21:34:48.241689Z",
     "start_time": "2023-01-09T21:34:48.012731Z"
    }
   },
   "outputs": [
    {
     "data": {
      "image/png": "[encoded data removed]",
      "text/plain": [
       "<Figure size 720x360 with 1 Axes>"
      ]
     },
     "metadata": {
      "needs_background": "light"
     },
     "output_type": "display_data"
    }
   ],
   "source": [
    "# general trend- more parking increases housing price\n",
    "plt.figure(figsize = (10, 5))\n",
    "sb.scatterplot(x = \"parking_count\",y = \"price\", data = data_clean)\n",
    "plt.xlabel(\"Parking\")\n",
    "plt.ylabel(\"Price (AUD)\")\n",
    "plt.savefig(filepath + 'parking_price.png')\n",
    "plt.show()"
   ]
  },
  {
   "cell_type": "code",
   "execution_count": 53,
   "metadata": {
    "ExecuteTime": {
     "end_time": "2023-01-09T21:34:48.272913Z",
     "start_time": "2023-01-09T21:34:48.243073Z"
    }
   },
   "outputs": [],
   "source": [
    "#export data\n",
    "filepath = \"data/\"\n",
    "data_clean.to_csv(filepath+\"data_clean.csv\", index = False)"
   ]
  },
  {
   "cell_type": "code",
   "execution_count": null,
   "metadata": {},
   "outputs": [],
   "source": []
  }
 ],
 "metadata": {
  "kernelspec": {
   "display_name": "Python 3",
   "language": "python",
   "name": "python3"
  },
  "language_info": {
   "codemirror_mode": {
    "name": "ipython",
    "version": 3
   },
   "file_extension": ".py",
   "mimetype": "text/x-python",
   "name": "python",
   "nbconvert_exporter": "python",
   "pygments_lexer": "ipython3",
   "version": "3.8.5"
  },
  "toc": {
   "base_numbering": 1,
   "nav_menu": {},
   "number_sections": true,
   "sideBar": true,
   "skip_h1_title": false,
   "title_cell": "Table of Contents",
   "title_sidebar": "Contents",
   "toc_cell": false,
   "toc_position": {},
   "toc_section_display": true,
   "toc_window_display": false
  },
  "varInspector": {
   "cols": {
    "lenName": 16,
    "lenType": 16,
    "lenVar": 40
   },
   "kernels_config": {
    "python": {
     "delete_cmd_postfix": "",
     "delete_cmd_prefix": "del ",
     "library": "var_list.py",
     "varRefreshCmd": "print(var_dic_list())"
    },
    "r": {
     "delete_cmd_postfix": ") ",
     "delete_cmd_prefix": "rm(",
     "library": "var_list.r",
     "varRefreshCmd": "cat(var_dic_list()) "
    }
   },
   "types_to_exclude": [
    "module",
    "function",
    "builtin_function_or_method",
    "instance",
    "_Feature"
   ],
   "window_display": false
  }
 },
 "nbformat": 4,
 "nbformat_minor": 4
}
