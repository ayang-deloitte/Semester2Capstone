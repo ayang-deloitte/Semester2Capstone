{
 "cells": [
  {
   "cell_type": "code",
   "execution_count": 95,
   "metadata": {
    "ExecuteTime": {
     "end_time": "2023-01-04T16:36:44.354423Z",
     "start_time": "2023-01-04T16:36:44.346322Z"
    }
   },
   "outputs": [],
   "source": [
    "import pandas as pd\n",
    "import numpy as np\n"
   ]
  },
  {
   "cell_type": "markdown",
   "metadata": {},
   "source": [
    "# Import Data"
   ]
  },
  {
   "cell_type": "code",
   "execution_count": 145,
   "metadata": {
    "ExecuteTime": {
     "end_time": "2023-01-04T16:48:19.986090Z",
     "start_time": "2023-01-04T16:48:19.977962Z"
    }
   },
   "outputs": [],
   "source": [
    "data = pd.read_csv(\"data/data_clean.csv\", index_col = False)"
   ]
  },
  {
   "cell_type": "code",
   "execution_count": 146,
   "metadata": {
    "ExecuteTime": {
     "end_time": "2023-01-04T16:48:20.436578Z",
     "start_time": "2023-01-04T16:48:20.420574Z"
    }
   },
   "outputs": [],
   "source": [
    "categories = [\"property_type\",\"product_depth\"]\n",
    "data[categories] = data[categories].apply(lambda x: x.astype(\"category\"))"
   ]
  },
  {
   "cell_type": "code",
   "execution_count": 147,
   "metadata": {
    "ExecuteTime": {
     "end_time": "2023-01-04T16:48:20.870856Z",
     "start_time": "2023-01-04T16:48:20.858462Z"
    }
   },
   "outputs": [
    {
     "data": {
      "text/plain": [
       "building_size      float64\n",
       "land_size          float64\n",
       "price              float64\n",
       "bedroom_count      float64\n",
       "bathroom_count     float64\n",
       "parking_count      float64\n",
       "property_type     category\n",
       "product_depth     category\n",
       "dtype: object"
      ]
     },
     "execution_count": 147,
     "metadata": {},
     "output_type": "execute_result"
    }
   ],
   "source": [
    "data.dtypes"
   ]
  },
  {
   "cell_type": "code",
   "execution_count": 148,
   "metadata": {
    "ExecuteTime": {
     "end_time": "2023-01-04T16:48:21.292007Z",
     "start_time": "2023-01-04T16:48:21.262830Z"
    }
   },
   "outputs": [
    {
     "data": {
      "text/html": [
       "<div>\n",
       "<style scoped>\n",
       "    .dataframe tbody tr th:only-of-type {\n",
       "        vertical-align: middle;\n",
       "    }\n",
       "\n",
       "    .dataframe tbody tr th {\n",
       "        vertical-align: top;\n",
       "    }\n",
       "\n",
       "    .dataframe thead th {\n",
       "        text-align: right;\n",
       "    }\n",
       "</style>\n",
       "<table border=\"1\" class=\"dataframe\">\n",
       "  <thead>\n",
       "    <tr style=\"text-align: right;\">\n",
       "      <th></th>\n",
       "      <th>building_size</th>\n",
       "      <th>land_size</th>\n",
       "      <th>price</th>\n",
       "      <th>bedroom_count</th>\n",
       "      <th>bathroom_count</th>\n",
       "      <th>parking_count</th>\n",
       "      <th>property_type</th>\n",
       "      <th>product_depth</th>\n",
       "    </tr>\n",
       "  </thead>\n",
       "  <tbody>\n",
       "    <tr>\n",
       "      <th>0</th>\n",
       "      <td>213.0</td>\n",
       "      <td>801.0</td>\n",
       "      <td>435000.0</td>\n",
       "      <td>2.0</td>\n",
       "      <td>1.0</td>\n",
       "      <td>1.0</td>\n",
       "      <td>House</td>\n",
       "      <td>premiere</td>\n",
       "    </tr>\n",
       "    <tr>\n",
       "      <th>1</th>\n",
       "      <td>171.0</td>\n",
       "      <td>164.5</td>\n",
       "      <td>320000.0</td>\n",
       "      <td>3.0</td>\n",
       "      <td>2.0</td>\n",
       "      <td>2.0</td>\n",
       "      <td>Apartment</td>\n",
       "      <td>premiere</td>\n",
       "    </tr>\n",
       "    <tr>\n",
       "      <th>2</th>\n",
       "      <td>98.0</td>\n",
       "      <td>127.0</td>\n",
       "      <td>310000.0</td>\n",
       "      <td>2.0</td>\n",
       "      <td>1.0</td>\n",
       "      <td>1.0</td>\n",
       "      <td>Unit</td>\n",
       "      <td>premiere</td>\n",
       "    </tr>\n",
       "    <tr>\n",
       "      <th>3</th>\n",
       "      <td>213.0</td>\n",
       "      <td>801.0</td>\n",
       "      <td>259000.0</td>\n",
       "      <td>1.0</td>\n",
       "      <td>1.0</td>\n",
       "      <td>0.0</td>\n",
       "      <td>House</td>\n",
       "      <td>premiere</td>\n",
       "    </tr>\n",
       "    <tr>\n",
       "      <th>4</th>\n",
       "      <td>201.0</td>\n",
       "      <td>127.0</td>\n",
       "      <td>439000.0</td>\n",
       "      <td>3.0</td>\n",
       "      <td>2.0</td>\n",
       "      <td>2.0</td>\n",
       "      <td>Unit</td>\n",
       "      <td>premiere</td>\n",
       "    </tr>\n",
       "    <tr>\n",
       "      <th>...</th>\n",
       "      <td>...</td>\n",
       "      <td>...</td>\n",
       "      <td>...</td>\n",
       "      <td>...</td>\n",
       "      <td>...</td>\n",
       "      <td>...</td>\n",
       "      <td>...</td>\n",
       "      <td>...</td>\n",
       "    </tr>\n",
       "    <tr>\n",
       "      <th>671</th>\n",
       "      <td>213.0</td>\n",
       "      <td>801.0</td>\n",
       "      <td>495000.0</td>\n",
       "      <td>4.0</td>\n",
       "      <td>2.0</td>\n",
       "      <td>2.0</td>\n",
       "      <td>House</td>\n",
       "      <td>feature</td>\n",
       "    </tr>\n",
       "    <tr>\n",
       "      <th>672</th>\n",
       "      <td>203.0</td>\n",
       "      <td>600.0</td>\n",
       "      <td>601000.0</td>\n",
       "      <td>4.0</td>\n",
       "      <td>2.0</td>\n",
       "      <td>2.0</td>\n",
       "      <td>House</td>\n",
       "      <td>standard</td>\n",
       "    </tr>\n",
       "    <tr>\n",
       "      <th>673</th>\n",
       "      <td>209.6</td>\n",
       "      <td>800.0</td>\n",
       "      <td>655000.0</td>\n",
       "      <td>4.0</td>\n",
       "      <td>2.0</td>\n",
       "      <td>2.0</td>\n",
       "      <td>House</td>\n",
       "      <td>standard</td>\n",
       "    </tr>\n",
       "    <tr>\n",
       "      <th>674</th>\n",
       "      <td>180.0</td>\n",
       "      <td>450.0</td>\n",
       "      <td>675000.0</td>\n",
       "      <td>4.0</td>\n",
       "      <td>2.0</td>\n",
       "      <td>3.0</td>\n",
       "      <td>House</td>\n",
       "      <td>standard</td>\n",
       "    </tr>\n",
       "    <tr>\n",
       "      <th>675</th>\n",
       "      <td>120.0</td>\n",
       "      <td>127.0</td>\n",
       "      <td>399000.0</td>\n",
       "      <td>2.0</td>\n",
       "      <td>2.0</td>\n",
       "      <td>2.0</td>\n",
       "      <td>Unit</td>\n",
       "      <td>feature</td>\n",
       "    </tr>\n",
       "  </tbody>\n",
       "</table>\n",
       "<p>676 rows × 8 columns</p>\n",
       "</div>"
      ],
      "text/plain": [
       "     building_size  land_size     price  bedroom_count  bathroom_count  \\\n",
       "0            213.0      801.0  435000.0            2.0             1.0   \n",
       "1            171.0      164.5  320000.0            3.0             2.0   \n",
       "2             98.0      127.0  310000.0            2.0             1.0   \n",
       "3            213.0      801.0  259000.0            1.0             1.0   \n",
       "4            201.0      127.0  439000.0            3.0             2.0   \n",
       "..             ...        ...       ...            ...             ...   \n",
       "671          213.0      801.0  495000.0            4.0             2.0   \n",
       "672          203.0      600.0  601000.0            4.0             2.0   \n",
       "673          209.6      800.0  655000.0            4.0             2.0   \n",
       "674          180.0      450.0  675000.0            4.0             2.0   \n",
       "675          120.0      127.0  399000.0            2.0             2.0   \n",
       "\n",
       "     parking_count property_type product_depth  \n",
       "0              1.0         House      premiere  \n",
       "1              2.0     Apartment      premiere  \n",
       "2              1.0          Unit      premiere  \n",
       "3              0.0         House      premiere  \n",
       "4              2.0          Unit      premiere  \n",
       "..             ...           ...           ...  \n",
       "671            2.0         House       feature  \n",
       "672            2.0         House      standard  \n",
       "673            2.0         House      standard  \n",
       "674            3.0         House      standard  \n",
       "675            2.0          Unit       feature  \n",
       "\n",
       "[676 rows x 8 columns]"
      ]
     },
     "execution_count": 148,
     "metadata": {},
     "output_type": "execute_result"
    }
   ],
   "source": [
    "data"
   ]
  },
  {
   "cell_type": "code",
   "execution_count": 149,
   "metadata": {
    "ExecuteTime": {
     "end_time": "2023-01-04T16:48:21.666096Z",
     "start_time": "2023-01-04T16:48:21.652857Z"
    }
   },
   "outputs": [],
   "source": [
    "X = data.drop(\"price\", axis = 1)\n",
    "y = data[\"price\"]"
   ]
  },
  {
   "cell_type": "code",
   "execution_count": 150,
   "metadata": {
    "ExecuteTime": {
     "end_time": "2023-01-04T16:48:22.058032Z",
     "start_time": "2023-01-04T16:48:22.043153Z"
    }
   },
   "outputs": [
    {
     "data": {
      "text/plain": [
       "House                   293\n",
       "Unit                    178\n",
       "Apartment               164\n",
       "Townhouse                25\n",
       "Duplex/Semi-detached     16\n",
       "Name: property_type, dtype: int64"
      ]
     },
     "execution_count": 150,
     "metadata": {},
     "output_type": "execute_result"
    }
   ],
   "source": [
    "data[\"property_type\"].value_counts()"
   ]
  },
  {
   "cell_type": "code",
   "execution_count": 151,
   "metadata": {
    "ExecuteTime": {
     "end_time": "2023-01-04T16:48:22.445593Z",
     "start_time": "2023-01-04T16:48:22.432013Z"
    }
   },
   "outputs": [
    {
     "data": {
      "text/plain": [
       "premiere    411\n",
       "feature     141\n",
       "standard    124\n",
       "Name: product_depth, dtype: int64"
      ]
     },
     "execution_count": 151,
     "metadata": {},
     "output_type": "execute_result"
    }
   ],
   "source": [
    "data[\"product_depth\"].value_counts()"
   ]
  },
  {
   "cell_type": "code",
   "execution_count": 152,
   "metadata": {
    "ExecuteTime": {
     "end_time": "2023-01-04T16:48:22.820021Z",
     "start_time": "2023-01-04T16:48:22.808533Z"
    }
   },
   "outputs": [
    {
     "data": {
      "text/plain": [
       "building_size     0\n",
       "land_size         0\n",
       "price             0\n",
       "bedroom_count     0\n",
       "bathroom_count    0\n",
       "parking_count     0\n",
       "property_type     0\n",
       "product_depth     0\n",
       "dtype: int64"
      ]
     },
     "execution_count": 152,
     "metadata": {},
     "output_type": "execute_result"
    }
   ],
   "source": [
    "data.isna().sum()"
   ]
  },
  {
   "cell_type": "markdown",
   "metadata": {},
   "source": [
    "# Data Pipeline(s)"
   ]
  },
  {
   "cell_type": "code",
   "execution_count": 153,
   "metadata": {
    "ExecuteTime": {
     "end_time": "2023-01-04T16:48:23.178786Z",
     "start_time": "2023-01-04T16:48:23.165119Z"
    }
   },
   "outputs": [],
   "source": [
    "from sklearn.preprocessing import StandardScaler, OneHotEncoder\n",
    "from sklearn.compose import ColumnTransformer\n",
    "from sklearn.model_selection import train_test_split\n",
    "from sklearn.pipeline import Pipeline\n",
    "from sklearn.linear_model import LinearRegression"
   ]
  },
  {
   "cell_type": "code",
   "execution_count": 154,
   "metadata": {
    "ExecuteTime": {
     "end_time": "2023-01-04T16:48:23.570582Z",
     "start_time": "2023-01-04T16:48:23.557994Z"
    }
   },
   "outputs": [],
   "source": [
    "X_train, X_test, y_train, y_test = train_test_split(X, y, test_size = 0.25, random_state = 123)"
   ]
  },
  {
   "cell_type": "code",
   "execution_count": 155,
   "metadata": {
    "ExecuteTime": {
     "end_time": "2023-01-04T16:48:23.985923Z",
     "start_time": "2023-01-04T16:48:23.974816Z"
    }
   },
   "outputs": [
    {
     "data": {
      "text/html": [
       "<div>\n",
       "<style scoped>\n",
       "    .dataframe tbody tr th:only-of-type {\n",
       "        vertical-align: middle;\n",
       "    }\n",
       "\n",
       "    .dataframe tbody tr th {\n",
       "        vertical-align: top;\n",
       "    }\n",
       "\n",
       "    .dataframe thead th {\n",
       "        text-align: right;\n",
       "    }\n",
       "</style>\n",
       "<table border=\"1\" class=\"dataframe\">\n",
       "  <thead>\n",
       "    <tr style=\"text-align: right;\">\n",
       "      <th></th>\n",
       "      <th>building_size</th>\n",
       "      <th>land_size</th>\n",
       "      <th>bedroom_count</th>\n",
       "      <th>bathroom_count</th>\n",
       "      <th>parking_count</th>\n",
       "      <th>property_type</th>\n",
       "      <th>product_depth</th>\n",
       "    </tr>\n",
       "  </thead>\n",
       "  <tbody>\n",
       "    <tr>\n",
       "      <th>36</th>\n",
       "      <td>130.0</td>\n",
       "      <td>164.5</td>\n",
       "      <td>2.0</td>\n",
       "      <td>2.0</td>\n",
       "      <td>2.0</td>\n",
       "      <td>Apartment</td>\n",
       "      <td>premiere</td>\n",
       "    </tr>\n",
       "    <tr>\n",
       "      <th>45</th>\n",
       "      <td>135.0</td>\n",
       "      <td>164.5</td>\n",
       "      <td>2.0</td>\n",
       "      <td>2.0</td>\n",
       "      <td>1.0</td>\n",
       "      <td>Apartment</td>\n",
       "      <td>feature</td>\n",
       "    </tr>\n",
       "    <tr>\n",
       "      <th>628</th>\n",
       "      <td>213.0</td>\n",
       "      <td>801.0</td>\n",
       "      <td>3.0</td>\n",
       "      <td>1.0</td>\n",
       "      <td>2.0</td>\n",
       "      <td>House</td>\n",
       "      <td>premiere</td>\n",
       "    </tr>\n",
       "    <tr>\n",
       "      <th>156</th>\n",
       "      <td>213.0</td>\n",
       "      <td>450.0</td>\n",
       "      <td>4.0</td>\n",
       "      <td>2.0</td>\n",
       "      <td>2.0</td>\n",
       "      <td>House</td>\n",
       "      <td>premiere</td>\n",
       "    </tr>\n",
       "    <tr>\n",
       "      <th>41</th>\n",
       "      <td>135.0</td>\n",
       "      <td>260.0</td>\n",
       "      <td>3.0</td>\n",
       "      <td>2.0</td>\n",
       "      <td>2.0</td>\n",
       "      <td>Apartment</td>\n",
       "      <td>premiere</td>\n",
       "    </tr>\n",
       "  </tbody>\n",
       "</table>\n",
       "</div>"
      ],
      "text/plain": [
       "     building_size  land_size  bedroom_count  bathroom_count  parking_count  \\\n",
       "36           130.0      164.5            2.0             2.0            2.0   \n",
       "45           135.0      164.5            2.0             2.0            1.0   \n",
       "628          213.0      801.0            3.0             1.0            2.0   \n",
       "156          213.0      450.0            4.0             2.0            2.0   \n",
       "41           135.0      260.0            3.0             2.0            2.0   \n",
       "\n",
       "    property_type product_depth  \n",
       "36      Apartment      premiere  \n",
       "45      Apartment       feature  \n",
       "628         House      premiere  \n",
       "156         House      premiere  \n",
       "41      Apartment      premiere  "
      ]
     },
     "execution_count": 155,
     "metadata": {},
     "output_type": "execute_result"
    }
   ],
   "source": [
    "X_train.head()"
   ]
  },
  {
   "cell_type": "code",
   "execution_count": 156,
   "metadata": {
    "ExecuteTime": {
     "end_time": "2023-01-04T16:48:24.405737Z",
     "start_time": "2023-01-04T16:48:24.391082Z"
    }
   },
   "outputs": [],
   "source": [
    "# set up scaling step for numerical columns\n",
    "nums = X.drop(categories, axis = 1).columns\n",
    "num_trans = Pipeline(\n",
    "    steps = [(\"scaler\", StandardScaler())]\n",
    ")"
   ]
  },
  {
   "cell_type": "code",
   "execution_count": 157,
   "metadata": {
    "ExecuteTime": {
     "end_time": "2023-01-04T16:48:24.781467Z",
     "start_time": "2023-01-04T16:48:24.767486Z"
    }
   },
   "outputs": [],
   "source": [
    "# set up one hot encoder for categorical variables\n",
    "cat_trans = OneHotEncoder(handle_unknown = \"ignore\")"
   ]
  },
  {
   "cell_type": "code",
   "execution_count": 158,
   "metadata": {
    "ExecuteTime": {
     "end_time": "2023-01-04T16:48:25.155524Z",
     "start_time": "2023-01-04T16:48:25.140998Z"
    }
   },
   "outputs": [],
   "source": [
    "# combine scaling and encoding into a single column transformer\n",
    "processor = ColumnTransformer(\n",
    "    transformers = [\n",
    "        (\"num\", num_trans, nums),\n",
    "        (\"cat\", cat_trans, categories)\n",
    "    ]\n",
    "\n",
    ")"
   ]
  },
  {
   "cell_type": "markdown",
   "metadata": {
    "ExecuteTime": {
     "end_time": "2023-01-03T21:54:03.980418Z",
     "start_time": "2023-01-03T21:54:03.962603Z"
    }
   },
   "source": [
    "# Models"
   ]
  },
  {
   "cell_type": "markdown",
   "metadata": {},
   "source": [
    "## Baseline Model (Linear)"
   ]
  },
  {
   "cell_type": "code",
   "execution_count": 159,
   "metadata": {
    "ExecuteTime": {
     "end_time": "2023-01-04T16:48:25.826335Z",
     "start_time": "2023-01-04T16:48:25.821540Z"
    }
   },
   "outputs": [],
   "source": [
    "from sklearn.metrics import mean_squared_error, mean_absolute_error, r2_score"
   ]
  },
  {
   "cell_type": "code",
   "execution_count": 160,
   "metadata": {
    "ExecuteTime": {
     "end_time": "2023-01-04T16:48:26.230041Z",
     "start_time": "2023-01-04T16:48:26.217160Z"
    }
   },
   "outputs": [],
   "source": [
    "# linear pipeline\n",
    "lm = Pipeline(\n",
    "    steps = [(\"preprocessor\", processor), (\"lm\", LinearRegression())]\n",
    ")"
   ]
  },
  {
   "cell_type": "code",
   "execution_count": 161,
   "metadata": {
    "ExecuteTime": {
     "end_time": "2023-01-04T16:48:26.620253Z",
     "start_time": "2023-01-04T16:48:26.590061Z"
    }
   },
   "outputs": [
    {
     "data": {
      "text/plain": [
       "Pipeline(steps=[('preprocessor',\n",
       "                 ColumnTransformer(transformers=[('num',\n",
       "                                                  Pipeline(steps=[('scaler',\n",
       "                                                                   StandardScaler())]),\n",
       "                                                  Index(['building_size', 'land_size', 'bedroom_count', 'bathroom_count',\n",
       "       'parking_count'],\n",
       "      dtype='object')),\n",
       "                                                 ('cat',\n",
       "                                                  OneHotEncoder(handle_unknown='ignore'),\n",
       "                                                  ['property_type',\n",
       "                                                   'product_depth'])])),\n",
       "                ('lm', LinearRegression())])"
      ]
     },
     "execution_count": 161,
     "metadata": {},
     "output_type": "execute_result"
    }
   ],
   "source": [
    "lm.fit(X, y)"
   ]
  },
  {
   "cell_type": "code",
   "execution_count": 162,
   "metadata": {
    "ExecuteTime": {
     "end_time": "2023-01-04T16:48:27.071324Z",
     "start_time": "2023-01-04T16:48:27.042455Z"
    }
   },
   "outputs": [],
   "source": [
    "y_train_pred = lm.predict(X_train)\n",
    "y_test_pred = lm.predict(X_test)"
   ]
  },
  {
   "cell_type": "code",
   "execution_count": 163,
   "metadata": {
    "ExecuteTime": {
     "end_time": "2023-01-04T16:48:27.476907Z",
     "start_time": "2023-01-04T16:48:27.464379Z"
    }
   },
   "outputs": [
    {
     "name": "stdout",
     "output_type": "stream",
     "text": [
      "Linear Model Metrics (train)\n",
      "R-squared score: 0.5710368043063985\n",
      "RMSE: 10978396808.74275\n",
      "MAE: 80879.12901755983\n"
     ]
    }
   ],
   "source": [
    "print(\"Linear Model Metrics (train)\")\n",
    "print(\"R-squared score: \"+ str(r2_score(y_train, y_train_pred)))\n",
    "print(\"RMSE: \"+ str(mean_squared_error(y_train, y_train_pred)))\n",
    "print(\"MAE: \"+ str(mean_absolute_error(y_train, y_train_pred)))"
   ]
  },
  {
   "cell_type": "code",
   "execution_count": 164,
   "metadata": {
    "ExecuteTime": {
     "end_time": "2023-01-04T16:48:28.349860Z",
     "start_time": "2023-01-04T16:48:28.329163Z"
    }
   },
   "outputs": [
    {
     "name": "stdout",
     "output_type": "stream",
     "text": [
      "Linear Model Metrics (test)\n",
      "R-squared score: 0.5261716543234063\n",
      "RMSE: 11538854229.919594\n",
      "MAE: 82130.62692940608\n"
     ]
    }
   ],
   "source": [
    "print(\"Linear Model Metrics (test)\")\n",
    "print(\"R-squared score: \"+ str(r2_score(y_test, y_test_pred)))\n",
    "print(\"RMSE: \"+ str(mean_squared_error(y_test, y_test_pred)))\n",
    "print(\"MAE: \"+ str(mean_absolute_error(y_test, y_test_pred)))"
   ]
  },
  {
   "cell_type": "markdown",
   "metadata": {},
   "source": [
    "## Decision Tree"
   ]
  },
  {
   "cell_type": "code",
   "execution_count": 165,
   "metadata": {
    "ExecuteTime": {
     "end_time": "2023-01-04T16:48:29.564933Z",
     "start_time": "2023-01-04T16:48:29.560889Z"
    }
   },
   "outputs": [],
   "source": [
    "from sklearn.neural_network import MLPRegressor\n",
    "from sklearn.tree import DecisionTreeRegressor, plot_tree\n",
    "from sklearn.model_selection import GridSearchCV\n",
    "import matplotlib.pyplot as plt\n"
   ]
  },
  {
   "cell_type": "code",
   "execution_count": 166,
   "metadata": {
    "ExecuteTime": {
     "end_time": "2023-01-04T16:48:30.108451Z",
     "start_time": "2023-01-04T16:48:30.101263Z"
    }
   },
   "outputs": [],
   "source": [
    "#splitter = \"random\"\n",
    "regress_dt = DecisionTreeRegressor(random_state = 123)"
   ]
  },
  {
   "cell_type": "code",
   "execution_count": 167,
   "metadata": {
    "ExecuteTime": {
     "end_time": "2023-01-04T16:48:41.300860Z",
     "start_time": "2023-01-04T16:48:30.483964Z"
    }
   },
   "outputs": [
    {
     "data": {
      "text/plain": [
       "{'model__ccp_alpha': 0.01,\n",
       " 'model__max_depth': 5,\n",
       " 'model__max_features': 'auto',\n",
       " 'model__min_samples_leaf': 5,\n",
       " 'model__min_samples_split': 20}"
      ]
     },
     "execution_count": 167,
     "metadata": {},
     "output_type": "execute_result"
    }
   ],
   "source": [
    "# decision tree pipeline\n",
    "dt = Pipeline(\n",
    "    steps = [(\"preprocessor\", processor), (\"model\", regress_dt)]\n",
    ")\n",
    "\n",
    "# determine best parameters\n",
    "param_grid = {\n",
    "    'model__ccp_alpha': [0.01, 0.02, 0.03],\n",
    "    'model__max_depth': [3, 4, 5],\n",
    "    'model__min_samples_split': [5, 10, 20],\n",
    "    'model__min_samples_leaf':[5, 10, 15],\n",
    "    'model__max_features':[\"auto\", \"sqrt\", \"log2\"] \n",
    "}\n",
    "\n",
    "dt_test = GridSearchCV(dt, param_grid, cv=5)\n",
    "dt_test.fit(X_train, y_train)\n",
    "\n",
    "dt_test.best_params_"
   ]
  },
  {
   "cell_type": "code",
   "execution_count": 168,
   "metadata": {
    "ExecuteTime": {
     "end_time": "2023-01-04T16:48:41.688333Z",
     "start_time": "2023-01-04T16:48:41.674335Z"
    }
   },
   "outputs": [],
   "source": [
    "# building pipeline with best params\n",
    "regress_dt2 = DecisionTreeRegressor(ccp_alpha = 0.01, max_depth = 5, min_samples_split = 5, \n",
    "                                 min_samples_leaf = 5, random_state = 123)\n",
    "dt2 = Pipeline(\n",
    "    steps = [(\"preprocessor\", processor), (\"model\", regress_dt2)]\n",
    ")"
   ]
  },
  {
   "cell_type": "code",
   "execution_count": 169,
   "metadata": {
    "ExecuteTime": {
     "end_time": "2023-01-04T16:48:42.075979Z",
     "start_time": "2023-01-04T16:48:42.031035Z"
    }
   },
   "outputs": [
    {
     "data": {
      "text/plain": [
       "Pipeline(steps=[('preprocessor',\n",
       "                 ColumnTransformer(transformers=[('num',\n",
       "                                                  Pipeline(steps=[('scaler',\n",
       "                                                                   StandardScaler())]),\n",
       "                                                  Index(['building_size', 'land_size', 'bedroom_count', 'bathroom_count',\n",
       "       'parking_count'],\n",
       "      dtype='object')),\n",
       "                                                 ('cat',\n",
       "                                                  OneHotEncoder(handle_unknown='ignore'),\n",
       "                                                  ['property_type',\n",
       "                                                   'product_depth'])])),\n",
       "                ('model',\n",
       "                 DecisionTreeRegressor(ccp_alpha=0.01, max_depth=5,\n",
       "                                       min_samples_leaf=5, min_samples_split=5,\n",
       "                                       random_state=123))])"
      ]
     },
     "execution_count": 169,
     "metadata": {},
     "output_type": "execute_result"
    }
   ],
   "source": [
    "# fitting data\n",
    "dt2.fit(X_train, y_train)"
   ]
  },
  {
   "cell_type": "code",
   "execution_count": 170,
   "metadata": {
    "ExecuteTime": {
     "end_time": "2023-01-04T16:48:43.586158Z",
     "start_time": "2023-01-04T16:48:42.436603Z"
    }
   },
   "outputs": [
    {
     "data": {
      "image/png": "[encoded data removed]",
      "text/plain": [
       "<Figure size 1440x720 with 1 Axes>"
      ]
     },
     "metadata": {
      "needs_background": "light"
     },
     "output_type": "display_data"
    }
   ],
   "source": [
    "# viewing model\n",
    "plt.figure(figsize = (20, 10))\n",
    "plot_tree(dt2[\"model\"])\n",
    "plt.show()"
   ]
  },
  {
   "cell_type": "code",
   "execution_count": 171,
   "metadata": {
    "ExecuteTime": {
     "end_time": "2023-01-04T16:48:44.005791Z",
     "start_time": "2023-01-04T16:48:43.991698Z"
    }
   },
   "outputs": [],
   "source": [
    "y_train_pred2 = dt2.predict(X_train)\n",
    "y_test_pred2 = dt2.predict(X_test)"
   ]
  },
  {
   "cell_type": "code",
   "execution_count": 172,
   "metadata": {
    "ExecuteTime": {
     "end_time": "2023-01-04T16:48:44.441115Z",
     "start_time": "2023-01-04T16:48:44.428084Z"
    }
   },
   "outputs": [
    {
     "name": "stdout",
     "output_type": "stream",
     "text": [
      "Decision Tree Model Metrics (train)\n",
      "R-squared score: 0.6380540996530818\n",
      "RMSE: 9263232270.73394\n",
      "MAE: 74615.46621719285\n"
     ]
    }
   ],
   "source": [
    "print(\"Decision Tree Model Metrics (train)\")\n",
    "print(\"R-squared score: \"+ str(r2_score(y_train, y_train_pred2)))\n",
    "print(\"RMSE: \"+ str(mean_squared_error(y_train, y_train_pred2)))\n",
    "print(\"MAE: \"+ str(mean_absolute_error(y_train, y_train_pred2)))"
   ]
  },
  {
   "cell_type": "code",
   "execution_count": 173,
   "metadata": {
    "ExecuteTime": {
     "end_time": "2023-01-04T16:48:44.891459Z",
     "start_time": "2023-01-04T16:48:44.877371Z"
    }
   },
   "outputs": [
    {
     "name": "stdout",
     "output_type": "stream",
     "text": [
      "Decision Tree Model Metrics (test)\n",
      "R-squared score: 0.4878966567759936\n",
      "RMSE: 12470942023.69538\n",
      "MAE: 84716.99114663064\n"
     ]
    }
   ],
   "source": [
    "# overfitting issues- change model to use more regularization\n",
    "print(\"Decision Tree Model Metrics (test)\")\n",
    "print(\"R-squared score: \"+ str(r2_score(y_test, y_test_pred2)))\n",
    "print(\"RMSE: \"+ str(mean_squared_error(y_test, y_test_pred2)))\n",
    "print(\"MAE: \"+ str(mean_absolute_error(y_test, y_test_pred2)))"
   ]
  },
  {
   "cell_type": "code",
   "execution_count": 174,
   "metadata": {
    "ExecuteTime": {
     "end_time": "2023-01-04T16:48:50.084060Z",
     "start_time": "2023-01-04T16:48:50.040653Z"
    }
   },
   "outputs": [
    {
     "data": {
      "text/plain": [
       "Pipeline(steps=[('preprocessor',\n",
       "                 ColumnTransformer(transformers=[('num',\n",
       "                                                  Pipeline(steps=[('scaler',\n",
       "                                                                   StandardScaler())]),\n",
       "                                                  Index(['building_size', 'land_size', 'bedroom_count', 'bathroom_count',\n",
       "       'parking_count'],\n",
       "      dtype='object')),\n",
       "                                                 ('cat',\n",
       "                                                  OneHotEncoder(handle_unknown='ignore'),\n",
       "                                                  ['property_type',\n",
       "                                                   'product_depth'])])),\n",
       "                ('model',\n",
       "                 DecisionTreeRegressor(ccp_alpha=0.01, max_depth=5,\n",
       "                                       max_features='sqrt', min_samples_leaf=5,\n",
       "                                       min_samples_split=20,\n",
       "                                       random_state=123))])"
      ]
     },
     "execution_count": 174,
     "metadata": {},
     "output_type": "execute_result"
    }
   ],
   "source": [
    "regress_dt3 = DecisionTreeRegressor(ccp_alpha = 0.01, max_depth = 5, min_samples_split = 20, \n",
    "                                 min_samples_leaf = 5, random_state = 123, max_features = \"sqrt\")\n",
    "dt3 = Pipeline(\n",
    "    steps = [(\"preprocessor\", processor), (\"model\", regress_dt3)]\n",
    ")\n",
    "\n",
    "dt3.fit(X_train, y_train)"
   ]
  },
  {
   "cell_type": "code",
   "execution_count": 175,
   "metadata": {
    "ExecuteTime": {
     "end_time": "2023-01-04T16:48:50.498146Z",
     "start_time": "2023-01-04T16:48:50.486445Z"
    }
   },
   "outputs": [],
   "source": [
    "y_train_pred3 = dt3.predict(X_train)\n",
    "y_test_pred3 = dt3.predict(X_test)"
   ]
  },
  {
   "cell_type": "code",
   "execution_count": 176,
   "metadata": {
    "ExecuteTime": {
     "end_time": "2023-01-04T16:48:50.910364Z",
     "start_time": "2023-01-04T16:48:50.896857Z"
    }
   },
   "outputs": [
    {
     "name": "stdout",
     "output_type": "stream",
     "text": [
      "Decision Tree Model Metrics (train)\n",
      "R-squared score: 0.5142952116312761\n",
      "RMSE: 12430576683.849073\n",
      "MAE: 84368.60373348954\n"
     ]
    }
   ],
   "source": [
    "print(\"Decision Tree Model Metrics (train)\")\n",
    "print(\"R-squared score: \"+ str(r2_score(y_train, y_train_pred3)))\n",
    "print(\"RMSE: \"+ str(mean_squared_error(y_train, y_train_pred3)))\n",
    "print(\"MAE: \"+ str(mean_absolute_error(y_train, y_train_pred3)))"
   ]
  },
  {
   "cell_type": "code",
   "execution_count": 177,
   "metadata": {
    "ExecuteTime": {
     "end_time": "2023-01-04T16:48:51.753875Z",
     "start_time": "2023-01-04T16:48:51.741261Z"
    }
   },
   "outputs": [
    {
     "name": "stdout",
     "output_type": "stream",
     "text": [
      "Decision Tree Model Metrics (test)\n",
      "R-squared score: 0.44616331083938476\n",
      "RMSE: 13487248877.608286\n",
      "MAE: 88203.28642476659\n"
     ]
    }
   ],
   "source": [
    "# overfitting under control, but worse performance\n",
    "print(\"Decision Tree Model Metrics (test)\")\n",
    "print(\"R-squared score: \"+ str(r2_score(y_test, y_test_pred3)))\n",
    "print(\"RMSE: \"+ str(mean_squared_error(y_test, y_test_pred3)))\n",
    "print(\"MAE: \"+ str(mean_absolute_error(y_test, y_test_pred3)))"
   ]
  },
  {
   "cell_type": "markdown",
   "metadata": {},
   "source": [
    "## Gradient Boosting Regressor"
   ]
  },
  {
   "cell_type": "code",
   "execution_count": 178,
   "metadata": {
    "ExecuteTime": {
     "end_time": "2023-01-04T16:48:54.624173Z",
     "start_time": "2023-01-04T16:48:54.608942Z"
    }
   },
   "outputs": [],
   "source": [
    "from sklearn.ensemble import GradientBoostingRegressor"
   ]
  },
  {
   "cell_type": "code",
   "execution_count": 179,
   "metadata": {
    "ExecuteTime": {
     "end_time": "2023-01-04T16:48:55.052515Z",
     "start_time": "2023-01-04T16:48:55.039644Z"
    }
   },
   "outputs": [],
   "source": [
    "regress_gb = GradientBoostingRegressor(random_state = 123)"
   ]
  },
  {
   "cell_type": "code",
   "execution_count": 180,
   "metadata": {
    "ExecuteTime": {
     "end_time": "2023-01-04T16:49:44.015430Z",
     "start_time": "2023-01-04T16:48:55.469334Z"
    }
   },
   "outputs": [
    {
     "data": {
      "text/plain": [
       "{'model__ccp_alpha': 0.01,\n",
       " 'model__max_depth': 3,\n",
       " 'model__max_features': 'sqrt',\n",
       " 'model__min_samples_leaf': 5,\n",
       " 'model__min_samples_split': 20}"
      ]
     },
     "execution_count": 180,
     "metadata": {},
     "output_type": "execute_result"
    }
   ],
   "source": [
    "# decision tree pipeline\n",
    "gb = Pipeline(\n",
    "    steps = [(\"preprocessor\", processor), (\"model\", regress_gb)]\n",
    ")\n",
    "\n",
    "# determine best parameters\n",
    "param_grid = {\n",
    "    'model__ccp_alpha': [0.01, 0.02, 0.03],\n",
    "    'model__max_depth': [3, 4, 5],\n",
    "    'model__min_samples_split': [5, 10, 20],\n",
    "    'model__min_samples_leaf':[5, 10, 15],\n",
    "    'model__max_features':[\"auto\", \"sqrt\", \"log2\"]\n",
    "}\n",
    "\n",
    "gb_test = GridSearchCV(gb, param_grid, cv=5)\n",
    "gb_test.fit(X_train, y_train)\n",
    "\n",
    "gb_test.best_params_"
   ]
  },
  {
   "cell_type": "code",
   "execution_count": 181,
   "metadata": {
    "ExecuteTime": {
     "end_time": "2023-01-04T16:49:44.419638Z",
     "start_time": "2023-01-04T16:49:44.406636Z"
    }
   },
   "outputs": [],
   "source": [
    "regress_gb2 = GradientBoostingRegressor(random_state = 123, ccp_alpha = 0.01, \n",
    "                                     max_depth = 3, min_samples_leaf = 5, \n",
    "                                    min_samples_split = 20, max_features = \"sqrt\")\n",
    "gb2 = Pipeline(\n",
    "    steps = [(\"preprocessor\", processor), (\"model\", regress_gb2)]\n",
    ")"
   ]
  },
  {
   "cell_type": "code",
   "execution_count": 182,
   "metadata": {
    "ExecuteTime": {
     "end_time": "2023-01-04T16:49:44.858604Z",
     "start_time": "2023-01-04T16:49:44.798860Z"
    }
   },
   "outputs": [
    {
     "data": {
      "text/plain": [
       "Pipeline(steps=[('preprocessor',\n",
       "                 ColumnTransformer(transformers=[('num',\n",
       "                                                  Pipeline(steps=[('scaler',\n",
       "                                                                   StandardScaler())]),\n",
       "                                                  Index(['building_size', 'land_size', 'bedroom_count', 'bathroom_count',\n",
       "       'parking_count'],\n",
       "      dtype='object')),\n",
       "                                                 ('cat',\n",
       "                                                  OneHotEncoder(handle_unknown='ignore'),\n",
       "                                                  ['property_type',\n",
       "                                                   'product_depth'])])),\n",
       "                ('model',\n",
       "                 GradientBoostingRegressor(ccp_alpha=0.01, max_features='sqrt',\n",
       "                                           min_samples_leaf=5,\n",
       "                                           min_samples_split=20,\n",
       "                                           random_state=123))])"
      ]
     },
     "execution_count": 182,
     "metadata": {},
     "output_type": "execute_result"
    }
   ],
   "source": [
    "gb2.fit(X_train, y_train)"
   ]
  },
  {
   "cell_type": "code",
   "execution_count": 183,
   "metadata": {
    "ExecuteTime": {
     "end_time": "2023-01-04T16:49:45.249497Z",
     "start_time": "2023-01-04T16:49:45.237329Z"
    }
   },
   "outputs": [],
   "source": [
    "y_train_pred4 = gb2.predict(X_train)\n",
    "y_test_pred4 = gb2.predict(X_test)"
   ]
  },
  {
   "cell_type": "code",
   "execution_count": 184,
   "metadata": {
    "ExecuteTime": {
     "end_time": "2023-01-04T16:49:45.624499Z",
     "start_time": "2023-01-04T16:49:45.609126Z"
    }
   },
   "outputs": [
    {
     "name": "stdout",
     "output_type": "stream",
     "text": [
      "Gradient Boosting Model Metrics (train)\n",
      "R-squared score: 0.7096967347572181\n",
      "RMSE: 7429692040.492454\n",
      "MAE: 66509.52770608747\n"
     ]
    }
   ],
   "source": [
    "print(\"Gradient Boosting Model Metrics (train)\")\n",
    "print(\"R-squared score: \"+ str(r2_score(y_train, y_train_pred4)))\n",
    "print(\"RMSE: \"+ str(mean_squared_error(y_train, y_train_pred4)))\n",
    "print(\"MAE: \"+ str(mean_absolute_error(y_train, y_train_pred4)))"
   ]
  },
  {
   "cell_type": "code",
   "execution_count": 185,
   "metadata": {
    "ExecuteTime": {
     "end_time": "2023-01-04T16:49:45.998987Z",
     "start_time": "2023-01-04T16:49:45.986296Z"
    }
   },
   "outputs": [
    {
     "name": "stdout",
     "output_type": "stream",
     "text": [
      "Gradient Boosting  Model Metrics (test)\n",
      "R-squared score: 0.5797913464706179\n",
      "RMSE: 10233086398.20331\n",
      "MAE: 76578.6102750811\n"
     ]
    }
   ],
   "source": [
    "# overfitting issues- change model to use more regularization\n",
    "print(\"Gradient Boosting  Model Metrics (test)\")\n",
    "print(\"R-squared score: \"+ str(r2_score(y_test, y_test_pred4)))\n",
    "print(\"RMSE: \"+ str(mean_squared_error(y_test, y_test_pred4)))\n",
    "print(\"MAE: \"+ str(mean_absolute_error(y_test, y_test_pred4)))"
   ]
  },
  {
   "cell_type": "code",
   "execution_count": 186,
   "metadata": {
    "ExecuteTime": {
     "end_time": "2023-01-04T16:49:46.421332Z",
     "start_time": "2023-01-04T16:49:46.407168Z"
    }
   },
   "outputs": [],
   "source": [
    "# add subsample to deal with overfitting\n",
    "regress_gb3 = GradientBoostingRegressor(random_state = 123, ccp_alpha = 0.01, \n",
    "                                     max_depth = 3, min_samples_leaf = 5, \n",
    "                                    min_samples_split = 20, max_features = \"sqrt\",\n",
    "                                       subsample = 0.09)\n",
    "gb3 = Pipeline(\n",
    "    steps = [(\"preprocessor\", processor), (\"model\", regress_gb3)]\n",
    ")"
   ]
  },
  {
   "cell_type": "code",
   "execution_count": 187,
   "metadata": {
    "ExecuteTime": {
     "end_time": "2023-01-04T16:49:46.856815Z",
     "start_time": "2023-01-04T16:49:46.796484Z"
    }
   },
   "outputs": [],
   "source": [
    "gb3.fit(X_train, y_train)\n",
    "y_train_pred5 = gb3.predict(X_train)\n",
    "y_test_pred5 = gb3.predict(X_test)"
   ]
  },
  {
   "cell_type": "code",
   "execution_count": 188,
   "metadata": {
    "ExecuteTime": {
     "end_time": "2023-01-04T16:49:47.260970Z",
     "start_time": "2023-01-04T16:49:47.247553Z"
    }
   },
   "outputs": [
    {
     "name": "stdout",
     "output_type": "stream",
     "text": [
      "Gradient Boosting Model Metrics (train)\n",
      "R-squared score: 0.5980540217950634\n",
      "RMSE: 10286948830.83621\n",
      "MAE: 79882.75052983368\n"
     ]
    }
   ],
   "source": [
    "print(\"Gradient Boosting Model Metrics (train)\")\n",
    "print(\"R-squared score: \"+ str(r2_score(y_train, y_train_pred5)))\n",
    "print(\"RMSE: \"+ str(mean_squared_error(y_train, y_train_pred5)))\n",
    "print(\"MAE: \"+ str(mean_absolute_error(y_train, y_train_pred5)))"
   ]
  },
  {
   "cell_type": "code",
   "execution_count": 189,
   "metadata": {
    "ExecuteTime": {
     "end_time": "2023-01-04T16:49:47.652247Z",
     "start_time": "2023-01-04T16:49:47.640186Z"
    }
   },
   "outputs": [
    {
     "name": "stdout",
     "output_type": "stream",
     "text": [
      "Gradient Boosting  Model Metrics (test)\n",
      "R-squared score: 0.5327160656210936\n",
      "RMSE: 11379482152.09081\n",
      "MAE: 82986.16017322204\n"
     ]
    }
   ],
   "source": [
    "# the best model we can get at this point\n",
    "print(\"Gradient Boosting  Model Metrics (test)\")\n",
    "print(\"R-squared score: \"+ str(r2_score(y_test, y_test_pred5)))\n",
    "print(\"RMSE: \"+ str(mean_squared_error(y_test, y_test_pred5)))\n",
    "print(\"MAE: \"+ str(mean_absolute_error(y_test, y_test_pred5)))"
   ]
  },
  {
   "cell_type": "code",
   "execution_count": null,
   "metadata": {},
   "outputs": [],
   "source": []
  }
 ],
 "metadata": {
  "kernelspec": {
   "display_name": "Python (learn-env)",
   "language": "python",
   "name": "learn-env"
  },
  "language_info": {
   "codemirror_mode": {
    "name": "ipython",
    "version": 3
   },
   "file_extension": ".py",
   "mimetype": "text/x-python",
   "name": "python",
   "nbconvert_exporter": "python",
   "pygments_lexer": "ipython3",
   "version": "3.8.5"
  },
  "toc": {
   "base_numbering": 1,
   "nav_menu": {},
   "number_sections": true,
   "sideBar": true,
   "skip_h1_title": false,
   "title_cell": "Table of Contents",
   "title_sidebar": "Contents",
   "toc_cell": false,
   "toc_position": {},
   "toc_section_display": true,
   "toc_window_display": false
  },
  "varInspector": {
   "cols": {
    "lenName": 16,
    "lenType": 16,
    "lenVar": 40
   },
   "kernels_config": {
    "python": {
     "delete_cmd_postfix": "",
     "delete_cmd_prefix": "del ",
     "library": "var_list.py",
     "varRefreshCmd": "print(var_dic_list())"
    },
    "r": {
     "delete_cmd_postfix": ") ",
     "delete_cmd_prefix": "rm(",
     "library": "var_list.r",
     "varRefreshCmd": "cat(var_dic_list()) "
    }
   },
   "types_to_exclude": [
    "module",
    "function",
    "builtin_function_or_method",
    "instance",
    "_Feature"
   ],
   "window_display": false
  }
 },
 "nbformat": 4,
 "nbformat_minor": 4
}
