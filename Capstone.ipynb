{
 "cells": [
  {
   "cell_type": "markdown",
   "metadata": {
    "ExecuteTime": {
     "end_time": "2023-01-06T20:49:49.617219Z",
     "start_time": "2023-01-06T20:49:49.594530Z"
    }
   },
   "source": [
    "<img width=\"800\" alt=\"Australian housing\" src=\"https://upload.wikimedia.org/wikipedia/commons/thumb/d/d3/Elger_Street_housing_001.jpg/640px-Elger_Street_housing_001.jpg\">"
   ]
  },
  {
   "cell_type": "markdown",
   "metadata": {},
   "source": [
    "# Home in the Outback - Predicting Housing Prices in Australia\n",
    "By Andrew Yang"
   ]
  },
  {
   "cell_type": "markdown",
   "metadata": {},
   "source": [
    "## Business Understanding"
   ]
  },
  {
   "cell_type": "markdown",
   "metadata": {},
   "source": [
    "According to Statistia, housing affordability is a significant issue in Australia that has sparked many policy debates. Under 30% of Australians completely own their property, while approximately 30% of private households are composed of renters. As noted in the report, residental housing prices has typically seen strong annual growth, as have rental costs for the past decade [1]. This has led to several Australian cities such as Sydney and Auckland to be rated as some of the least affordable cities based on the ratio between housing prices and annual income [2]."
   ]
  },
  {
   "cell_type": "markdown",
   "metadata": {},
   "source": [
    "<img width=\"512\" alt=\"Least affordable housing in the world - Statista\" src=\"https://cdn.statcdn.com/Infographic/images/normal/16902.jpeg\">\n"
   ]
  },
  {
   "cell_type": "markdown",
   "metadata": {},
   "source": [
    "Such an issue has also been compounded by the frequent practice of underquoting housing in the Australian real estate industry. Various organizations operating in the space have noted that \"underquoting remains 'endemic' due to poorly regulated and underpoliced regulations\". While the practice helps listers to gather more interested buyers, it also obfuscates the true price, creating much grief among hopeful buyers. As David Morrell, a buyers advocate in Australia, puts it: \"It’s misleading, it’s a fraud on purchasers. And until significant penalties are handed out, regulations have been ineffective … if one does it, others have to follow\" [3].\n",
    "\n",
    "A housing price model can mitigate the issue until stronger laws punishing underquoting are passed. By estimating the price of housing through the usage of a model, buyers can more accurately determine which properties they can afford in the Australian real estate market. This saves them time searching through properties that have an unknown true price, while helping in spotting potential homes at a discount. "
   ]
  },
  {
   "cell_type": "markdown",
   "metadata": {},
   "source": [
    "## Data Understanding"
   ]
  },
  {
   "cell_type": "markdown",
   "metadata": {},
   "source": [
    "The Kaggle [dataset](https://www.kaggle.com/datasets/thedevastator/australian-housing-data-1000-properties-sampled) used is a sample of 1000 Australian property listings. It contains information about the housing itself (such as size and amenities count) as well as housing type and product variation. This information can be used to specifically model prices for Australian housing based on common property aspects.\n",
    "\n",
    "After data cleaning, outlier removal, and imputation, the cleaned data set includes 843 observations and 8 columns. Of these, seven features were chosen for modeling housing prices. Building size, land size, and property type were chosen because housing size is a key component in determining property value. Bedroom, bathroom, and parking count can also affect housing value. Lastly, product depth may have an affect on how a property is marketed: housing considered \"premiere\" could have higher prices than those considered \"standard\"."
   ]
  },
  {
   "cell_type": "markdown",
   "metadata": {},
   "source": [
    "![prop type vs price](visualizations/propType_price.png)"
   ]
  },
  {
   "cell_type": "markdown",
   "metadata": {
    "ExecuteTime": {
     "end_time": "2023-01-29T22:54:52.708300Z",
     "start_time": "2023-01-29T22:54:52.698725Z"
    }
   },
   "source": [
    "**Figure 1: Median price of property types.**"
   ]
  },
  {
   "cell_type": "markdown",
   "metadata": {},
   "source": [
    "![bedrooms vs price](visualizations/bedroom_price.png)"
   ]
  },
  {
   "cell_type": "markdown",
   "metadata": {},
   "source": [
    "**Figure 2: Relationship between bedroom count and housing prices.**"
   ]
  },
  {
   "cell_type": "markdown",
   "metadata": {},
   "source": [
    "![bathroom vs price](visualizations/bathroom_price.png)"
   ]
  },
  {
   "cell_type": "markdown",
   "metadata": {},
   "source": [
    "**Figure 3: Relationship between bathroom count and housing prices.**"
   ]
  },
  {
   "cell_type": "markdown",
   "metadata": {},
   "source": [
    "![parking vs price](visualizations/parking_price.png)"
   ]
  },
  {
   "cell_type": "markdown",
   "metadata": {},
   "source": [
    "**Figure 4: Relationship between parking spaces and housing prices.**"
   ]
  },
  {
   "cell_type": "markdown",
   "metadata": {},
   "source": [
    "![building size vs price](visualizations/buildsize_price.png)"
   ]
  },
  {
   "cell_type": "markdown",
   "metadata": {},
   "source": [
    "**Figure 5: Relationship between building size and housing prices.**"
   ]
  },
  {
   "cell_type": "markdown",
   "metadata": {},
   "source": [
    "![land size vs price](visualizations/landsize_price.png)"
   ]
  },
  {
   "cell_type": "markdown",
   "metadata": {},
   "source": [
    "**Figure 6: Relationship between land size and housing prices.**"
   ]
  },
  {
   "cell_type": "markdown",
   "metadata": {},
   "source": [
    "The exploratory data analysis (EDA) reveals some relationships between price and various predictors. Figure one shows that townhouses have the largest median listing price, with houses as the second most expensive property type. Meanwhile, figure two demonstrates a positive correlation between the number of bedrooms and housing price, while figures 3 & 4 show a similar correlation between bathroom count as well as parking space count with housing price. Finally, both building and land size are positively correlated with price (Figures 5 & 6)."
   ]
  },
  {
   "cell_type": "markdown",
   "metadata": {},
   "source": [
    "|   | Median | IQR |\n",
    "| --- | --- | ---|\n",
    "|Building Size (meters squared)|147.0|103.0\n",
    "|Land Size (meters squared)|294.5|650.0|\n",
    "|Price (AUD)| 485000.0|177500.0|\n",
    "|Bedrooms|3.0|1.0|\n",
    "|Bathrooms|2.0|1.0|\n",
    "|Parking Count|2.0|1.0|"
   ]
  },
  {
   "cell_type": "markdown",
   "metadata": {
    "ExecuteTime": {
     "end_time": "2023-01-07T03:24:03.916951Z",
     "start_time": "2023-01-07T03:24:03.907729Z"
    }
   },
   "source": [
    "**Table 1: Descriptive statistics of numeric columns.**"
   ]
  },
  {
   "cell_type": "markdown",
   "metadata": {},
   "source": [
    "|Property Type|Count|\n",
    "|---|---|\n",
    "|House|375|\n",
    "|Unit|221|\n",
    "|Apartment|192|\n",
    "|Townhouse|36|\n",
    "|Duplex/Semi-detached|19|"
   ]
  },
  {
   "cell_type": "markdown",
   "metadata": {},
   "source": [
    "**Table 2: Frequency of property types.**"
   ]
  },
  {
   "cell_type": "markdown",
   "metadata": {},
   "source": [
    "|Product Depth|Count|\n",
    "|---|---|\n",
    "|Premiere|563|\n",
    "|Feature|154|\n",
    "|Standard|126|"
   ]
  },
  {
   "cell_type": "markdown",
   "metadata": {},
   "source": [
    "**Table 3: Frequency of product depths.**"
   ]
  },
  {
   "cell_type": "markdown",
   "metadata": {},
   "source": [
    "In terms of descriptive statistics, table one shows the median and interquartile value of the numeric features as well as the target variable (building size, land size, price, etc); in each of the quantitative variable's cases, they possessed a right-skewed distribution. Table two and three show the frequency of each category. \n",
    "\n",
    "One key limitation of the data is that the target variable (price) is based on property listings, which are subject to underquoting. It would be more accurate to model based on housing sold, but that data is not publicly availible for Australian housing. Because of that, the model will most likely predict pricing that is consistently less than the true value of the property. Additionally, the dataset is relatively small, and as such may be prone to overfitting. Managing this issue will require model regularization."
   ]
  },
  {
   "cell_type": "markdown",
   "metadata": {},
   "source": [
    "## Data Preperation"
   ]
  },
  {
   "cell_type": "code",
   "execution_count": 1,
   "metadata": {
    "ExecuteTime": {
     "end_time": "2023-02-03T01:44:10.273454Z",
     "start_time": "2023-02-03T01:44:09.056154Z"
    }
   },
   "outputs": [],
   "source": [
    "# import the following packages for the EDA and data cleaning sections\n",
    "import pandas as pd\n",
    "import numpy as np\n",
    "import re\n",
    "import matplotlib.pyplot as plt\n",
    "import seaborn as sb\n",
    "from numpy import median"
   ]
  },
  {
   "cell_type": "markdown",
   "metadata": {},
   "source": [
    "### Raw Data and Feature Removal\n",
    "Preparing the data requires us to first import the data and remove all columns that are not our predictors or target."
   ]
  },
  {
   "cell_type": "code",
   "execution_count": 2,
   "metadata": {
    "ExecuteTime": {
     "end_time": "2023-02-03T01:44:10.319619Z",
     "start_time": "2023-02-03T01:44:10.275433Z"
    }
   },
   "outputs": [
    {
     "data": {
      "text/html": [
       "<div>\n",
       "<style scoped>\n",
       "    .dataframe tbody tr th:only-of-type {\n",
       "        vertical-align: middle;\n",
       "    }\n",
       "\n",
       "    .dataframe tbody tr th {\n",
       "        vertical-align: top;\n",
       "    }\n",
       "\n",
       "    .dataframe thead th {\n",
       "        text-align: right;\n",
       "    }\n",
       "</style>\n",
       "<table border=\"1\" class=\"dataframe\">\n",
       "  <thead>\n",
       "    <tr style=\"text-align: right;\">\n",
       "      <th></th>\n",
       "      <th>index</th>\n",
       "      <th>TID</th>\n",
       "      <th>breadcrumb</th>\n",
       "      <th>category_name</th>\n",
       "      <th>property_type</th>\n",
       "      <th>building_size</th>\n",
       "      <th>land_size</th>\n",
       "      <th>preferred_size</th>\n",
       "      <th>open_date</th>\n",
       "      <th>listing_agency</th>\n",
       "      <th>...</th>\n",
       "      <th>state</th>\n",
       "      <th>zip_code</th>\n",
       "      <th>phone</th>\n",
       "      <th>latitude</th>\n",
       "      <th>longitude</th>\n",
       "      <th>product_depth</th>\n",
       "      <th>bedroom_count</th>\n",
       "      <th>bathroom_count</th>\n",
       "      <th>parking_count</th>\n",
       "      <th>RunDate</th>\n",
       "    </tr>\n",
       "  </thead>\n",
       "  <tbody>\n",
       "    <tr>\n",
       "      <th>0</th>\n",
       "      <td>0</td>\n",
       "      <td>1350988</td>\n",
       "      <td>Buy&gt;NT&gt;DARWIN CITY</td>\n",
       "      <td>Real Estate &amp; Property for sale in DARWIN CITY...</td>\n",
       "      <td>House</td>\n",
       "      <td>NaN</td>\n",
       "      <td>NaN</td>\n",
       "      <td>NaN</td>\n",
       "      <td>Added 2 hours ago</td>\n",
       "      <td>Professionals - DARWIN CITY</td>\n",
       "      <td>...</td>\n",
       "      <td>NT</td>\n",
       "      <td>800</td>\n",
       "      <td>08 8941 8289</td>\n",
       "      <td>NaN</td>\n",
       "      <td>NaN</td>\n",
       "      <td>premiere</td>\n",
       "      <td>2.0</td>\n",
       "      <td>1.0</td>\n",
       "      <td>1.0</td>\n",
       "      <td>2022-05-27 15:54:05</td>\n",
       "    </tr>\n",
       "    <tr>\n",
       "      <th>1</th>\n",
       "      <td>1</td>\n",
       "      <td>1350989</td>\n",
       "      <td>Buy&gt;NT&gt;DARWIN CITY</td>\n",
       "      <td>Real Estate &amp; Property for sale in DARWIN CITY...</td>\n",
       "      <td>Apartment</td>\n",
       "      <td>171m²</td>\n",
       "      <td>NaN</td>\n",
       "      <td>171m²</td>\n",
       "      <td>Added 7 hours ago</td>\n",
       "      <td>Nick Mousellis Real Estate - Eview Group Member</td>\n",
       "      <td>...</td>\n",
       "      <td>NT</td>\n",
       "      <td>800</td>\n",
       "      <td>0411724000</td>\n",
       "      <td>NaN</td>\n",
       "      <td>NaN</td>\n",
       "      <td>premiere</td>\n",
       "      <td>3.0</td>\n",
       "      <td>2.0</td>\n",
       "      <td>2.0</td>\n",
       "      <td>2022-05-27 15:54:05</td>\n",
       "    </tr>\n",
       "    <tr>\n",
       "      <th>2</th>\n",
       "      <td>2</td>\n",
       "      <td>1350990</td>\n",
       "      <td>Buy&gt;NT&gt;DARWIN CITY</td>\n",
       "      <td>Real Estate &amp; Property for sale in DARWIN CITY...</td>\n",
       "      <td>Unit</td>\n",
       "      <td>NaN</td>\n",
       "      <td>NaN</td>\n",
       "      <td>NaN</td>\n",
       "      <td>Added 22 hours ago</td>\n",
       "      <td>Habitat Real Estate - THE GARDENS</td>\n",
       "      <td>...</td>\n",
       "      <td>NT</td>\n",
       "      <td>800</td>\n",
       "      <td>08 8981 0080</td>\n",
       "      <td>NaN</td>\n",
       "      <td>NaN</td>\n",
       "      <td>premiere</td>\n",
       "      <td>2.0</td>\n",
       "      <td>1.0</td>\n",
       "      <td>1.0</td>\n",
       "      <td>2022-05-27 15:54:05</td>\n",
       "    </tr>\n",
       "    <tr>\n",
       "      <th>3</th>\n",
       "      <td>3</td>\n",
       "      <td>1350991</td>\n",
       "      <td>Buy&gt;NT&gt;DARWIN CITY</td>\n",
       "      <td>Real Estate &amp; Property for sale in DARWIN CITY...</td>\n",
       "      <td>House</td>\n",
       "      <td>NaN</td>\n",
       "      <td>NaN</td>\n",
       "      <td>NaN</td>\n",
       "      <td>Added yesterday</td>\n",
       "      <td>Ray White - NIGHTCLIFF</td>\n",
       "      <td>...</td>\n",
       "      <td>NT</td>\n",
       "      <td>800</td>\n",
       "      <td>08 8982 2403</td>\n",
       "      <td>NaN</td>\n",
       "      <td>NaN</td>\n",
       "      <td>premiere</td>\n",
       "      <td>1.0</td>\n",
       "      <td>1.0</td>\n",
       "      <td>0.0</td>\n",
       "      <td>2022-05-27 15:54:05</td>\n",
       "    </tr>\n",
       "    <tr>\n",
       "      <th>4</th>\n",
       "      <td>4</td>\n",
       "      <td>1350992</td>\n",
       "      <td>Buy&gt;NT&gt;DARWIN CITY</td>\n",
       "      <td>Real Estate &amp; Property for sale in DARWIN CITY...</td>\n",
       "      <td>Unit</td>\n",
       "      <td>201m²</td>\n",
       "      <td>NaN</td>\n",
       "      <td>201m²</td>\n",
       "      <td>Added yesterday</td>\n",
       "      <td>Carol Need Real Estate - Fannie Bay</td>\n",
       "      <td>...</td>\n",
       "      <td>NT</td>\n",
       "      <td>800</td>\n",
       "      <td>0418885966</td>\n",
       "      <td>NaN</td>\n",
       "      <td>NaN</td>\n",
       "      <td>premiere</td>\n",
       "      <td>3.0</td>\n",
       "      <td>2.0</td>\n",
       "      <td>2.0</td>\n",
       "      <td>2022-05-27 15:54:05</td>\n",
       "    </tr>\n",
       "  </tbody>\n",
       "</table>\n",
       "<p>5 rows × 27 columns</p>\n",
       "</div>"
      ],
      "text/plain": [
       "   index      TID          breadcrumb  \\\n",
       "0      0  1350988  Buy>NT>DARWIN CITY   \n",
       "1      1  1350989  Buy>NT>DARWIN CITY   \n",
       "2      2  1350990  Buy>NT>DARWIN CITY   \n",
       "3      3  1350991  Buy>NT>DARWIN CITY   \n",
       "4      4  1350992  Buy>NT>DARWIN CITY   \n",
       "\n",
       "                                       category_name property_type  \\\n",
       "0  Real Estate & Property for sale in DARWIN CITY...         House   \n",
       "1  Real Estate & Property for sale in DARWIN CITY...     Apartment   \n",
       "2  Real Estate & Property for sale in DARWIN CITY...          Unit   \n",
       "3  Real Estate & Property for sale in DARWIN CITY...         House   \n",
       "4  Real Estate & Property for sale in DARWIN CITY...          Unit   \n",
       "\n",
       "  building_size land_size preferred_size           open_date  \\\n",
       "0           NaN       NaN            NaN   Added 2 hours ago   \n",
       "1         171m²       NaN          171m²   Added 7 hours ago   \n",
       "2           NaN       NaN            NaN  Added 22 hours ago   \n",
       "3           NaN       NaN            NaN     Added yesterday   \n",
       "4         201m²       NaN          201m²     Added yesterday   \n",
       "\n",
       "                                    listing_agency  ... state  zip_code  \\\n",
       "0                      Professionals - DARWIN CITY  ...    NT       800   \n",
       "1  Nick Mousellis Real Estate - Eview Group Member  ...    NT       800   \n",
       "2                Habitat Real Estate - THE GARDENS  ...    NT       800   \n",
       "3                           Ray White - NIGHTCLIFF  ...    NT       800   \n",
       "4              Carol Need Real Estate - Fannie Bay  ...    NT       800   \n",
       "\n",
       "          phone latitude longitude product_depth bedroom_count bathroom_count  \\\n",
       "0  08 8941 8289      NaN       NaN      premiere           2.0            1.0   \n",
       "1    0411724000      NaN       NaN      premiere           3.0            2.0   \n",
       "2  08 8981 0080      NaN       NaN      premiere           2.0            1.0   \n",
       "3  08 8982 2403      NaN       NaN      premiere           1.0            1.0   \n",
       "4    0418885966      NaN       NaN      premiere           3.0            2.0   \n",
       "\n",
       "   parking_count              RunDate  \n",
       "0            1.0  2022-05-27 15:54:05  \n",
       "1            2.0  2022-05-27 15:54:05  \n",
       "2            1.0  2022-05-27 15:54:05  \n",
       "3            0.0  2022-05-27 15:54:05  \n",
       "4            2.0  2022-05-27 15:54:05  \n",
       "\n",
       "[5 rows x 27 columns]"
      ]
     },
     "execution_count": 2,
     "metadata": {},
     "output_type": "execute_result"
    }
   ],
   "source": [
    "data = pd.read_csv(\"data/RealEstateAU_1000_Samples.csv\")\n",
    "data.head()"
   ]
  },
  {
   "cell_type": "code",
   "execution_count": 3,
   "metadata": {
    "ExecuteTime": {
     "end_time": "2023-02-03T01:44:10.335418Z",
     "start_time": "2023-02-03T01:44:10.321444Z"
    }
   },
   "outputs": [
    {
     "data": {
      "text/html": [
       "<div>\n",
       "<style scoped>\n",
       "    .dataframe tbody tr th:only-of-type {\n",
       "        vertical-align: middle;\n",
       "    }\n",
       "\n",
       "    .dataframe tbody tr th {\n",
       "        vertical-align: top;\n",
       "    }\n",
       "\n",
       "    .dataframe thead th {\n",
       "        text-align: right;\n",
       "    }\n",
       "</style>\n",
       "<table border=\"1\" class=\"dataframe\">\n",
       "  <thead>\n",
       "    <tr style=\"text-align: right;\">\n",
       "      <th></th>\n",
       "      <th>property_type</th>\n",
       "      <th>building_size</th>\n",
       "      <th>land_size</th>\n",
       "      <th>price</th>\n",
       "      <th>product_depth</th>\n",
       "      <th>bedroom_count</th>\n",
       "      <th>bathroom_count</th>\n",
       "      <th>parking_count</th>\n",
       "    </tr>\n",
       "  </thead>\n",
       "  <tbody>\n",
       "    <tr>\n",
       "      <th>0</th>\n",
       "      <td>House</td>\n",
       "      <td>NaN</td>\n",
       "      <td>NaN</td>\n",
       "      <td>$435,000</td>\n",
       "      <td>premiere</td>\n",
       "      <td>2.0</td>\n",
       "      <td>1.0</td>\n",
       "      <td>1.0</td>\n",
       "    </tr>\n",
       "    <tr>\n",
       "      <th>1</th>\n",
       "      <td>Apartment</td>\n",
       "      <td>171m²</td>\n",
       "      <td>NaN</td>\n",
       "      <td>Offers Over $320,000</td>\n",
       "      <td>premiere</td>\n",
       "      <td>3.0</td>\n",
       "      <td>2.0</td>\n",
       "      <td>2.0</td>\n",
       "    </tr>\n",
       "    <tr>\n",
       "      <th>2</th>\n",
       "      <td>Unit</td>\n",
       "      <td>NaN</td>\n",
       "      <td>NaN</td>\n",
       "      <td>$310,000</td>\n",
       "      <td>premiere</td>\n",
       "      <td>2.0</td>\n",
       "      <td>1.0</td>\n",
       "      <td>1.0</td>\n",
       "    </tr>\n",
       "    <tr>\n",
       "      <th>3</th>\n",
       "      <td>House</td>\n",
       "      <td>NaN</td>\n",
       "      <td>NaN</td>\n",
       "      <td>$259,000</td>\n",
       "      <td>premiere</td>\n",
       "      <td>1.0</td>\n",
       "      <td>1.0</td>\n",
       "      <td>0.0</td>\n",
       "    </tr>\n",
       "    <tr>\n",
       "      <th>4</th>\n",
       "      <td>Unit</td>\n",
       "      <td>201m²</td>\n",
       "      <td>NaN</td>\n",
       "      <td>$439,000</td>\n",
       "      <td>premiere</td>\n",
       "      <td>3.0</td>\n",
       "      <td>2.0</td>\n",
       "      <td>2.0</td>\n",
       "    </tr>\n",
       "  </tbody>\n",
       "</table>\n",
       "</div>"
      ],
      "text/plain": [
       "  property_type building_size land_size                 price product_depth  \\\n",
       "0         House           NaN       NaN              $435,000      premiere   \n",
       "1     Apartment         171m²       NaN  Offers Over $320,000      premiere   \n",
       "2          Unit           NaN       NaN              $310,000      premiere   \n",
       "3         House           NaN       NaN              $259,000      premiere   \n",
       "4          Unit         201m²       NaN              $439,000      premiere   \n",
       "\n",
       "   bedroom_count  bathroom_count  parking_count  \n",
       "0            2.0             1.0            1.0  \n",
       "1            3.0             2.0            2.0  \n",
       "2            2.0             1.0            1.0  \n",
       "3            1.0             1.0            0.0  \n",
       "4            3.0             2.0            2.0  "
      ]
     },
     "execution_count": 3,
     "metadata": {},
     "output_type": "execute_result"
    }
   ],
   "source": [
    "# remove columns that are not predictors or target variable\n",
    "removeCol = [\"index\", \"TID\", \"breadcrumb\", \"category_name\", \"open_date\", \n",
    "             \"preferred_size\", \"listing_agency\",\n",
    "             \"location_number\", \"location_type\", \"location_name\", \"address\",\n",
    "            \"address_1\", \"city\", \"state\", \"zip_code\", \"phone\", \"latitude\",\n",
    "            \"longitude\", \"RunDate\"]\n",
    "data_c = data.drop(removeCol, axis = 1)\n",
    "data_c.head()"
   ]
  },
  {
   "cell_type": "markdown",
   "metadata": {},
   "source": [
    "### Property Type and Product Depth Trimming\n",
    "Property types that have less than 10 observations in the dataset, such as acreages and studios, are removed, as well as the mid-tier product depth. This removes many observations with missing values that are difficult to impute on a property type basis."
   ]
  },
  {
   "cell_type": "code",
   "execution_count": 4,
   "metadata": {
    "ExecuteTime": {
     "end_time": "2023-02-03T01:44:10.352026Z",
     "start_time": "2023-02-03T01:44:10.336522Z"
    }
   },
   "outputs": [
    {
     "data": {
      "text/plain": [
       "House                   441\n",
       "Unit                    230\n",
       "Apartment               212\n",
       "Townhouse                38\n",
       "Residential Land         33\n",
       "Duplex/Semi-detached     19\n",
       "Acreage                   9\n",
       "Block Of Units            6\n",
       "Other                     4\n",
       "Villa                     4\n",
       "Studio                    2\n",
       "Lifestyle                 1\n",
       "Warehouse                 1\n",
       "Name: property_type, dtype: int64"
      ]
     },
     "execution_count": 4,
     "metadata": {},
     "output_type": "execute_result"
    }
   ],
   "source": [
    "data_c[\"property_type\"].value_counts()"
   ]
  },
  {
   "cell_type": "code",
   "execution_count": 5,
   "metadata": {
    "ExecuteTime": {
     "end_time": "2023-02-03T01:44:10.367059Z",
     "start_time": "2023-02-03T01:44:10.354178Z"
    }
   },
   "outputs": [
    {
     "data": {
      "text/plain": [
       "premiere    659\n",
       "feature     172\n",
       "standard    162\n",
       "midtier       7\n",
       "Name: product_depth, dtype: int64"
      ]
     },
     "execution_count": 5,
     "metadata": {},
     "output_type": "execute_result"
    }
   ],
   "source": [
    "data_c[\"product_depth\"].value_counts()"
   ]
  },
  {
   "cell_type": "code",
   "execution_count": 6,
   "metadata": {
    "ExecuteTime": {
     "end_time": "2023-02-03T01:44:10.383235Z",
     "start_time": "2023-02-03T01:44:10.369881Z"
    }
   },
   "outputs": [
    {
     "data": {
      "text/html": [
       "<div>\n",
       "<style scoped>\n",
       "    .dataframe tbody tr th:only-of-type {\n",
       "        vertical-align: middle;\n",
       "    }\n",
       "\n",
       "    .dataframe tbody tr th {\n",
       "        vertical-align: top;\n",
       "    }\n",
       "\n",
       "    .dataframe thead th {\n",
       "        text-align: right;\n",
       "    }\n",
       "</style>\n",
       "<table border=\"1\" class=\"dataframe\">\n",
       "  <thead>\n",
       "    <tr style=\"text-align: right;\">\n",
       "      <th></th>\n",
       "      <th>property_type</th>\n",
       "      <th>building_size</th>\n",
       "      <th>land_size</th>\n",
       "      <th>price</th>\n",
       "      <th>product_depth</th>\n",
       "      <th>bedroom_count</th>\n",
       "      <th>bathroom_count</th>\n",
       "      <th>parking_count</th>\n",
       "    </tr>\n",
       "  </thead>\n",
       "  <tbody>\n",
       "    <tr>\n",
       "      <th>0</th>\n",
       "      <td>House</td>\n",
       "      <td>NaN</td>\n",
       "      <td>NaN</td>\n",
       "      <td>$435,000</td>\n",
       "      <td>premiere</td>\n",
       "      <td>2.0</td>\n",
       "      <td>1.0</td>\n",
       "      <td>1.0</td>\n",
       "    </tr>\n",
       "    <tr>\n",
       "      <th>1</th>\n",
       "      <td>Apartment</td>\n",
       "      <td>171m²</td>\n",
       "      <td>NaN</td>\n",
       "      <td>Offers Over $320,000</td>\n",
       "      <td>premiere</td>\n",
       "      <td>3.0</td>\n",
       "      <td>2.0</td>\n",
       "      <td>2.0</td>\n",
       "    </tr>\n",
       "    <tr>\n",
       "      <th>2</th>\n",
       "      <td>Unit</td>\n",
       "      <td>NaN</td>\n",
       "      <td>NaN</td>\n",
       "      <td>$310,000</td>\n",
       "      <td>premiere</td>\n",
       "      <td>2.0</td>\n",
       "      <td>1.0</td>\n",
       "      <td>1.0</td>\n",
       "    </tr>\n",
       "    <tr>\n",
       "      <th>3</th>\n",
       "      <td>House</td>\n",
       "      <td>NaN</td>\n",
       "      <td>NaN</td>\n",
       "      <td>$259,000</td>\n",
       "      <td>premiere</td>\n",
       "      <td>1.0</td>\n",
       "      <td>1.0</td>\n",
       "      <td>0.0</td>\n",
       "    </tr>\n",
       "    <tr>\n",
       "      <th>4</th>\n",
       "      <td>Unit</td>\n",
       "      <td>201m²</td>\n",
       "      <td>NaN</td>\n",
       "      <td>$439,000</td>\n",
       "      <td>premiere</td>\n",
       "      <td>3.0</td>\n",
       "      <td>2.0</td>\n",
       "      <td>2.0</td>\n",
       "    </tr>\n",
       "  </tbody>\n",
       "</table>\n",
       "</div>"
      ],
      "text/plain": [
       "  property_type building_size land_size                 price product_depth  \\\n",
       "0         House           NaN       NaN              $435,000      premiere   \n",
       "1     Apartment         171m²       NaN  Offers Over $320,000      premiere   \n",
       "2          Unit           NaN       NaN              $310,000      premiere   \n",
       "3         House           NaN       NaN              $259,000      premiere   \n",
       "4          Unit         201m²       NaN              $439,000      premiere   \n",
       "\n",
       "   bedroom_count  bathroom_count  parking_count  \n",
       "0            2.0             1.0            1.0  \n",
       "1            3.0             2.0            2.0  \n",
       "2            2.0             1.0            1.0  \n",
       "3            1.0             1.0            0.0  \n",
       "4            3.0             2.0            2.0  "
      ]
     },
     "execution_count": 6,
     "metadata": {},
     "output_type": "execute_result"
    }
   ],
   "source": [
    "removePropType = [\"Residential Land\", \"Acreage\", \"Block Of Units\", \"Other\", \n",
    "                  \"Villa\", \"Studio\", \"Lifestyle\", \"Warehouse\"]\n",
    "data_c2 = data_c[~data_c[\"property_type\"].isin(removePropType)]\n",
    "data_c2 = data_c2[data_c2[\"product_depth\"] != \"midtier\"]\n",
    "\n",
    "data_c2.head()"
   ]
  },
  {
   "cell_type": "markdown",
   "metadata": {},
   "source": [
    "### Building and Land Size Cleaning\n",
    "\n",
    "Building and land size are converted from strings in the original data into a numeric column. Because some properties are in hectares, special care needs to be taken in order to properly convert areas into meters squared."
   ]
  },
  {
   "cell_type": "code",
   "execution_count": 7,
   "metadata": {
    "ExecuteTime": {
     "end_time": "2023-02-03T01:44:10.398339Z",
     "start_time": "2023-02-03T01:44:10.387263Z"
    }
   },
   "outputs": [],
   "source": [
    "# some units are hectare, others meters squared- corrects numbers to be in meteres squared\n",
    "def correctSize(string):\n",
    "    # if the string is a NaN, leave it be; we will impute it later\n",
    "    if(pd.isna(string)): \n",
    "        return\n",
    "    else: \n",
    "        # if the value is in hectares, remove commas and alphabetic letters\n",
    "        # and convert to meters squared\n",
    "        if \"ha\" in string:\n",
    "            return float(re.sub(\"[a-zA-Z,]\", \"\", string))*10000\n",
    "        else:\n",
    "            # else just remove commas and alphabetic letters\n",
    "            string2 = string.replace(\"m²\",\"\")\n",
    "            return float(re.sub(\"[a-zA-Z,]\", \"\", string2))"
   ]
  },
  {
   "cell_type": "code",
   "execution_count": 8,
   "metadata": {
    "ExecuteTime": {
     "end_time": "2023-02-03T01:44:10.430247Z",
     "start_time": "2023-02-03T01:44:10.403753Z"
    }
   },
   "outputs": [
    {
     "data": {
      "text/html": [
       "<div>\n",
       "<style scoped>\n",
       "    .dataframe tbody tr th:only-of-type {\n",
       "        vertical-align: middle;\n",
       "    }\n",
       "\n",
       "    .dataframe tbody tr th {\n",
       "        vertical-align: top;\n",
       "    }\n",
       "\n",
       "    .dataframe thead th {\n",
       "        text-align: right;\n",
       "    }\n",
       "</style>\n",
       "<table border=\"1\" class=\"dataframe\">\n",
       "  <thead>\n",
       "    <tr style=\"text-align: right;\">\n",
       "      <th></th>\n",
       "      <th>property_type</th>\n",
       "      <th>building_size</th>\n",
       "      <th>land_size</th>\n",
       "      <th>price</th>\n",
       "      <th>product_depth</th>\n",
       "      <th>bedroom_count</th>\n",
       "      <th>bathroom_count</th>\n",
       "      <th>parking_count</th>\n",
       "    </tr>\n",
       "  </thead>\n",
       "  <tbody>\n",
       "    <tr>\n",
       "      <th>0</th>\n",
       "      <td>House</td>\n",
       "      <td>NaN</td>\n",
       "      <td>NaN</td>\n",
       "      <td>$435,000</td>\n",
       "      <td>premiere</td>\n",
       "      <td>2.0</td>\n",
       "      <td>1.0</td>\n",
       "      <td>1.0</td>\n",
       "    </tr>\n",
       "    <tr>\n",
       "      <th>1</th>\n",
       "      <td>Apartment</td>\n",
       "      <td>171.0</td>\n",
       "      <td>NaN</td>\n",
       "      <td>Offers Over $320,000</td>\n",
       "      <td>premiere</td>\n",
       "      <td>3.0</td>\n",
       "      <td>2.0</td>\n",
       "      <td>2.0</td>\n",
       "    </tr>\n",
       "    <tr>\n",
       "      <th>2</th>\n",
       "      <td>Unit</td>\n",
       "      <td>NaN</td>\n",
       "      <td>NaN</td>\n",
       "      <td>$310,000</td>\n",
       "      <td>premiere</td>\n",
       "      <td>2.0</td>\n",
       "      <td>1.0</td>\n",
       "      <td>1.0</td>\n",
       "    </tr>\n",
       "    <tr>\n",
       "      <th>3</th>\n",
       "      <td>House</td>\n",
       "      <td>NaN</td>\n",
       "      <td>NaN</td>\n",
       "      <td>$259,000</td>\n",
       "      <td>premiere</td>\n",
       "      <td>1.0</td>\n",
       "      <td>1.0</td>\n",
       "      <td>0.0</td>\n",
       "    </tr>\n",
       "    <tr>\n",
       "      <th>4</th>\n",
       "      <td>Unit</td>\n",
       "      <td>201.0</td>\n",
       "      <td>NaN</td>\n",
       "      <td>$439,000</td>\n",
       "      <td>premiere</td>\n",
       "      <td>3.0</td>\n",
       "      <td>2.0</td>\n",
       "      <td>2.0</td>\n",
       "    </tr>\n",
       "  </tbody>\n",
       "</table>\n",
       "</div>"
      ],
      "text/plain": [
       "  property_type  building_size  land_size                 price product_depth  \\\n",
       "0         House            NaN        NaN              $435,000      premiere   \n",
       "1     Apartment          171.0        NaN  Offers Over $320,000      premiere   \n",
       "2          Unit            NaN        NaN              $310,000      premiere   \n",
       "3         House            NaN        NaN              $259,000      premiere   \n",
       "4          Unit          201.0        NaN              $439,000      premiere   \n",
       "\n",
       "   bedroom_count  bathroom_count  parking_count  \n",
       "0            2.0             1.0            1.0  \n",
       "1            3.0             2.0            2.0  \n",
       "2            2.0             1.0            1.0  \n",
       "3            1.0             1.0            0.0  \n",
       "4            3.0             2.0            2.0  "
      ]
     },
     "execution_count": 8,
     "metadata": {},
     "output_type": "execute_result"
    }
   ],
   "source": [
    "# convert all area variables (building size, land size) to meters squared\n",
    "sizePredictors = [\"building_size\",\"land_size\"]\n",
    "data_c3 = data_c2.copy()\n",
    "data_c3[\"building_size\"] = data_c3[\"building_size\"].apply(correctSize)\n",
    "data_c3[\"land_size\"] = data_c3[\"land_size\"].apply(correctSize)\n",
    "data_c3.head()"
   ]
  },
  {
   "cell_type": "markdown",
   "metadata": {},
   "source": [
    "### Price Cleaning"
   ]
  },
  {
   "cell_type": "markdown",
   "metadata": {},
   "source": [
    "Prices in the original dataset are within strings, and are extracted by a two part process. First, the price is checked if it is a real price instead of a non-numeric value in string format. For example, if the price said \"Under Contract\", the observation was set to NaN. Afterwards, if the price does exist, the string is stripped of alphabetic and other characters before it is converted to a number."
   ]
  },
  {
   "cell_type": "code",
   "execution_count": 9,
   "metadata": {
    "ExecuteTime": {
     "end_time": "2023-02-03T01:44:10.445467Z",
     "start_time": "2023-02-03T01:44:10.433296Z"
    }
   },
   "outputs": [],
   "source": [
    "# if the string has a $, it is a price.\n",
    "def isPrice(string):\n",
    "    if \"$\" in string: \n",
    "        return True\n",
    "    else: \n",
    "        return False"
   ]
  },
  {
   "cell_type": "code",
   "execution_count": 10,
   "metadata": {
    "ExecuteTime": {
     "end_time": "2023-02-03T01:44:10.461008Z",
     "start_time": "2023-02-03T01:44:10.446742Z"
    }
   },
   "outputs": [],
   "source": [
    "def removeAlphabetic(string):\n",
    "    if(pd.isna(string)): #leave nulls as nulls\n",
    "        return np.nan\n",
    "    \n",
    "    # remove alphabetic, comma, and $\n",
    "    string2 = re.sub(\"[a-zA-Z,$]\", \"\", string)\n",
    "    try:\n",
    "        # remove whitespace and turn to a number\n",
    "        return float(string2.replace(\" \",\"\"))\n",
    "    except:\n",
    "        # make it a null value\n",
    "        return np.nan"
   ]
  },
  {
   "cell_type": "code",
   "execution_count": 11,
   "metadata": {
    "ExecuteTime": {
     "end_time": "2023-02-03T01:44:10.492570Z",
     "start_time": "2023-02-03T01:44:10.466378Z"
    }
   },
   "outputs": [
    {
     "data": {
      "text/html": [
       "<div>\n",
       "<style scoped>\n",
       "    .dataframe tbody tr th:only-of-type {\n",
       "        vertical-align: middle;\n",
       "    }\n",
       "\n",
       "    .dataframe tbody tr th {\n",
       "        vertical-align: top;\n",
       "    }\n",
       "\n",
       "    .dataframe thead th {\n",
       "        text-align: right;\n",
       "    }\n",
       "</style>\n",
       "<table border=\"1\" class=\"dataframe\">\n",
       "  <thead>\n",
       "    <tr style=\"text-align: right;\">\n",
       "      <th></th>\n",
       "      <th>property_type</th>\n",
       "      <th>building_size</th>\n",
       "      <th>land_size</th>\n",
       "      <th>price</th>\n",
       "      <th>product_depth</th>\n",
       "      <th>bedroom_count</th>\n",
       "      <th>bathroom_count</th>\n",
       "      <th>parking_count</th>\n",
       "    </tr>\n",
       "  </thead>\n",
       "  <tbody>\n",
       "    <tr>\n",
       "      <th>0</th>\n",
       "      <td>House</td>\n",
       "      <td>NaN</td>\n",
       "      <td>NaN</td>\n",
       "      <td>435000.0</td>\n",
       "      <td>premiere</td>\n",
       "      <td>2.0</td>\n",
       "      <td>1.0</td>\n",
       "      <td>1.0</td>\n",
       "    </tr>\n",
       "    <tr>\n",
       "      <th>1</th>\n",
       "      <td>Apartment</td>\n",
       "      <td>171.0</td>\n",
       "      <td>NaN</td>\n",
       "      <td>320000.0</td>\n",
       "      <td>premiere</td>\n",
       "      <td>3.0</td>\n",
       "      <td>2.0</td>\n",
       "      <td>2.0</td>\n",
       "    </tr>\n",
       "    <tr>\n",
       "      <th>2</th>\n",
       "      <td>Unit</td>\n",
       "      <td>NaN</td>\n",
       "      <td>NaN</td>\n",
       "      <td>310000.0</td>\n",
       "      <td>premiere</td>\n",
       "      <td>2.0</td>\n",
       "      <td>1.0</td>\n",
       "      <td>1.0</td>\n",
       "    </tr>\n",
       "    <tr>\n",
       "      <th>3</th>\n",
       "      <td>House</td>\n",
       "      <td>NaN</td>\n",
       "      <td>NaN</td>\n",
       "      <td>259000.0</td>\n",
       "      <td>premiere</td>\n",
       "      <td>1.0</td>\n",
       "      <td>1.0</td>\n",
       "      <td>0.0</td>\n",
       "    </tr>\n",
       "    <tr>\n",
       "      <th>4</th>\n",
       "      <td>Unit</td>\n",
       "      <td>201.0</td>\n",
       "      <td>NaN</td>\n",
       "      <td>439000.0</td>\n",
       "      <td>premiere</td>\n",
       "      <td>3.0</td>\n",
       "      <td>2.0</td>\n",
       "      <td>2.0</td>\n",
       "    </tr>\n",
       "  </tbody>\n",
       "</table>\n",
       "</div>"
      ],
      "text/plain": [
       "  property_type  building_size  land_size     price product_depth  \\\n",
       "0         House            NaN        NaN  435000.0      premiere   \n",
       "1     Apartment          171.0        NaN  320000.0      premiere   \n",
       "2          Unit            NaN        NaN  310000.0      premiere   \n",
       "3         House            NaN        NaN  259000.0      premiere   \n",
       "4          Unit          201.0        NaN  439000.0      premiere   \n",
       "\n",
       "   bedroom_count  bathroom_count  parking_count  \n",
       "0            2.0             1.0            1.0  \n",
       "1            3.0             2.0            2.0  \n",
       "2            2.0             1.0            1.0  \n",
       "3            1.0             1.0            0.0  \n",
       "4            3.0             2.0            2.0  "
      ]
     },
     "execution_count": 11,
     "metadata": {},
     "output_type": "execute_result"
    }
   ],
   "source": [
    "# set non-prices to null \n",
    "data_c3.loc[~data_c3[\"price\"].apply(isPrice), \"price\"] = np.nan\n",
    "\n",
    "# clean up strings into numbers\n",
    "data_c4 = data_c3.copy()\n",
    "data_c4[\"price\"] = data_c4[\"price\"].apply(removeAlphabetic).copy()\n",
    "data_c4.head()"
   ]
  },
  {
   "cell_type": "markdown",
   "metadata": {},
   "source": [
    "### Data Imputation\n",
    "Because the distribution of our numeric predictors are mostly right skewed, missing data was imputed using the median values for each type of property."
   ]
  },
  {
   "cell_type": "code",
   "execution_count": 12,
   "metadata": {
    "ExecuteTime": {
     "end_time": "2023-02-03T01:44:10.555541Z",
     "start_time": "2023-02-03T01:44:10.495613Z"
    }
   },
   "outputs": [
    {
     "data": {
      "text/html": [
       "<div>\n",
       "<style scoped>\n",
       "    .dataframe tbody tr th:only-of-type {\n",
       "        vertical-align: middle;\n",
       "    }\n",
       "\n",
       "    .dataframe tbody tr th {\n",
       "        vertical-align: top;\n",
       "    }\n",
       "\n",
       "    .dataframe thead th {\n",
       "        text-align: right;\n",
       "    }\n",
       "</style>\n",
       "<table border=\"1\" class=\"dataframe\">\n",
       "  <thead>\n",
       "    <tr style=\"text-align: right;\">\n",
       "      <th></th>\n",
       "      <th>building_size</th>\n",
       "      <th>land_size</th>\n",
       "      <th>price</th>\n",
       "      <th>bedroom_count</th>\n",
       "      <th>bathroom_count</th>\n",
       "      <th>parking_count</th>\n",
       "      <th>property_type</th>\n",
       "      <th>product_depth</th>\n",
       "    </tr>\n",
       "  </thead>\n",
       "  <tbody>\n",
       "    <tr>\n",
       "      <th>0</th>\n",
       "      <td>210.0</td>\n",
       "      <td>804.0</td>\n",
       "      <td>435000.0</td>\n",
       "      <td>2.0</td>\n",
       "      <td>1.0</td>\n",
       "      <td>1.0</td>\n",
       "      <td>House</td>\n",
       "      <td>premiere</td>\n",
       "    </tr>\n",
       "    <tr>\n",
       "      <th>1</th>\n",
       "      <td>171.0</td>\n",
       "      <td>178.0</td>\n",
       "      <td>320000.0</td>\n",
       "      <td>3.0</td>\n",
       "      <td>2.0</td>\n",
       "      <td>2.0</td>\n",
       "      <td>Apartment</td>\n",
       "      <td>premiere</td>\n",
       "    </tr>\n",
       "    <tr>\n",
       "      <th>2</th>\n",
       "      <td>107.0</td>\n",
       "      <td>153.0</td>\n",
       "      <td>310000.0</td>\n",
       "      <td>2.0</td>\n",
       "      <td>1.0</td>\n",
       "      <td>1.0</td>\n",
       "      <td>Unit</td>\n",
       "      <td>premiere</td>\n",
       "    </tr>\n",
       "    <tr>\n",
       "      <th>3</th>\n",
       "      <td>210.0</td>\n",
       "      <td>804.0</td>\n",
       "      <td>259000.0</td>\n",
       "      <td>1.0</td>\n",
       "      <td>1.0</td>\n",
       "      <td>0.0</td>\n",
       "      <td>House</td>\n",
       "      <td>premiere</td>\n",
       "    </tr>\n",
       "    <tr>\n",
       "      <th>4</th>\n",
       "      <td>201.0</td>\n",
       "      <td>153.0</td>\n",
       "      <td>439000.0</td>\n",
       "      <td>3.0</td>\n",
       "      <td>2.0</td>\n",
       "      <td>2.0</td>\n",
       "      <td>Unit</td>\n",
       "      <td>premiere</td>\n",
       "    </tr>\n",
       "  </tbody>\n",
       "</table>\n",
       "</div>"
      ],
      "text/plain": [
       "   building_size  land_size     price  bedroom_count  bathroom_count  \\\n",
       "0          210.0      804.0  435000.0            2.0             1.0   \n",
       "1          171.0      178.0  320000.0            3.0             2.0   \n",
       "2          107.0      153.0  310000.0            2.0             1.0   \n",
       "3          210.0      804.0  259000.0            1.0             1.0   \n",
       "4          201.0      153.0  439000.0            3.0             2.0   \n",
       "\n",
       "   parking_count property_type product_depth  \n",
       "0            1.0         House      premiere  \n",
       "1            2.0     Apartment      premiere  \n",
       "2            1.0          Unit      premiere  \n",
       "3            0.0         House      premiere  \n",
       "4            2.0          Unit      premiere  "
      ]
     },
     "execution_count": 12,
     "metadata": {},
     "output_type": "execute_result"
    }
   ],
   "source": [
    "# group by property type, then fill in missing values with the median\n",
    "data_c5 = data_c4.groupby(\"property_type\").transform(lambda x: x.fillna(x.median()))\n",
    "data_c5[\"property_type\"] = data_c4[\"property_type\"]\n",
    "data_c5[\"product_depth\"] = data_c4[\"product_depth\"]\n",
    "data_c5.head()"
   ]
  },
  {
   "cell_type": "markdown",
   "metadata": {},
   "source": [
    "### Outlier Removal in Building Size, Land Size, and Price"
   ]
  },
  {
   "cell_type": "markdown",
   "metadata": {},
   "source": [
    "Lastly, outlier observations in building size, land size, and price were removed to produce better fitting models."
   ]
  },
  {
   "cell_type": "code",
   "execution_count": 13,
   "metadata": {
    "ExecuteTime": {
     "end_time": "2023-02-03T01:44:10.570987Z",
     "start_time": "2023-02-03T01:44:10.557977Z"
    }
   },
   "outputs": [],
   "source": [
    "def getQuantiles(column):\n",
    "    quantiles = np.quantile(column, [0, 0.25, 0.5, 0.75, 1])\n",
    "    q1 = quantiles[1]\n",
    "    q3 = quantiles[3]\n",
    "    return [q1, q3]"
   ]
  },
  {
   "cell_type": "code",
   "execution_count": 14,
   "metadata": {
    "ExecuteTime": {
     "end_time": "2023-02-03T01:44:10.587073Z",
     "start_time": "2023-02-03T01:44:10.571973Z"
    }
   },
   "outputs": [],
   "source": [
    "# remove outliers in price\n",
    "quantiles = getQuantiles(data_c5[\"price\"])\n",
    "iqr = quantiles[1]-quantiles[0]\n",
    "data_c6 = data_c5.loc[(data_c5[\"price\"] <= quantiles[1] + 1.5*iqr) & \n",
    "                      (data_c5[\"price\"] >= 0) &\n",
    "                     (data_c5[\"price\"] >= quantiles[0] - 1.5*iqr)]"
   ]
  },
  {
   "cell_type": "code",
   "execution_count": 15,
   "metadata": {
    "ExecuteTime": {
     "end_time": "2023-02-03T01:44:10.603232Z",
     "start_time": "2023-02-03T01:44:10.589395Z"
    }
   },
   "outputs": [],
   "source": [
    "# remove outliers in building size\n",
    "quantiles = getQuantiles(data_c6[\"building_size\"])\n",
    "iqr = quantiles[1]-quantiles[0]\n",
    "data_c7 = data_c6.loc[(data_c6[\"building_size\"] <= quantiles[1] + 1.5*iqr) & \n",
    "                      (data_c6[\"building_size\"] >= 0) &\n",
    "                     (data_c6[\"building_size\"] >= quantiles[0] - 1.5*iqr)]"
   ]
  },
  {
   "cell_type": "code",
   "execution_count": 16,
   "metadata": {
    "ExecuteTime": {
     "end_time": "2023-02-03T01:44:10.618527Z",
     "start_time": "2023-02-03T01:44:10.605199Z"
    }
   },
   "outputs": [],
   "source": [
    "# remove outliers in land size\n",
    "quantiles = getQuantiles(data_c7[\"land_size\"])\n",
    "iqr = quantiles[1]-quantiles[0]\n",
    "data_c8 = data_c7.loc[(data_c7[\"land_size\"] <= quantiles[1] + 1.5*iqr) & \n",
    "                      (data_c7[\"land_size\"] >= 0) &\n",
    "                     (data_c7[\"land_size\"] >= quantiles[0] - 1.5*iqr)]"
   ]
  },
  {
   "cell_type": "code",
   "execution_count": 17,
   "metadata": {
    "ExecuteTime": {
     "end_time": "2023-02-03T01:44:10.649204Z",
     "start_time": "2023-02-03T01:44:10.619697Z"
    }
   },
   "outputs": [
    {
     "data": {
      "text/html": [
       "<div>\n",
       "<style scoped>\n",
       "    .dataframe tbody tr th:only-of-type {\n",
       "        vertical-align: middle;\n",
       "    }\n",
       "\n",
       "    .dataframe tbody tr th {\n",
       "        vertical-align: top;\n",
       "    }\n",
       "\n",
       "    .dataframe thead th {\n",
       "        text-align: right;\n",
       "    }\n",
       "</style>\n",
       "<table border=\"1\" class=\"dataframe\">\n",
       "  <thead>\n",
       "    <tr style=\"text-align: right;\">\n",
       "      <th></th>\n",
       "      <th>building_size</th>\n",
       "      <th>land_size</th>\n",
       "      <th>price</th>\n",
       "      <th>bedroom_count</th>\n",
       "      <th>bathroom_count</th>\n",
       "      <th>parking_count</th>\n",
       "      <th>property_type</th>\n",
       "      <th>product_depth</th>\n",
       "    </tr>\n",
       "  </thead>\n",
       "  <tbody>\n",
       "    <tr>\n",
       "      <th>784</th>\n",
       "      <td>198.0</td>\n",
       "      <td>178.0</td>\n",
       "      <td>450000.0</td>\n",
       "      <td>3.0</td>\n",
       "      <td>2.0</td>\n",
       "      <td>2.0</td>\n",
       "      <td>Apartment</td>\n",
       "      <td>premiere</td>\n",
       "    </tr>\n",
       "    <tr>\n",
       "      <th>312</th>\n",
       "      <td>210.0</td>\n",
       "      <td>818.0</td>\n",
       "      <td>420000.0</td>\n",
       "      <td>3.0</td>\n",
       "      <td>1.0</td>\n",
       "      <td>4.0</td>\n",
       "      <td>House</td>\n",
       "      <td>premiere</td>\n",
       "    </tr>\n",
       "    <tr>\n",
       "      <th>380</th>\n",
       "      <td>210.0</td>\n",
       "      <td>804.0</td>\n",
       "      <td>490000.0</td>\n",
       "      <td>3.0</td>\n",
       "      <td>2.0</td>\n",
       "      <td>2.0</td>\n",
       "      <td>House</td>\n",
       "      <td>premiere</td>\n",
       "    </tr>\n",
       "    <tr>\n",
       "      <th>327</th>\n",
       "      <td>135.0</td>\n",
       "      <td>178.0</td>\n",
       "      <td>380000.0</td>\n",
       "      <td>3.0</td>\n",
       "      <td>2.0</td>\n",
       "      <td>2.0</td>\n",
       "      <td>Apartment</td>\n",
       "      <td>standard</td>\n",
       "    </tr>\n",
       "    <tr>\n",
       "      <th>317</th>\n",
       "      <td>210.0</td>\n",
       "      <td>813.0</td>\n",
       "      <td>435000.0</td>\n",
       "      <td>3.0</td>\n",
       "      <td>1.0</td>\n",
       "      <td>2.0</td>\n",
       "      <td>House</td>\n",
       "      <td>premiere</td>\n",
       "    </tr>\n",
       "    <tr>\n",
       "      <th>895</th>\n",
       "      <td>210.0</td>\n",
       "      <td>804.0</td>\n",
       "      <td>500000.0</td>\n",
       "      <td>4.0</td>\n",
       "      <td>2.0</td>\n",
       "      <td>2.0</td>\n",
       "      <td>House</td>\n",
       "      <td>feature</td>\n",
       "    </tr>\n",
       "    <tr>\n",
       "      <th>229</th>\n",
       "      <td>210.0</td>\n",
       "      <td>343.0</td>\n",
       "      <td>555000.0</td>\n",
       "      <td>4.0</td>\n",
       "      <td>2.0</td>\n",
       "      <td>2.0</td>\n",
       "      <td>House</td>\n",
       "      <td>premiere</td>\n",
       "    </tr>\n",
       "    <tr>\n",
       "      <th>160</th>\n",
       "      <td>172.0</td>\n",
       "      <td>178.0</td>\n",
       "      <td>559000.0</td>\n",
       "      <td>2.0</td>\n",
       "      <td>2.0</td>\n",
       "      <td>1.0</td>\n",
       "      <td>Apartment</td>\n",
       "      <td>standard</td>\n",
       "    </tr>\n",
       "    <tr>\n",
       "      <th>919</th>\n",
       "      <td>149.0</td>\n",
       "      <td>804.0</td>\n",
       "      <td>515000.0</td>\n",
       "      <td>4.0</td>\n",
       "      <td>2.0</td>\n",
       "      <td>2.0</td>\n",
       "      <td>House</td>\n",
       "      <td>premiere</td>\n",
       "    </tr>\n",
       "    <tr>\n",
       "      <th>836</th>\n",
       "      <td>155.0</td>\n",
       "      <td>487.0</td>\n",
       "      <td>555000.0</td>\n",
       "      <td>3.0</td>\n",
       "      <td>2.0</td>\n",
       "      <td>2.0</td>\n",
       "      <td>House</td>\n",
       "      <td>premiere</td>\n",
       "    </tr>\n",
       "  </tbody>\n",
       "</table>\n",
       "</div>"
      ],
      "text/plain": [
       "     building_size  land_size     price  bedroom_count  bathroom_count  \\\n",
       "784          198.0      178.0  450000.0            3.0             2.0   \n",
       "312          210.0      818.0  420000.0            3.0             1.0   \n",
       "380          210.0      804.0  490000.0            3.0             2.0   \n",
       "327          135.0      178.0  380000.0            3.0             2.0   \n",
       "317          210.0      813.0  435000.0            3.0             1.0   \n",
       "895          210.0      804.0  500000.0            4.0             2.0   \n",
       "229          210.0      343.0  555000.0            4.0             2.0   \n",
       "160          172.0      178.0  559000.0            2.0             2.0   \n",
       "919          149.0      804.0  515000.0            4.0             2.0   \n",
       "836          155.0      487.0  555000.0            3.0             2.0   \n",
       "\n",
       "     parking_count property_type product_depth  \n",
       "784            2.0     Apartment      premiere  \n",
       "312            4.0         House      premiere  \n",
       "380            2.0         House      premiere  \n",
       "327            2.0     Apartment      standard  \n",
       "317            2.0         House      premiere  \n",
       "895            2.0         House       feature  \n",
       "229            2.0         House      premiere  \n",
       "160            1.0     Apartment      standard  \n",
       "919            2.0         House      premiere  \n",
       "836            2.0         House      premiere  "
      ]
     },
     "execution_count": 17,
     "metadata": {},
     "output_type": "execute_result"
    }
   ],
   "source": [
    "# produce clean data\n",
    "data_clean = data_c8.copy()\n",
    "data_clean.sample(10, random_state = 123)"
   ]
  },
  {
   "cell_type": "code",
   "execution_count": 18,
   "metadata": {
    "ExecuteTime": {
     "end_time": "2023-02-03T01:44:10.664775Z",
     "start_time": "2023-02-03T01:44:10.651582Z"
    }
   },
   "outputs": [],
   "source": [
    "#export data\n",
    "filepath = \"data/\"\n",
    "data_clean.to_csv(filepath+\"data_clean.csv\", index = False)"
   ]
  },
  {
   "cell_type": "markdown",
   "metadata": {},
   "source": [
    "## Modeling\n",
    "\n",
    "Root Mean Squared Error (RMSE) was the best option for performance metric. This is because the measure punishes performance exponentially more the further the predicted value is from the true housing price. Additionally, it is easier to interpret, as the average error is in Australian dollars (AUD)."
   ]
  },
  {
   "cell_type": "code",
   "execution_count": 19,
   "metadata": {
    "ExecuteTime": {
     "end_time": "2023-02-03T01:44:11.190589Z",
     "start_time": "2023-02-03T01:44:10.669527Z"
    }
   },
   "outputs": [],
   "source": [
    "# import machine learning packages\n",
    "from sklearn.preprocessing import StandardScaler, OneHotEncoder\n",
    "from sklearn.compose import ColumnTransformer\n",
    "from sklearn.model_selection import train_test_split, cross_val_score\n",
    "from sklearn.pipeline import Pipeline\n",
    "from sklearn.metrics import mean_squared_error, mean_absolute_error\n",
    "\n",
    "from sklearn.tree import DecisionTreeRegressor, plot_tree\n",
    "from sklearn.model_selection import GridSearchCV\n",
    "from sklearn.ensemble import GradientBoostingRegressor"
   ]
  },
  {
   "cell_type": "markdown",
   "metadata": {},
   "source": [
    "### Data Import and Split"
   ]
  },
  {
   "cell_type": "code",
   "execution_count": 20,
   "metadata": {
    "ExecuteTime": {
     "end_time": "2023-02-03T01:44:11.206184Z",
     "start_time": "2023-02-03T01:44:11.192664Z"
    }
   },
   "outputs": [],
   "source": [
    "# import our cleaned data\n",
    "data = pd.read_csv(\"data/data_clean.csv\", index_col = False)\n",
    "# define our features that are categories\n",
    "# these features will be encoded later\n",
    "categories = [\"property_type\",\"product_depth\"]\n",
    "data[categories] = data[categories].apply(lambda x: x.astype(\"category\"))"
   ]
  },
  {
   "cell_type": "code",
   "execution_count": 21,
   "metadata": {
    "ExecuteTime": {
     "end_time": "2023-02-03T01:44:11.222348Z",
     "start_time": "2023-02-03T01:44:11.208186Z"
    }
   },
   "outputs": [],
   "source": [
    "# set our predictors and target variables\n",
    "X = data.drop(\"price\", axis = 1)\n",
    "y = data[\"price\"]"
   ]
  },
  {
   "cell_type": "code",
   "execution_count": 22,
   "metadata": {
    "ExecuteTime": {
     "end_time": "2023-02-03T01:44:11.238233Z",
     "start_time": "2023-02-03T01:44:11.223671Z"
    }
   },
   "outputs": [],
   "source": [
    "# split our data into training and testing data (75% training, 25% testing)\n",
    "X_train, X_test, y_train, y_test = train_test_split(X, y, test_size = 0.25, random_state = 123)"
   ]
  },
  {
   "cell_type": "markdown",
   "metadata": {},
   "source": [
    "### Data Pipeline and Functions"
   ]
  },
  {
   "cell_type": "code",
   "execution_count": 23,
   "metadata": {
    "ExecuteTime": {
     "end_time": "2023-02-03T01:44:11.253535Z",
     "start_time": "2023-02-03T01:44:11.242640Z"
    }
   },
   "outputs": [],
   "source": [
    "# set up scaling step for numeric columns\n",
    "nums = X.drop(categories, axis = 1).columns\n",
    "num_trans = Pipeline(\n",
    "    steps = [(\"scaler\", StandardScaler())]\n",
    ")\n",
    "\n",
    "# set up one hot encoder for categorical variables\n",
    "cat_trans = OneHotEncoder(handle_unknown = \"ignore\")\n",
    "\n",
    "# combine scaling and encoding into a single column transformer\n",
    "processor = ColumnTransformer(\n",
    "    transformers = [\n",
    "        (\"num\", num_trans, nums),\n",
    "        (\"cat\", cat_trans, categories)\n",
    "    ]\n",
    ")"
   ]
  },
  {
   "cell_type": "code",
   "execution_count": 24,
   "metadata": {
    "ExecuteTime": {
     "end_time": "2023-02-03T01:44:11.269100Z",
     "start_time": "2023-02-03T01:44:11.257005Z"
    }
   },
   "outputs": [],
   "source": [
    "# build a pipeline using the preprocessor ColumnTransformer\n",
    "# and the model specified\n",
    "def pipeMaker(model):\n",
    "    # two steps:\n",
    "    # - a preprocessing step to encode and scale the data\n",
    "    # - a model step to fit the model on the transformed data\n",
    "    pipe = Pipeline(\n",
    "        steps = [(\"preprocessor\", processor), (\"model\", model)]\n",
    "    ) \n",
    "    return pipe"
   ]
  },
  {
   "cell_type": "code",
   "execution_count": 25,
   "metadata": {
    "ExecuteTime": {
     "end_time": "2023-02-03T01:44:11.284856Z",
     "start_time": "2023-02-03T01:44:11.272422Z"
    }
   },
   "outputs": [],
   "source": [
    "# prints out model metrics\n",
    "def printMetrics(string, y_train_pred, y_train, y_test_pred, y_test):\n",
    "    # model label\n",
    "    print(string + \" Performance\")\n",
    "    \n",
    "    # training regression metrics\n",
    "    print(\"\\nTraining\")\n",
    "    print(\"RMSE: \"+ str(mean_squared_error(y_train, y_train_pred, squared = False)))\n",
    "    print(\"MAE: \"+ str(mean_absolute_error(y_train, y_train_pred)))\n",
    "    \n",
    "    # testing regression metrics\n",
    "    print(\"\\nTest\")\n",
    "    print(\"RMSE: \"+ str(mean_squared_error(y_test, y_test_pred, squared = False)))\n",
    "    print(\"MAE: \"+ str(mean_absolute_error(y_test, y_test_pred)))"
   ]
  },
  {
   "cell_type": "code",
   "execution_count": 26,
   "metadata": {
    "ExecuteTime": {
     "end_time": "2023-02-03T01:44:11.300429Z",
     "start_time": "2023-02-03T01:44:11.287091Z"
    }
   },
   "outputs": [],
   "source": [
    "# get model performance, comparing training and testing metrics\n",
    "def getModelPerf(string, pipe, X_train, y_train, X_test, y_test):\n",
    "    # get predicted train/test values\n",
    "    y_train_pred = pipe.predict(X_train)\n",
    "    y_test_pred = pipe.predict(X_test)\n",
    "    \n",
    "    # prints out model performance metrics\n",
    "    printMetrics(string, y_train_pred, y_train, y_test_pred, y_test)   "
   ]
  },
  {
   "cell_type": "markdown",
   "metadata": {},
   "source": [
    "### Baseline Model\n",
    "We use the overall median housing prices as our baseline, as prices possessed a right-skewed distribution. \n",
    "\n",
    "This leaves us with an average test error of 124,670.86 AUD- on average, this model will predict a price that is 124,670.86 AUD off of the true price of the property."
   ]
  },
  {
   "cell_type": "code",
   "execution_count": 27,
   "metadata": {
    "ExecuteTime": {
     "end_time": "2023-02-03T01:44:11.316051Z",
     "start_time": "2023-02-03T01:44:11.301491Z"
    }
   },
   "outputs": [],
   "source": [
    "# make the predicted values the overall median housing price\n",
    "pred_train = [np.median(data[\"price\"])] * len(y_train)\n",
    "pred_test = [np.median(data[\"price\"])] * len(y_test)"
   ]
  },
  {
   "cell_type": "code",
   "execution_count": 28,
   "metadata": {
    "ExecuteTime": {
     "end_time": "2023-02-03T01:44:11.331269Z",
     "start_time": "2023-02-03T01:44:11.317211Z"
    }
   },
   "outputs": [
    {
     "name": "stdout",
     "output_type": "stream",
     "text": [
      "Baseline (median) Model Performance\n",
      "\n",
      "Training\n",
      "RMSE: 140709.85860185194\n",
      "MAE: 112789.31962025317\n",
      "\n",
      "Test\n",
      "RMSE: 124670.31404384715\n",
      "MAE: 98649.28909952607\n"
     ]
    }
   ],
   "source": [
    "# baseline model performance\n",
    "printMetrics(\"Baseline (median) Model\", pred_train, y_train, pred_test, y_test)   "
   ]
  },
  {
   "cell_type": "markdown",
   "metadata": {},
   "source": [
    "### Decision Tree\n",
    "Decision trees are quick to create, which allows swift training to build up-to-date models. This type of model should also provide improved peformance compared to the baseline. To optimize performance, GridSearchCV was used to find the set of hyperparameters that led to the best model performance. \n",
    "\n",
    "This resulted in a model with an average price test error of 94,997.47 AUD."
   ]
  },
  {
   "cell_type": "code",
   "execution_count": 29,
   "metadata": {
    "ExecuteTime": {
     "end_time": "2023-02-03T01:44:25.960218Z",
     "start_time": "2023-02-03T01:44:11.332784Z"
    }
   },
   "outputs": [
    {
     "data": {
      "text/plain": [
       "{'model__max_depth': 10,\n",
       " 'model__max_features': 'sqrt',\n",
       " 'model__min_samples_leaf': 5,\n",
       " 'model__min_samples_split': 5}"
      ]
     },
     "execution_count": 29,
     "metadata": {},
     "output_type": "execute_result"
    }
   ],
   "source": [
    "# decision tree pipeline\n",
    "regress_dt = DecisionTreeRegressor(random_state = 123, ccp_alpha = 0.1)\n",
    "dt = pipeMaker(regress_dt)\n",
    "\n",
    "# determine best parameters using a parameter grid\n",
    "param_grid = {\n",
    "    'model__max_depth': [1, 3, 5, 10],\n",
    "    'model__min_samples_split': [5, 10, 20],\n",
    "    'model__min_samples_leaf':[5, 10, 15],\n",
    "    'model__max_features':[\"auto\", \"sqrt\", \"log2\"] \n",
    "}\n",
    "\n",
    "# use gridsearchCV to determine which model params lead to the best model\n",
    "# based on RMSE\n",
    "# cross-validated 10 times\n",
    "dt_test = GridSearchCV(dt, param_grid, cv=10, scoring = \"neg_mean_squared_error\")\n",
    "dt_test.fit(X_train, y_train)\n",
    "dt_test.best_params_"
   ]
  },
  {
   "cell_type": "code",
   "execution_count": 30,
   "metadata": {
    "ExecuteTime": {
     "end_time": "2023-02-03T01:44:25.990630Z",
     "start_time": "2023-02-03T01:44:25.961237Z"
    }
   },
   "outputs": [
    {
     "name": "stdout",
     "output_type": "stream",
     "text": [
      "Decision Tree Model Performance\n",
      "\n",
      "Training\n",
      "RMSE: 88948.44202486823\n",
      "MAE: 67639.61169522975\n",
      "\n",
      "Test\n",
      "RMSE: 94997.46552529749\n",
      "MAE: 71849.56353578318\n"
     ]
    }
   ],
   "source": [
    "# notable improvement over baseline \n",
    "# (~125k baseline vs ~95k decision tree test errors)\n",
    "getModelPerf(\"Decision Tree Model\", dt_test, X_train, y_train, X_test, y_test)"
   ]
  },
  {
   "cell_type": "markdown",
   "metadata": {},
   "source": [
    "### Gradient Boosting\n",
    "Gradient boosting models are typically more powerful than decision tree, making it worthwhile to search for significant performance increases for the housing price regression despite the longer runtime. By using a gradient boosting model, the housing price error can be reduced, giving more accurate predictions on average for potential homeowners. \n",
    "\n",
    "The gradient boosting model had an average price test error of 87,969.37 AUD."
   ]
  },
  {
   "cell_type": "code",
   "execution_count": 31,
   "metadata": {
    "ExecuteTime": {
     "end_time": "2023-02-03T01:46:09.390727Z",
     "start_time": "2023-02-03T01:44:25.992232Z"
    }
   },
   "outputs": [
    {
     "data": {
      "text/plain": [
       "{'model__max_depth': 3,\n",
       " 'model__max_features': 'sqrt',\n",
       " 'model__min_samples_leaf': 1,\n",
       " 'model__min_samples_split': 20}"
      ]
     },
     "execution_count": 31,
     "metadata": {},
     "output_type": "execute_result"
    }
   ],
   "source": [
    "# set up gradient boosting model\n",
    "regress_gb = GradientBoostingRegressor(random_state = 123, ccp_alpha = 0.01)\n",
    "\n",
    "# decision tree pipeline\n",
    "gb = pipeMaker(regress_gb)\n",
    "\n",
    "# determine best parameters\n",
    "param_grid = {\n",
    "    'model__max_depth': [3, 5, 10],\n",
    "    'model__min_samples_split': [5, 10, 20],\n",
    "    'model__min_samples_leaf':[1, 5, 10, 15],\n",
    "    'model__max_features':[\"auto\", \"sqrt\", \"log2\"],\n",
    "}\n",
    "\n",
    "# use gridsearchCV to determine which model params lead to the best model\n",
    "# based on RMSE\n",
    "# cross-validated 10 times\n",
    "gb_test = GridSearchCV(gb, param_grid, cv=10, scoring = \"neg_mean_squared_error\")\n",
    "gb_test.fit(X_train, y_train)\n",
    "gb_test.best_params_"
   ]
  },
  {
   "cell_type": "code",
   "execution_count": 32,
   "metadata": {
    "ExecuteTime": {
     "end_time": "2023-02-03T01:46:09.422778Z",
     "start_time": "2023-02-03T01:46:09.391855Z"
    }
   },
   "outputs": [
    {
     "name": "stdout",
     "output_type": "stream",
     "text": [
      "Gradient Boosting Model Performance\n",
      "\n",
      "Training\n",
      "RMSE: 80903.03003981354\n",
      "MAE: 62168.32768203028\n",
      "\n",
      "Test\n",
      "RMSE: 87969.36918240116\n",
      "MAE: 68884.80788929528\n"
     ]
    }
   ],
   "source": [
    "# best gradient boosting model according to gridsearchCV in both RMSE and MAE\n",
    "# improved performance over decision tree, and no overfitting\n",
    "getModelPerf(\"Gradient Boosting Model\", gb_test, X_train, y_train, X_test, y_test)"
   ]
  },
  {
   "cell_type": "markdown",
   "metadata": {
    "ExecuteTime": {
     "end_time": "2023-01-07T01:28:26.763491Z",
     "start_time": "2023-01-07T01:28:26.749637Z"
    }
   },
   "source": [
    "### Gradient Boosting (Subsampled)\n",
    "By using subsampling, any overfitting in the model from the small sample size could be reduced, potentially leading to performance improvements over the original gradient boosting model. This allows for a more generalized model for predicting housing prices. \n",
    "\n",
    "Adding subsampling = 0.5 led to an average price test error of 85,967.02 AUD."
   ]
  },
  {
   "cell_type": "code",
   "execution_count": 33,
   "metadata": {
    "ExecuteTime": {
     "end_time": "2023-02-03T01:46:09.438306Z",
     "start_time": "2023-02-03T01:46:09.425412Z"
    }
   },
   "outputs": [],
   "source": [
    "# make the following adjustments to reduce overfitting:\n",
    "# - add subsample = 0.5 (regularization to reduce variance)\n",
    "# cross-validated 10 times\n",
    "regress_gb2 = GradientBoostingRegressor(random_state = 123, ccp_alpha = 0.01, \n",
    "                                     max_depth = 3, min_samples_leaf = 1, \n",
    "                                    min_samples_split = 20, max_features = \"sqrt\",\n",
    "                                       subsample = 0.5)\n",
    "gb2 = pipeMaker(regress_gb2)"
   ]
  },
  {
   "cell_type": "code",
   "execution_count": 34,
   "metadata": {
    "ExecuteTime": {
     "end_time": "2023-02-03T01:46:09.547010Z",
     "start_time": "2023-02-03T01:46:09.440701Z"
    }
   },
   "outputs": [
    {
     "name": "stdout",
     "output_type": "stream",
     "text": [
      "Gradient Boosting Model (Subsampled) Performance\n",
      "\n",
      "Training\n",
      "RMSE: 81767.37901169198\n",
      "MAE: 63618.012762477236\n",
      "\n",
      "Test\n",
      "RMSE: 85967.02244773197\n",
      "MAE: 65196.84907461885\n"
     ]
    }
   ],
   "source": [
    "# subsampled gradient boosting model is actually improved\n",
    "# improved performance over original gradient boosting\n",
    "# lower errors and closer training/test results -> better generalized\n",
    "gb2.fit(X_train, y_train)\n",
    "getModelPerf(\"Gradient Boosting Model (Subsampled)\", gb2, X_train, y_train, X_test, y_test)"
   ]
  },
  {
   "cell_type": "markdown",
   "metadata": {
    "ExecuteTime": {
     "end_time": "2023-01-07T01:09:11.620966Z",
     "start_time": "2023-01-07T01:09:11.611642Z"
    }
   },
   "source": [
    "## Evaluation"
   ]
  },
  {
   "cell_type": "markdown",
   "metadata": {},
   "source": [
    "| Model | RMSE (AUD)|\n",
    "| --- | --- |\n",
    "| Baseline | 124,670.31 |\n",
    "| Decision Tree | 94,997.47 |\n",
    "| Gradient Boosting | 87,969.37 |\n",
    "| Gradient Boosting (subsampled) | 85,967.02 |"
   ]
  },
  {
   "cell_type": "markdown",
   "metadata": {},
   "source": [
    "**Table 4: RMSE performance between models.**"
   ]
  },
  {
   "cell_type": "markdown",
   "metadata": {},
   "source": [
    "In context of the business issue, the model with the lowest RMSE would be the best. For potential buyers, if a model can predict a housing price closer to the true value of the property, they can make more informed choices about whether to purchase or pass on it. This would allow them to avoid properties whose listing prices are significantly different than the predicted \"true price\" as well as determine which properties can be brought at a discount. As an example, a model that predicts the true price within 30,000 AUD of the true price would be better than one which predicts within 100,000 AUD- it would be more precise.\n",
    "\n",
    "Because of this, the gradient boosting model with subsampling is the best model, offering an approximately 31% performance improvement over the baseline. On average, it will predict a housing price that is 85,967.02 AUD of the true price."
   ]
  },
  {
   "cell_type": "markdown",
   "metadata": {
    "ExecuteTime": {
     "end_time": "2023-01-07T01:09:21.958530Z",
     "start_time": "2023-01-07T01:09:21.951317Z"
    }
   },
   "source": [
    "## Conclusion"
   ]
  },
  {
   "cell_type": "markdown",
   "metadata": {},
   "source": [
    "The final model is intended to be used by people who hope to become future property owners within the Australian housing market. For many, house hunting can be both difficult and time consuming. The addition of rampant underquoting as well as rising housing prices year after year makes it crucial for buyers to find a good deal that meets their requirements. If used as intended, the model will allow potential buyers the ability to more quickly determine which homes are truly within their price range, avoiding the trap of underquoted listings, as well as discover homes at a discount, which saves them both money and time.\n",
    "\n",
    "Still, there are various improvements possible for the model. The relatively small sample of the dataset used to develop the gradient boosting model with subsampling makes it possible that the model will perform poorly when faced with out-of-sample cases. Training the model on a larger dataset will both reduce potential issues with overfitting as well as expand the number of cases that it can handle. Additionally, as noted in a prior section, the dataset utilizes listing prices, which can be affected by the very prevalent issue of underquoting in the Australian real estate industry. Using data of sold housing would bring the models closer to their intended purpose. \n",
    "\n",
    "By making these adjustments, future homeowners will be able to more easily find a property they can call home until Australia can resolve its housing affordability issue."
   ]
  },
  {
   "cell_type": "markdown",
   "metadata": {},
   "source": [
    "## Works Cited\n",
    "\n",
    "[1] Granwal, L. *Residential housing market in Australia - statistics & facts*. Statista, 12 Dec 2022, [https://www.statista.com/topics/4987/residential-housing-market-in-australia/#topicHeader__wrapper](https://www.statista.com/topics/4987/residential-housing-market-in-australia/#topicHeader__wrapper). Accessed 2 Jan 2023.\n",
    "\n",
    "[2] Buchholz, Katharina. *Where It’s Hardest to Afford a Home*. Statista, 21 Mar 2022, [https://www.statista.com/chart/16902/places-where-its-hardest-to-afford-a-home/](https://www.statista.com/chart/16902/places-where-its-hardest-to-afford-a-home/). Accessed 2 Jan 2023.\n",
    "\n",
    "[3] Cassidy, Caitlin. *Underquoting in Australian real estate industry is leaving buyers feeling betrayed.* The Guardian, 26 Aug 2022. [https://www.theguardian.com/business/2022/aug/27/underquoting-in-australian-real-estate-industry-is-leaving-buyers-feeling-betrayed](https://www.theguardian.com/business/2022/aug/27/underquoting-in-australian-real-estate-industry-is-leaving-buyers-feeling-betrayed). Accessed 3 Jan 2023."
   ]
  }
 ],
 "metadata": {
  "kernelspec": {
   "display_name": "Python (learn-env)",
   "language": "python",
   "name": "learn-env"
  },
  "language_info": {
   "codemirror_mode": {
    "name": "ipython",
    "version": 3
   },
   "file_extension": ".py",
   "mimetype": "text/x-python",
   "name": "python",
   "nbconvert_exporter": "python",
   "pygments_lexer": "ipython3",
   "version": "3.8.5"
  },
  "toc": {
   "base_numbering": 1,
   "nav_menu": {},
   "number_sections": true,
   "sideBar": true,
   "skip_h1_title": false,
   "title_cell": "Table of Contents",
   "title_sidebar": "Contents",
   "toc_cell": false,
   "toc_position": {},
   "toc_section_display": true,
   "toc_window_display": false
  },
  "varInspector": {
   "cols": {
    "lenName": 16,
    "lenType": 16,
    "lenVar": 40
   },
   "kernels_config": {
    "python": {
     "delete_cmd_postfix": "",
     "delete_cmd_prefix": "del ",
     "library": "var_list.py",
     "varRefreshCmd": "print(var_dic_list())"
    },
    "r": {
     "delete_cmd_postfix": ") ",
     "delete_cmd_prefix": "rm(",
     "library": "var_list.r",
     "varRefreshCmd": "cat(var_dic_list()) "
    }
   },
   "types_to_exclude": [
    "module",
    "function",
    "builtin_function_or_method",
    "instance",
    "_Feature"
   ],
   "window_display": false
  }
 },
 "nbformat": 4,
 "nbformat_minor": 4
}
